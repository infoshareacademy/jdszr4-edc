{
 "cells": [
  {
   "cell_type": "code",
   "execution_count": 55,
   "metadata": {},
   "outputs": [],
   "source": [
    "import numpy as np\n",
    "import pandas as pd\n",
    "import os\n",
    "import tensorflow as tf\n",
    "from tensorflow import keras as keras\n",
    "import matplotlib.pyplot as plt\n",
    "import seaborn as sns\n",
    "from tensorflow import keras\n",
    "import tensorflow_datasets as tfds\n",
    "from sklearn.metrics import classification_report\n",
    "from sklearn.model_selection import train_test_split \n",
    "from tensorflow.keras.preprocessing.image import ImageDataGenerator\n",
    "from tensorflow.keras.models import Sequential\n",
    "from tensorflow.keras.layers import MaxPooling2D, Dense, Dropout,Flatten, Conv2D\n",
    "from tensorflow.keras.layers import BatchNormalization"
   ]
  },
  {
   "cell_type": "markdown",
   "metadata": {},
   "source": [
    "# ładowanie danych i utworzenie data frame'u"
   ]
  },
  {
   "cell_type": "code",
   "execution_count": 57,
   "metadata": {},
   "outputs": [
    {
     "name": "stdout",
     "output_type": "stream",
     "text": [
      "brain_tumor    2513\n",
      "good_health    2087\n",
      "Name: labels, dtype: int64\n"
     ]
    }
   ],
   "source": [
    "tumor_dir_path='C://Users//jk/Desktop//data science - infoshare//projekt_SQL//jdszr4-edc//4-projekt-dl//Brain Tumor Data Set//Brain Tumor'\n",
    "non_tumor_path='C://Users//jk/Desktop//data science - infoshare//projekt_SQL//jdszr4-edc//4-projekt-dl//Brain Tumor Data Set//Healthy'\n",
    "filepaths = []\n",
    "labels= []\n",
    "dict_list = [tumor_dir_path, non_tumor_path]\n",
    "for i, j in enumerate(dict_list):\n",
    "    flist=os.listdir(j)\n",
    "    for f in flist:\n",
    "        fpath=os.path.join(j,f)\n",
    "        filepaths.append(fpath)\n",
    "        if i==0:\n",
    "            labels.append('brain_tumor')\n",
    "        else:\n",
    "            labels.append('good_health') \n",
    "    \n",
    "fpath_s = pd.Series(filepaths, name=\"filepaths\")\n",
    "lbl_s = pd.Series(labels, name=\"labels\")\n",
    "tumor_data = pd.concat([fpath_s,lbl_s], axis=1)\n",
    "df = pd.DataFrame(tumor_data)\n",
    "print(df[\"labels\"].value_counts())"
   ]
  },
  {
   "cell_type": "markdown",
   "metadata": {},
   "source": [
    "# Train test split"
   ]
  },
  {
   "cell_type": "code",
   "execution_count": 59,
   "metadata": {},
   "outputs": [],
   "source": [
    "train_images, test_images = train_test_split(df, test_size=0.3, random_state=42)\n",
    "train_set, val_set = train_test_split(df, test_size=0.2, random_state=42)"
   ]
  },
  {
   "cell_type": "code",
   "execution_count": 60,
   "metadata": {},
   "outputs": [
    {
     "name": "stdout",
     "output_type": "stream",
     "text": [
      "(3680, 2)\n",
      "(1380, 2)\n",
      "(920, 2)\n",
      "(3220, 2)\n"
     ]
    }
   ],
   "source": [
    "print(train_set.shape)\n",
    "print(test_images.shape)\n",
    "print(val_set.shape)\n",
    "print(train_images.shape)"
   ]
  },
  {
   "cell_type": "markdown",
   "metadata": {},
   "source": [
    "# Data augmentation"
   ]
  },
  {
   "cell_type": "code",
   "execution_count": 61,
   "metadata": {},
   "outputs": [
    {
     "name": "stdout",
     "output_type": "stream",
     "text": [
      "Found 3220 validated image filenames belonging to 2 classes.\n",
      "Found 1380 validated image filenames belonging to 2 classes.\n",
      "Found 920 validated image filenames belonging to 2 classes.\n"
     ]
    }
   ],
   "source": [
    "image_gen = ImageDataGenerator(preprocessing_function= tf.keras.applications.mobilenet_v2.preprocess_input)\n",
    "train = image_gen.flow_from_dataframe(dataframe= train_images,x_col=\"filepaths\",y_col=\"labels\",\n",
    "                                      target_size=(244,244),\n",
    "                                      color_mode='rgb',\n",
    "                                      class_mode=\"categorical\", #used for Sequential Model\n",
    "                                      batch_size=100,\n",
    "                                      shuffle=False            #do not shuffle data\n",
    "                                     )\n",
    "test = image_gen.flow_from_dataframe(dataframe= test_images,x_col=\"filepaths\", y_col=\"labels\",\n",
    "                                     target_size=(244,244),\n",
    "                                     color_mode='rgb',\n",
    "                                     class_mode=\"categorical\",\n",
    "                                     batch_size=100,\n",
    "                                     shuffle= False\n",
    "                                    )\n",
    "val = image_gen.flow_from_dataframe(dataframe= val_set,x_col=\"filepaths\", y_col=\"labels\",\n",
    "                                    target_size=(244,244),\n",
    "                                    color_mode= 'rgb',\n",
    "                                    class_mode=\"categorical\",\n",
    "                                    batch_size=100,\n",
    "                                    shuffle=False\n",
    "                                   )"
   ]
  },
  {
   "cell_type": "markdown",
   "metadata": {},
   "source": [
    "# Model"
   ]
  },
  {
   "cell_type": "code",
   "execution_count": 7,
   "metadata": {},
   "outputs": [],
   "source": [
    "model2 = Sequential()\n",
    "\n",
    "model2.add(Conv2D(filters=32,kernel_size=(3,3),strides=(1,1), activation=\"relu\", padding='valid',\n",
    "               input_shape=(244,244,3)))\n",
    "\n",
    "model2.add(MaxPooling2D(pool_size=(2,2)))\n",
    "\n",
    "#adding flatten layer\n",
    "model2.add(BatchNormalization())\n",
    "model2.add(Flatten())\n",
    "\n",
    "#adding dense layers\n",
    "model2.add(Dense(128, activation='relu'))\n",
    "\n",
    "\n",
    "#Output layer\n",
    "model2.add(Dense(2, activation=\"softmax\"))"
   ]
  },
  {
   "cell_type": "code",
   "execution_count": 8,
   "metadata": {},
   "outputs": [],
   "source": [
    "model2.compile(optimizer=\"adam\", loss=\"categorical_crossentropy\", metrics=[\"accuracy\"])"
   ]
  },
  {
   "cell_type": "code",
   "execution_count": 9,
   "metadata": {},
   "outputs": [
    {
     "name": "stdout",
     "output_type": "stream",
     "text": [
      "Model: \"sequential\"\n",
      "_________________________________________________________________\n",
      "Layer (type)                 Output Shape              Param #   \n",
      "=================================================================\n",
      "conv2d (Conv2D)              (None, 242, 242, 32)      896       \n",
      "_________________________________________________________________\n",
      "max_pooling2d (MaxPooling2D) (None, 121, 121, 32)      0         \n",
      "_________________________________________________________________\n",
      "batch_normalization (BatchNo (None, 121, 121, 32)      128       \n",
      "_________________________________________________________________\n",
      "flatten (Flatten)            (None, 468512)            0         \n",
      "_________________________________________________________________\n",
      "dense (Dense)                (None, 128)               59969664  \n",
      "_________________________________________________________________\n",
      "dense_1 (Dense)              (None, 2)                 258       \n",
      "=================================================================\n",
      "Total params: 59,970,946\n",
      "Trainable params: 59,970,882\n",
      "Non-trainable params: 64\n",
      "_________________________________________________________________\n"
     ]
    }
   ],
   "source": [
    "model2.summary()"
   ]
  },
  {
   "cell_type": "markdown",
   "metadata": {},
   "source": [
    "# Trening"
   ]
  },
  {
   "cell_type": "code",
   "execution_count": 10,
   "metadata": {},
   "outputs": [
    {
     "name": "stdout",
     "output_type": "stream",
     "text": [
      "Epoch 1/15\n",
      "33/33 [==============================] - 256s 8s/step - loss: 51.8536 - accuracy: 0.5274 - val_loss: 1.2541 - val_accuracy: 0.4467\n",
      "Epoch 2/15\n",
      "33/33 [==============================] - 230s 7s/step - loss: 0.6943 - accuracy: 0.6030 - val_loss: 0.6927 - val_accuracy: 0.5696\n",
      "Epoch 3/15\n",
      "33/33 [==============================] - 193s 6s/step - loss: 0.5181 - accuracy: 0.7181 - val_loss: 0.5658 - val_accuracy: 0.6935\n",
      "Epoch 4/15\n",
      "33/33 [==============================] - 188s 6s/step - loss: 0.3139 - accuracy: 0.9195 - val_loss: 0.4109 - val_accuracy: 0.7913\n",
      "Epoch 5/15\n",
      "33/33 [==============================] - 182s 5s/step - loss: 0.1056 - accuracy: 0.9676 - val_loss: 0.3503 - val_accuracy: 0.8315\n",
      "Epoch 6/15\n",
      "33/33 [==============================] - 184s 6s/step - loss: 0.0480 - accuracy: 0.9836 - val_loss: 0.2722 - val_accuracy: 0.8837\n",
      "Epoch 7/15\n",
      "33/33 [==============================] - 181s 5s/step - loss: 0.0181 - accuracy: 0.9956 - val_loss: 0.2232 - val_accuracy: 0.9152\n",
      "Epoch 8/15\n",
      "33/33 [==============================] - 177s 5s/step - loss: 0.0090 - accuracy: 0.9968 - val_loss: 0.1806 - val_accuracy: 0.9391\n",
      "Epoch 9/15\n",
      "33/33 [==============================] - 185s 6s/step - loss: 0.0040 - accuracy: 0.9985 - val_loss: 0.1766 - val_accuracy: 0.9326\n",
      "Epoch 10/15\n",
      "33/33 [==============================] - 182s 5s/step - loss: 0.0035 - accuracy: 0.9971 - val_loss: 0.1559 - val_accuracy: 0.9565\n",
      "Epoch 11/15\n",
      "33/33 [==============================] - 182s 5s/step - loss: 0.0021 - accuracy: 0.9986 - val_loss: 0.1555 - val_accuracy: 0.9533\n",
      "Epoch 12/15\n",
      "33/33 [==============================] - 172s 5s/step - loss: 0.0026 - accuracy: 0.9977 - val_loss: 0.1640 - val_accuracy: 0.9565\n",
      "Epoch 13/15\n",
      "33/33 [==============================] - 167s 5s/step - loss: 0.0030 - accuracy: 0.9968 - val_loss: 0.1738 - val_accuracy: 0.9565\n",
      "Epoch 14/15\n",
      "33/33 [==============================] - 167s 5s/step - loss: 0.0028 - accuracy: 0.9969 - val_loss: 0.1881 - val_accuracy: 0.9576\n",
      "Epoch 15/15\n",
      "33/33 [==============================] - 166s 5s/step - loss: 0.0017 - accuracy: 0.9984 - val_loss: 0.2267 - val_accuracy: 0.9554\n"
     ]
    }
   ],
   "source": [
    "History = model2.fit(train, validation_data= val, epochs=15,verbose=1)"
   ]
  },
  {
   "cell_type": "code",
   "execution_count": 11,
   "metadata": {},
   "outputs": [
    {
     "data": {
      "text/plain": [
       "dict_keys(['loss', 'accuracy', 'val_loss', 'val_accuracy'])"
      ]
     },
     "execution_count": 11,
     "metadata": {},
     "output_type": "execute_result"
    }
   ],
   "source": [
    "History.history.keys()"
   ]
  },
  {
   "cell_type": "markdown",
   "metadata": {},
   "source": [
    "# Wykresy accuracy i loss"
   ]
  },
  {
   "cell_type": "code",
   "execution_count": 13,
   "metadata": {},
   "outputs": [
    {
     "data": {
      "image/png": "[encoded data removed]",
      "text/plain": [
       "<Figure size 432x288 with 1 Axes>"
      ]
     },
     "metadata": {
      "needs_background": "light"
     },
     "output_type": "display_data"
    }
   ],
   "source": [
    "plt.plot(History.history['loss'][1:])\n",
    "plt.plot(History.history['val_loss'][1:])\n",
    "plt.legend(['train', 'valid'])\n",
    "plt.show();"
   ]
  },
  {
   "cell_type": "code",
   "execution_count": 14,
   "metadata": {},
   "outputs": [
    {
     "data": {
      "image/png": "[encoded data removed]",
      "text/plain": [
       "<Figure size 432x288 with 1 Axes>"
      ]
     },
     "metadata": {
      "needs_background": "light"
     },
     "output_type": "display_data"
    }
   ],
   "source": [
    "plt.plot(History.history['accuracy'][1:])\n",
    "plt.plot(History.history['val_accuracy'][1:])\n",
    "plt.legend(['train', 'valid'])\n",
    "plt.show();"
   ]
  },
  {
   "cell_type": "markdown",
   "metadata": {},
   "source": [
    "# Test"
   ]
  },
  {
   "cell_type": "code",
   "execution_count": 62,
   "metadata": {},
   "outputs": [
    {
     "name": "stdout",
     "output_type": "stream",
     "text": [
      "14/14 [==============================] - 26s 2s/step - loss: 0.1961 - accuracy: 0.9609\n"
     ]
    }
   ],
   "source": [
    "y_pred = model2.evaluate(test, verbose=1)"
   ]
  },
  {
   "cell_type": "code",
   "execution_count": 74,
   "metadata": {},
   "outputs": [],
   "source": [
    "pred = model2.predict(test)\n",
    "pred = np.argmax(pred, axis=1) #pick class with highest  probability\n",
    "\n",
    "labels = (train.class_indices)\n",
    "labels = dict((v,k) for k,v in labels.items())\n",
    "pred2 = [labels[k] for k in pred]"
   ]
  },
  {
   "cell_type": "code",
   "execution_count": 75,
   "metadata": {},
   "outputs": [
    {
     "name": "stdout",
     "output_type": "stream",
     "text": [
      "              precision    recall  f1-score   support\n",
      "\n",
      " brain_tumor       0.96      0.97      0.97       779\n",
      " good_health       0.96      0.95      0.95       601\n",
      "\n",
      "    accuracy                           0.96      1380\n",
      "   macro avg       0.96      0.96      0.96      1380\n",
      "weighted avg       0.96      0.96      0.96      1380\n",
      "\n",
      "Accuracy of the Model: 96.08695652173913 %\n"
     ]
    }
   ],
   "source": [
    "y_test = test_images.labels # set y_test to the expected output\n",
    "print(classification_report(y_test, pred2))\n",
    "print(\"Accuracy of the Model:\",accuracy_score(y_test, pred2)*100,\"%\")"
   ]
  },
  {
   "cell_type": "code",
   "execution_count": null,
   "metadata": {},
   "outputs": [],
   "source": []
  },
  {
   "cell_type": "code",
   "execution_count": null,
   "metadata": {},
   "outputs": [],
   "source": []
  }
 ],
 "metadata": {
  "kernelspec": {
   "display_name": "py3-TF2.0",
   "language": "python",
   "name": "py3-tf2.0"
  },
  "language_info": {
   "codemirror_mode": {
    "name": "ipython",
    "version": 3
   },
   "file_extension": ".py",
   "mimetype": "text/x-python",
   "name": "python",
   "nbconvert_exporter": "python",
   "pygments_lexer": "ipython3",
   "version": "3.8.5"
  }
 },
 "nbformat": 4,
 "nbformat_minor": 4
}
