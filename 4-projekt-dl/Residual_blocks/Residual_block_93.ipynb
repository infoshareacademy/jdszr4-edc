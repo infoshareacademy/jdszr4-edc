{
 "cells": [
  {
   "cell_type": "code",
   "execution_count": 81,
   "metadata": {},
   "outputs": [],
   "source": [
    "import numpy as np\n",
    "import pandas as pd\n",
    "import os\n",
    "import tensorflow as tf\n",
    "from tensorflow import keras as keras\n",
    "import matplotlib.pyplot as plt\n",
    "import seaborn as sns\n",
    "from tensorflow import keras\n",
    "import tensorflow_datasets as tfds\n",
    "from sklearn.metrics import classification_report\n",
    "from sklearn.model_selection import train_test_split\n",
    "from sklearn.metrics import confusion_matrix , classification_report\n",
    "from tensorflow.keras.preprocessing.image import ImageDataGenerator\n",
    "from tensorflow.keras.models import Sequential\n",
    "from tensorflow.keras.layers import MaxPooling2D, Dense, Dropout,Flatten, Conv2D\n",
    "from tensorflow.keras.layers import BatchNormalization"
   ]
  },
  {
   "cell_type": "code",
   "execution_count": 32,
   "metadata": {},
   "outputs": [
    {
     "name": "stdout",
     "output_type": "stream",
     "text": [
      "brain_tumor    2513\n",
      "good_health    2087\n",
      "Name: lbl, dtype: int64\n"
     ]
    }
   ],
   "source": [
    "#ładowanie danych i utworzenie data frame'u\n",
    "\n",
    "tumor_dir_path='C://Users//jk/Desktop//data science - infoshare//projekt_SQL//jdszr4-edc//4-projekt-dl//Brain Tumor Data Set//Brain Tumor'\n",
    "non_tumor_path='C://Users//jk/Desktop//data science - infoshare//projekt_SQL//jdszr4-edc//4-projekt-dl//Brain Tumor Data Set//Healthy'\n",
    "filepaths = []\n",
    "labels= []\n",
    "dict_list = [tumor_dir_path, non_tumor_path]\n",
    "for i, j in enumerate(dict_list):\n",
    "    flist=os.listdir(j)\n",
    "    for f in flist:\n",
    "        fpath=os.path.join(j,f)\n",
    "        filepaths.append(fpath)\n",
    "        if i==0:\n",
    "          labels.append('brain_tumor')\n",
    "        else:\n",
    "          labels.append('good_health') \n",
    "    \n",
    "fpath_s = pd.Series(filepaths, name=\"filepaths\")\n",
    "lbl_s = pd.Series(labels, name=\"lbl\")\n",
    "tumor_data = pd.concat([fpath_s,lbl_s], axis=1)\n",
    "df = pd.DataFrame(tumor_data)\n",
    "print(df[\"lbl\"].value_counts())"
   ]
  },
  {
   "cell_type": "code",
   "execution_count": 33,
   "metadata": {},
   "outputs": [
    {
     "data": {
      "text/plain": [
       "(4600, 2)"
      ]
     },
     "execution_count": 33,
     "metadata": {},
     "output_type": "execute_result"
    }
   ],
   "source": [
    "df.shape"
   ]
  },
  {
   "cell_type": "markdown",
   "metadata": {},
   "source": [
    "# TRAIN TEST SPLIT"
   ]
  },
  {
   "cell_type": "code",
   "execution_count": 70,
   "metadata": {},
   "outputs": [],
   "source": [
    "train_images, test_images = train_test_split(df, test_size=0.3, random_state=42)\n",
    "train_set, val_set = train_test_split(df, test_size=0.2, random_state=42)"
   ]
  },
  {
   "cell_type": "code",
   "execution_count": 35,
   "metadata": {},
   "outputs": [
    {
     "name": "stdout",
     "output_type": "stream",
     "text": [
      "(3680, 2)\n",
      "(1380, 2)\n",
      "(920, 2)\n",
      "(3220, 2)\n"
     ]
    }
   ],
   "source": [
    "print(train_set.shape)\n",
    "print(test_images.shape)\n",
    "print(val_set.shape)\n",
    "print(train_images.shape)"
   ]
  },
  {
   "cell_type": "code",
   "execution_count": 36,
   "metadata": {},
   "outputs": [
    {
     "name": "stdout",
     "output_type": "stream",
     "text": [
      "Found 3220 validated image filenames belonging to 2 classes.\n",
      "Found 1380 validated image filenames belonging to 2 classes.\n",
      "Found 920 validated image filenames belonging to 2 classes.\n"
     ]
    }
   ],
   "source": [
    "image_gen = ImageDataGenerator(preprocessing_function= tf.keras.applications.mobilenet_v2.preprocess_input)\n",
    "train = image_gen.flow_from_dataframe(dataframe= train_images,x_col=\"filepaths\",y_col=\"lbl\",\n",
    "                                      target_size=(244,244),\n",
    "                                      color_mode='rgb',\n",
    "                                      class_mode=\"categorical\", #used for Sequential Model\n",
    "                                      batch_size=32,\n",
    "                                      shuffle=False            #do not shuffle data\n",
    "                                     )\n",
    "test = image_gen.flow_from_dataframe(dataframe= test_images,x_col=\"filepaths\", y_col=\"lbl\",\n",
    "                                     target_size=(244,244),\n",
    "                                     color_mode='rgb',\n",
    "                                     class_mode=\"categorical\",\n",
    "                                     batch_size=32,\n",
    "                                     shuffle= False\n",
    "                                    )\n",
    "val = image_gen.flow_from_dataframe(dataframe= val_set,x_col=\"filepaths\", y_col=\"lbl\",\n",
    "                                    target_size=(244,244),\n",
    "                                    color_mode= 'rgb',\n",
    "                                    class_mode=\"categorical\",\n",
    "                                    batch_size=32,\n",
    "                                    shuffle=False\n",
    "                                   )"
   ]
  },
  {
   "cell_type": "markdown",
   "metadata": {},
   "source": [
    "# MODEL"
   ]
  },
  {
   "cell_type": "code",
   "execution_count": 42,
   "metadata": {},
   "outputs": [],
   "source": [
    "model = Sequential()\n",
    "\n",
    "model.add(Conv2D(filters=32,kernel_size=(3,3),strides=(1,1), activation=\"relu\", padding=\"same\",\n",
    "               input_shape=(244,244,3)))\n",
    "model.add(MaxPooling2D(pool_size=(2,2)))\n",
    "\n",
    "#adding flatten layer\n",
    "model.add(BatchNormalization())\n",
    "model.add(Flatten())\n",
    "\n",
    "#adding dense layers with dropout\n",
    "model.add(Dense(128, activation='relu'))\n",
    "model.add(Dropout(rate=0.3))\n",
    "model.add(Dense(64, activation=\"relu\"))\n",
    "\n",
    "#Output layer\n",
    "model.add(Dense(2, activation=\"softmax\"))"
   ]
  },
  {
   "cell_type": "code",
   "execution_count": 44,
   "metadata": {},
   "outputs": [],
   "source": [
    "model.compile(optimizer=\"adam\", loss=\"categorical_crossentropy\", metrics=[\"accuracy\"])"
   ]
  },
  {
   "cell_type": "code",
   "execution_count": 45,
   "metadata": {},
   "outputs": [
    {
     "name": "stdout",
     "output_type": "stream",
     "text": [
      "Model: \"sequential_4\"\n",
      "_________________________________________________________________\n",
      "Layer (type)                 Output Shape              Param #   \n",
      "=================================================================\n",
      "conv2d_4 (Conv2D)            (None, 244, 244, 32)      896       \n",
      "_________________________________________________________________\n",
      "max_pooling2d_4 (MaxPooling2 (None, 122, 122, 32)      0         \n",
      "_________________________________________________________________\n",
      "batch_normalization_4 (Batch (None, 122, 122, 32)      128       \n",
      "_________________________________________________________________\n",
      "flatten_4 (Flatten)          (None, 476288)            0         \n",
      "_________________________________________________________________\n",
      "dense_12 (Dense)             (None, 128)               60964992  \n",
      "_________________________________________________________________\n",
      "dropout_4 (Dropout)          (None, 128)               0         \n",
      "_________________________________________________________________\n",
      "dense_13 (Dense)             (None, 64)                8256      \n",
      "_________________________________________________________________\n",
      "dense_14 (Dense)             (None, 2)                 130       \n",
      "=================================================================\n",
      "Total params: 60,974,402\n",
      "Trainable params: 60,974,338\n",
      "Non-trainable params: 64\n",
      "_________________________________________________________________\n"
     ]
    }
   ],
   "source": [
    "model.summary()"
   ]
  },
  {
   "cell_type": "markdown",
   "metadata": {},
   "source": [
    "# TRENING"
   ]
  },
  {
   "cell_type": "code",
   "execution_count": 51,
   "metadata": {},
   "outputs": [
    {
     "name": "stdout",
     "output_type": "stream",
     "text": [
      "Epoch 1/15\n",
      "101/101 [==============================] - 274s 3s/step - loss: 0.3742 - accuracy: 0.8255 - val_loss: 0.3307 - val_accuracy: 0.8772\n",
      "Epoch 2/15\n",
      "101/101 [==============================] - 256s 3s/step - loss: 0.4319 - accuracy: 0.7693 - val_loss: 0.4607 - val_accuracy: 0.8837\n",
      "Epoch 3/15\n",
      "101/101 [==============================] - 270s 3s/step - loss: 0.3496 - accuracy: 0.8512 - val_loss: 0.4961 - val_accuracy: 0.8891\n",
      "Epoch 4/15\n",
      "101/101 [==============================] - 248s 2s/step - loss: 0.4011 - accuracy: 0.8484 - val_loss: 0.5264 - val_accuracy: 0.8946\n",
      "Epoch 5/15\n",
      "101/101 [==============================] - 301s 3s/step - loss: 0.3693 - accuracy: 0.8463 - val_loss: 0.5400 - val_accuracy: 0.8913\n",
      "Epoch 6/15\n",
      "101/101 [==============================] - 250s 2s/step - loss: 0.3127 - accuracy: 0.8683 - val_loss: 0.6130 - val_accuracy: 0.9043\n",
      "Epoch 7/15\n",
      "101/101 [==============================] - 276s 3s/step - loss: 0.2970 - accuracy: 0.8714 - val_loss: 0.6478 - val_accuracy: 0.9033\n",
      "Epoch 8/15\n",
      "101/101 [==============================] - 301s 3s/step - loss: 0.2884 - accuracy: 0.8879 - val_loss: 0.5621 - val_accuracy: 0.9065\n",
      "Epoch 9/15\n",
      "101/101 [==============================] - 295s 3s/step - loss: 0.3335 - accuracy: 0.8845 - val_loss: 0.9442 - val_accuracy: 0.8609\n",
      "Epoch 10/15\n",
      "101/101 [==============================] - 269s 3s/step - loss: 0.6755 - accuracy: 0.8224 - val_loss: 1.0035 - val_accuracy: 0.8163\n",
      "Epoch 11/15\n",
      "101/101 [==============================] - 288s 3s/step - loss: 0.4732 - accuracy: 0.8196 - val_loss: 0.6203 - val_accuracy: 0.9043\n",
      "Epoch 12/15\n",
      "101/101 [==============================] - 287s 3s/step - loss: 0.2460 - accuracy: 0.8587 - val_loss: 0.6006 - val_accuracy: 0.9217\n",
      "Epoch 13/15\n",
      "101/101 [==============================] - 300s 3s/step - loss: 0.3065 - accuracy: 0.8407 - val_loss: 0.5190 - val_accuracy: 0.8598\n",
      "Epoch 14/15\n",
      "101/101 [==============================] - 279s 3s/step - loss: 0.2388 - accuracy: 0.8764 - val_loss: 0.4512 - val_accuracy: 0.9228\n",
      "Epoch 15/15\n",
      "101/101 [==============================] - 273s 3s/step - loss: 0.2485 - accuracy: 0.8839 - val_loss: 0.5859 - val_accuracy: 0.9326\n"
     ]
    }
   ],
   "source": [
    "History = model.fit(train, validation_data= val, epochs=15,verbose=1)"
   ]
  },
  {
   "cell_type": "markdown",
   "metadata": {},
   "source": [
    "# Wykresy Loss i Accuracy"
   ]
  },
  {
   "cell_type": "code",
   "execution_count": 54,
   "metadata": {},
   "outputs": [
    {
     "data": {
      "text/plain": [
       "dict_keys(['loss', 'accuracy', 'val_loss', 'val_accuracy'])"
      ]
     },
     "execution_count": 54,
     "metadata": {},
     "output_type": "execute_result"
    }
   ],
   "source": [
    "History.history.keys()"
   ]
  },
  {
   "cell_type": "code",
   "execution_count": 55,
   "metadata": {},
   "outputs": [
    {
     "data": {
      "image/png": "[encoded data removed]",
      "text/plain": [
       "<Figure size 432x288 with 1 Axes>"
      ]
     },
     "metadata": {
      "needs_background": "light"
     },
     "output_type": "display_data"
    }
   ],
   "source": [
    "plt.plot(History.history['loss'][1:])\n",
    "plt.plot(History.history['val_loss'][1:])\n",
    "plt.legend(['train', 'valid'])\n",
    "plt.show();"
   ]
  },
  {
   "cell_type": "code",
   "execution_count": 56,
   "metadata": {},
   "outputs": [
    {
     "data": {
      "image/png": "[encoded data removed]",
      "text/plain": [
       "<Figure size 432x288 with 1 Axes>"
      ]
     },
     "metadata": {
      "needs_background": "light"
     },
     "output_type": "display_data"
    }
   ],
   "source": [
    "plt.plot(History.history['accuracy'][1:])\n",
    "plt.plot(History.history['val_accuracy'][1:])\n",
    "plt.legend(['train', 'valid'])\n",
    "plt.show();"
   ]
  },
  {
   "cell_type": "markdown",
   "metadata": {},
   "source": [
    "# TEST"
   ]
  },
  {
   "cell_type": "code",
   "execution_count": 98,
   "metadata": {},
   "outputs": [
    {
     "name": "stdout",
     "output_type": "stream",
     "text": [
      "44/44 [==============================] - 19s 436ms/step - loss: 0.4842 - accuracy: 0.9341\n"
     ]
    }
   ],
   "source": [
    "y_pred = model.evaluate(test, verbose=1)"
   ]
  }
 ],
 "metadata": {
  "kernelspec": {
   "display_name": "py3-TF2.0",
   "language": "python",
   "name": "py3-tf2.0"
  },
  "language_info": {
   "codemirror_mode": {
    "name": "ipython",
    "version": 3
   },
   "file_extension": ".py",
   "mimetype": "text/x-python",
   "name": "python",
   "nbconvert_exporter": "python",
   "pygments_lexer": "ipython3",
   "version": "3.8.5"
  }
 },
 "nbformat": 4,
 "nbformat_minor": 4
}
