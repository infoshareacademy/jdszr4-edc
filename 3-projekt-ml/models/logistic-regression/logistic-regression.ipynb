{
 "cells": [
  {
   "cell_type": "markdown",
   "metadata": {},
   "source": [
    "# Regresja logistyczna\n",
    "## 3-projekt-ml"
   ]
  },
  {
   "cell_type": "markdown",
   "metadata": {},
   "source": [
    "## Import danych"
   ]
  },
  {
   "cell_type": "code",
   "execution_count": 1,
   "metadata": {},
   "outputs": [],
   "source": [
    "# Import bibliotek (pandas – tabelki)\n",
    "import pandas as pd"
   ]
  },
  {
   "cell_type": "code",
   "execution_count": 2,
   "metadata": {},
   "outputs": [],
   "source": [
    "# Import danych – label encoded\n",
    "df_le = pd.read_csv('../../data_preparation/label_encoded_df.zip')\n",
    "\n",
    "# Import danych – one hot encoded\n",
    "df_ohe = pd.read_csv('../../data_preparation/dummiefied_df.zip')"
   ]
  },
  {
   "cell_type": "code",
   "execution_count": 3,
   "metadata": {},
   "outputs": [
    {
     "data": {
      "text/html": [
       "<div>\n",
       "<style scoped>\n",
       "    .dataframe tbody tr th:only-of-type {\n",
       "        vertical-align: middle;\n",
       "    }\n",
       "\n",
       "    .dataframe tbody tr th {\n",
       "        vertical-align: top;\n",
       "    }\n",
       "\n",
       "    .dataframe thead th {\n",
       "        text-align: right;\n",
       "    }\n",
       "</style>\n",
       "<table border=\"1\" class=\"dataframe\">\n",
       "  <thead>\n",
       "    <tr style=\"text-align: right;\">\n",
       "      <th></th>\n",
       "      <th>class</th>\n",
       "      <th>cap-shape</th>\n",
       "      <th>cap-surface</th>\n",
       "      <th>cap-color</th>\n",
       "      <th>bruises</th>\n",
       "      <th>odor</th>\n",
       "      <th>gill-attachment</th>\n",
       "      <th>gill-spacing</th>\n",
       "      <th>gill-size</th>\n",
       "      <th>gill-color</th>\n",
       "      <th>...</th>\n",
       "      <th>stalk-surface-above-ring</th>\n",
       "      <th>stalk-surface-below-ring</th>\n",
       "      <th>stalk-color-above-ring</th>\n",
       "      <th>stalk-color-below-ring</th>\n",
       "      <th>veil-color</th>\n",
       "      <th>ring-number</th>\n",
       "      <th>ring-type</th>\n",
       "      <th>spore-print-color</th>\n",
       "      <th>population</th>\n",
       "      <th>habitat</th>\n",
       "    </tr>\n",
       "  </thead>\n",
       "  <tbody>\n",
       "    <tr>\n",
       "      <th>5985</th>\n",
       "      <td>1</td>\n",
       "      <td>5</td>\n",
       "      <td>3</td>\n",
       "      <td>4</td>\n",
       "      <td>0</td>\n",
       "      <td>2</td>\n",
       "      <td>1</td>\n",
       "      <td>0</td>\n",
       "      <td>1</td>\n",
       "      <td>0</td>\n",
       "      <td>...</td>\n",
       "      <td>2</td>\n",
       "      <td>1</td>\n",
       "      <td>6</td>\n",
       "      <td>7</td>\n",
       "      <td>2</td>\n",
       "      <td>1</td>\n",
       "      <td>0</td>\n",
       "      <td>7</td>\n",
       "      <td>4</td>\n",
       "      <td>2</td>\n",
       "    </tr>\n",
       "    <tr>\n",
       "      <th>2062</th>\n",
       "      <td>0</td>\n",
       "      <td>2</td>\n",
       "      <td>0</td>\n",
       "      <td>3</td>\n",
       "      <td>0</td>\n",
       "      <td>5</td>\n",
       "      <td>1</td>\n",
       "      <td>1</td>\n",
       "      <td>0</td>\n",
       "      <td>7</td>\n",
       "      <td>...</td>\n",
       "      <td>0</td>\n",
       "      <td>2</td>\n",
       "      <td>7</td>\n",
       "      <td>7</td>\n",
       "      <td>2</td>\n",
       "      <td>1</td>\n",
       "      <td>0</td>\n",
       "      <td>3</td>\n",
       "      <td>3</td>\n",
       "      <td>1</td>\n",
       "    </tr>\n",
       "    <tr>\n",
       "      <th>5294</th>\n",
       "      <td>1</td>\n",
       "      <td>2</td>\n",
       "      <td>3</td>\n",
       "      <td>9</td>\n",
       "      <td>0</td>\n",
       "      <td>2</td>\n",
       "      <td>1</td>\n",
       "      <td>0</td>\n",
       "      <td>0</td>\n",
       "      <td>2</td>\n",
       "      <td>...</td>\n",
       "      <td>1</td>\n",
       "      <td>1</td>\n",
       "      <td>0</td>\n",
       "      <td>0</td>\n",
       "      <td>2</td>\n",
       "      <td>1</td>\n",
       "      <td>2</td>\n",
       "      <td>1</td>\n",
       "      <td>5</td>\n",
       "      <td>0</td>\n",
       "    </tr>\n",
       "    <tr>\n",
       "      <th>4497</th>\n",
       "      <td>0</td>\n",
       "      <td>2</td>\n",
       "      <td>2</td>\n",
       "      <td>4</td>\n",
       "      <td>1</td>\n",
       "      <td>5</td>\n",
       "      <td>1</td>\n",
       "      <td>0</td>\n",
       "      <td>0</td>\n",
       "      <td>1</td>\n",
       "      <td>...</td>\n",
       "      <td>2</td>\n",
       "      <td>2</td>\n",
       "      <td>7</td>\n",
       "      <td>7</td>\n",
       "      <td>2</td>\n",
       "      <td>2</td>\n",
       "      <td>0</td>\n",
       "      <td>7</td>\n",
       "      <td>1</td>\n",
       "      <td>6</td>\n",
       "    </tr>\n",
       "    <tr>\n",
       "      <th>2388</th>\n",
       "      <td>1</td>\n",
       "      <td>5</td>\n",
       "      <td>2</td>\n",
       "      <td>8</td>\n",
       "      <td>1</td>\n",
       "      <td>6</td>\n",
       "      <td>1</td>\n",
       "      <td>0</td>\n",
       "      <td>1</td>\n",
       "      <td>5</td>\n",
       "      <td>...</td>\n",
       "      <td>2</td>\n",
       "      <td>2</td>\n",
       "      <td>7</td>\n",
       "      <td>7</td>\n",
       "      <td>2</td>\n",
       "      <td>1</td>\n",
       "      <td>4</td>\n",
       "      <td>3</td>\n",
       "      <td>4</td>\n",
       "      <td>1</td>\n",
       "    </tr>\n",
       "    <tr>\n",
       "      <th>7584</th>\n",
       "      <td>0</td>\n",
       "      <td>0</td>\n",
       "      <td>0</td>\n",
       "      <td>8</td>\n",
       "      <td>0</td>\n",
       "      <td>5</td>\n",
       "      <td>1</td>\n",
       "      <td>1</td>\n",
       "      <td>0</td>\n",
       "      <td>2</td>\n",
       "      <td>...</td>\n",
       "      <td>1</td>\n",
       "      <td>2</td>\n",
       "      <td>7</td>\n",
       "      <td>7</td>\n",
       "      <td>2</td>\n",
       "      <td>2</td>\n",
       "      <td>4</td>\n",
       "      <td>7</td>\n",
       "      <td>3</td>\n",
       "      <td>1</td>\n",
       "    </tr>\n",
       "    <tr>\n",
       "      <th>4823</th>\n",
       "      <td>1</td>\n",
       "      <td>5</td>\n",
       "      <td>0</td>\n",
       "      <td>9</td>\n",
       "      <td>0</td>\n",
       "      <td>2</td>\n",
       "      <td>1</td>\n",
       "      <td>0</td>\n",
       "      <td>0</td>\n",
       "      <td>3</td>\n",
       "      <td>...</td>\n",
       "      <td>1</td>\n",
       "      <td>1</td>\n",
       "      <td>4</td>\n",
       "      <td>6</td>\n",
       "      <td>2</td>\n",
       "      <td>1</td>\n",
       "      <td>2</td>\n",
       "      <td>1</td>\n",
       "      <td>5</td>\n",
       "      <td>1</td>\n",
       "    </tr>\n",
       "    <tr>\n",
       "      <th>945</th>\n",
       "      <td>0</td>\n",
       "      <td>2</td>\n",
       "      <td>0</td>\n",
       "      <td>4</td>\n",
       "      <td>0</td>\n",
       "      <td>5</td>\n",
       "      <td>1</td>\n",
       "      <td>1</td>\n",
       "      <td>0</td>\n",
       "      <td>3</td>\n",
       "      <td>...</td>\n",
       "      <td>0</td>\n",
       "      <td>0</td>\n",
       "      <td>7</td>\n",
       "      <td>7</td>\n",
       "      <td>2</td>\n",
       "      <td>1</td>\n",
       "      <td>0</td>\n",
       "      <td>3</td>\n",
       "      <td>0</td>\n",
       "      <td>1</td>\n",
       "    </tr>\n",
       "    <tr>\n",
       "      <th>3447</th>\n",
       "      <td>1</td>\n",
       "      <td>5</td>\n",
       "      <td>0</td>\n",
       "      <td>3</td>\n",
       "      <td>0</td>\n",
       "      <td>2</td>\n",
       "      <td>1</td>\n",
       "      <td>0</td>\n",
       "      <td>0</td>\n",
       "      <td>2</td>\n",
       "      <td>...</td>\n",
       "      <td>1</td>\n",
       "      <td>1</td>\n",
       "      <td>0</td>\n",
       "      <td>0</td>\n",
       "      <td>2</td>\n",
       "      <td>1</td>\n",
       "      <td>2</td>\n",
       "      <td>1</td>\n",
       "      <td>5</td>\n",
       "      <td>0</td>\n",
       "    </tr>\n",
       "    <tr>\n",
       "      <th>4352</th>\n",
       "      <td>1</td>\n",
       "      <td>2</td>\n",
       "      <td>0</td>\n",
       "      <td>3</td>\n",
       "      <td>0</td>\n",
       "      <td>2</td>\n",
       "      <td>1</td>\n",
       "      <td>0</td>\n",
       "      <td>0</td>\n",
       "      <td>2</td>\n",
       "      <td>...</td>\n",
       "      <td>1</td>\n",
       "      <td>1</td>\n",
       "      <td>4</td>\n",
       "      <td>4</td>\n",
       "      <td>2</td>\n",
       "      <td>1</td>\n",
       "      <td>2</td>\n",
       "      <td>1</td>\n",
       "      <td>4</td>\n",
       "      <td>4</td>\n",
       "    </tr>\n",
       "  </tbody>\n",
       "</table>\n",
       "<p>10 rows × 22 columns</p>\n",
       "</div>"
      ],
      "text/plain": [
       "      class  cap-shape  cap-surface  cap-color  bruises  odor  \\\n",
       "5985      1          5            3          4        0     2   \n",
       "2062      0          2            0          3        0     5   \n",
       "5294      1          2            3          9        0     2   \n",
       "4497      0          2            2          4        1     5   \n",
       "2388      1          5            2          8        1     6   \n",
       "7584      0          0            0          8        0     5   \n",
       "4823      1          5            0          9        0     2   \n",
       "945       0          2            0          4        0     5   \n",
       "3447      1          5            0          3        0     2   \n",
       "4352      1          2            0          3        0     2   \n",
       "\n",
       "      gill-attachment  gill-spacing  gill-size  gill-color  ...  \\\n",
       "5985                1             0          1           0  ...   \n",
       "2062                1             1          0           7  ...   \n",
       "5294                1             0          0           2  ...   \n",
       "4497                1             0          0           1  ...   \n",
       "2388                1             0          1           5  ...   \n",
       "7584                1             1          0           2  ...   \n",
       "4823                1             0          0           3  ...   \n",
       "945                 1             1          0           3  ...   \n",
       "3447                1             0          0           2  ...   \n",
       "4352                1             0          0           2  ...   \n",
       "\n",
       "      stalk-surface-above-ring  stalk-surface-below-ring  \\\n",
       "5985                         2                         1   \n",
       "2062                         0                         2   \n",
       "5294                         1                         1   \n",
       "4497                         2                         2   \n",
       "2388                         2                         2   \n",
       "7584                         1                         2   \n",
       "4823                         1                         1   \n",
       "945                          0                         0   \n",
       "3447                         1                         1   \n",
       "4352                         1                         1   \n",
       "\n",
       "      stalk-color-above-ring  stalk-color-below-ring  veil-color  ring-number  \\\n",
       "5985                       6                       7           2            1   \n",
       "2062                       7                       7           2            1   \n",
       "5294                       0                       0           2            1   \n",
       "4497                       7                       7           2            2   \n",
       "2388                       7                       7           2            1   \n",
       "7584                       7                       7           2            2   \n",
       "4823                       4                       6           2            1   \n",
       "945                        7                       7           2            1   \n",
       "3447                       0                       0           2            1   \n",
       "4352                       4                       4           2            1   \n",
       "\n",
       "      ring-type  spore-print-color  population  habitat  \n",
       "5985          0                  7           4        2  \n",
       "2062          0                  3           3        1  \n",
       "5294          2                  1           5        0  \n",
       "4497          0                  7           1        6  \n",
       "2388          4                  3           4        1  \n",
       "7584          4                  7           3        1  \n",
       "4823          2                  1           5        1  \n",
       "945           0                  3           0        1  \n",
       "3447          2                  1           5        0  \n",
       "4352          2                  1           4        4  \n",
       "\n",
       "[10 rows x 22 columns]"
      ]
     },
     "execution_count": 3,
     "metadata": {},
     "output_type": "execute_result"
    }
   ],
   "source": [
    "# Podgląd próbki dla `df_le`\n",
    "df_le.sample(10)"
   ]
  },
  {
   "cell_type": "code",
   "execution_count": 4,
   "metadata": {},
   "outputs": [
    {
     "data": {
      "text/html": [
       "<div>\n",
       "<style scoped>\n",
       "    .dataframe tbody tr th:only-of-type {\n",
       "        vertical-align: middle;\n",
       "    }\n",
       "\n",
       "    .dataframe tbody tr th {\n",
       "        vertical-align: top;\n",
       "    }\n",
       "\n",
       "    .dataframe thead th {\n",
       "        text-align: right;\n",
       "    }\n",
       "</style>\n",
       "<table border=\"1\" class=\"dataframe\">\n",
       "  <thead>\n",
       "    <tr style=\"text-align: right;\">\n",
       "      <th></th>\n",
       "      <th>class_e</th>\n",
       "      <th>class_p</th>\n",
       "      <th>cap-shape_b</th>\n",
       "      <th>cap-shape_c</th>\n",
       "      <th>cap-shape_f</th>\n",
       "      <th>cap-shape_k</th>\n",
       "      <th>cap-shape_s</th>\n",
       "      <th>cap-shape_x</th>\n",
       "      <th>cap-surface_f</th>\n",
       "      <th>cap-surface_g</th>\n",
       "      <th>...</th>\n",
       "      <th>population_s</th>\n",
       "      <th>population_v</th>\n",
       "      <th>population_y</th>\n",
       "      <th>habitat_d</th>\n",
       "      <th>habitat_g</th>\n",
       "      <th>habitat_l</th>\n",
       "      <th>habitat_m</th>\n",
       "      <th>habitat_p</th>\n",
       "      <th>habitat_u</th>\n",
       "      <th>habitat_w</th>\n",
       "    </tr>\n",
       "  </thead>\n",
       "  <tbody>\n",
       "    <tr>\n",
       "      <th>7112</th>\n",
       "      <td>0</td>\n",
       "      <td>1</td>\n",
       "      <td>0</td>\n",
       "      <td>0</td>\n",
       "      <td>1</td>\n",
       "      <td>0</td>\n",
       "      <td>0</td>\n",
       "      <td>0</td>\n",
       "      <td>0</td>\n",
       "      <td>0</td>\n",
       "      <td>...</td>\n",
       "      <td>0</td>\n",
       "      <td>1</td>\n",
       "      <td>0</td>\n",
       "      <td>1</td>\n",
       "      <td>0</td>\n",
       "      <td>0</td>\n",
       "      <td>0</td>\n",
       "      <td>0</td>\n",
       "      <td>0</td>\n",
       "      <td>0</td>\n",
       "    </tr>\n",
       "    <tr>\n",
       "      <th>6264</th>\n",
       "      <td>0</td>\n",
       "      <td>1</td>\n",
       "      <td>0</td>\n",
       "      <td>0</td>\n",
       "      <td>1</td>\n",
       "      <td>0</td>\n",
       "      <td>0</td>\n",
       "      <td>0</td>\n",
       "      <td>0</td>\n",
       "      <td>0</td>\n",
       "      <td>...</td>\n",
       "      <td>0</td>\n",
       "      <td>1</td>\n",
       "      <td>0</td>\n",
       "      <td>1</td>\n",
       "      <td>0</td>\n",
       "      <td>0</td>\n",
       "      <td>0</td>\n",
       "      <td>0</td>\n",
       "      <td>0</td>\n",
       "      <td>0</td>\n",
       "    </tr>\n",
       "    <tr>\n",
       "      <th>5939</th>\n",
       "      <td>1</td>\n",
       "      <td>0</td>\n",
       "      <td>0</td>\n",
       "      <td>0</td>\n",
       "      <td>1</td>\n",
       "      <td>0</td>\n",
       "      <td>0</td>\n",
       "      <td>0</td>\n",
       "      <td>0</td>\n",
       "      <td>0</td>\n",
       "      <td>...</td>\n",
       "      <td>0</td>\n",
       "      <td>0</td>\n",
       "      <td>0</td>\n",
       "      <td>0</td>\n",
       "      <td>0</td>\n",
       "      <td>0</td>\n",
       "      <td>0</td>\n",
       "      <td>0</td>\n",
       "      <td>0</td>\n",
       "      <td>1</td>\n",
       "    </tr>\n",
       "    <tr>\n",
       "      <th>7822</th>\n",
       "      <td>0</td>\n",
       "      <td>1</td>\n",
       "      <td>0</td>\n",
       "      <td>0</td>\n",
       "      <td>0</td>\n",
       "      <td>1</td>\n",
       "      <td>0</td>\n",
       "      <td>0</td>\n",
       "      <td>0</td>\n",
       "      <td>0</td>\n",
       "      <td>...</td>\n",
       "      <td>0</td>\n",
       "      <td>1</td>\n",
       "      <td>0</td>\n",
       "      <td>0</td>\n",
       "      <td>0</td>\n",
       "      <td>0</td>\n",
       "      <td>0</td>\n",
       "      <td>1</td>\n",
       "      <td>0</td>\n",
       "      <td>0</td>\n",
       "    </tr>\n",
       "    <tr>\n",
       "      <th>6978</th>\n",
       "      <td>0</td>\n",
       "      <td>1</td>\n",
       "      <td>0</td>\n",
       "      <td>0</td>\n",
       "      <td>0</td>\n",
       "      <td>0</td>\n",
       "      <td>0</td>\n",
       "      <td>1</td>\n",
       "      <td>0</td>\n",
       "      <td>0</td>\n",
       "      <td>...</td>\n",
       "      <td>0</td>\n",
       "      <td>1</td>\n",
       "      <td>0</td>\n",
       "      <td>0</td>\n",
       "      <td>0</td>\n",
       "      <td>1</td>\n",
       "      <td>0</td>\n",
       "      <td>0</td>\n",
       "      <td>0</td>\n",
       "      <td>0</td>\n",
       "    </tr>\n",
       "    <tr>\n",
       "      <th>2206</th>\n",
       "      <td>1</td>\n",
       "      <td>0</td>\n",
       "      <td>0</td>\n",
       "      <td>0</td>\n",
       "      <td>0</td>\n",
       "      <td>0</td>\n",
       "      <td>0</td>\n",
       "      <td>1</td>\n",
       "      <td>0</td>\n",
       "      <td>0</td>\n",
       "      <td>...</td>\n",
       "      <td>0</td>\n",
       "      <td>1</td>\n",
       "      <td>0</td>\n",
       "      <td>1</td>\n",
       "      <td>0</td>\n",
       "      <td>0</td>\n",
       "      <td>0</td>\n",
       "      <td>0</td>\n",
       "      <td>0</td>\n",
       "      <td>0</td>\n",
       "    </tr>\n",
       "    <tr>\n",
       "      <th>3523</th>\n",
       "      <td>1</td>\n",
       "      <td>0</td>\n",
       "      <td>0</td>\n",
       "      <td>0</td>\n",
       "      <td>1</td>\n",
       "      <td>0</td>\n",
       "      <td>0</td>\n",
       "      <td>0</td>\n",
       "      <td>1</td>\n",
       "      <td>0</td>\n",
       "      <td>...</td>\n",
       "      <td>0</td>\n",
       "      <td>1</td>\n",
       "      <td>0</td>\n",
       "      <td>1</td>\n",
       "      <td>0</td>\n",
       "      <td>0</td>\n",
       "      <td>0</td>\n",
       "      <td>0</td>\n",
       "      <td>0</td>\n",
       "      <td>0</td>\n",
       "    </tr>\n",
       "    <tr>\n",
       "      <th>5822</th>\n",
       "      <td>0</td>\n",
       "      <td>1</td>\n",
       "      <td>0</td>\n",
       "      <td>0</td>\n",
       "      <td>0</td>\n",
       "      <td>0</td>\n",
       "      <td>0</td>\n",
       "      <td>1</td>\n",
       "      <td>0</td>\n",
       "      <td>0</td>\n",
       "      <td>...</td>\n",
       "      <td>0</td>\n",
       "      <td>1</td>\n",
       "      <td>0</td>\n",
       "      <td>0</td>\n",
       "      <td>0</td>\n",
       "      <td>0</td>\n",
       "      <td>0</td>\n",
       "      <td>0</td>\n",
       "      <td>1</td>\n",
       "      <td>0</td>\n",
       "    </tr>\n",
       "    <tr>\n",
       "      <th>884</th>\n",
       "      <td>1</td>\n",
       "      <td>0</td>\n",
       "      <td>0</td>\n",
       "      <td>0</td>\n",
       "      <td>1</td>\n",
       "      <td>0</td>\n",
       "      <td>0</td>\n",
       "      <td>0</td>\n",
       "      <td>0</td>\n",
       "      <td>0</td>\n",
       "      <td>...</td>\n",
       "      <td>1</td>\n",
       "      <td>0</td>\n",
       "      <td>0</td>\n",
       "      <td>0</td>\n",
       "      <td>1</td>\n",
       "      <td>0</td>\n",
       "      <td>0</td>\n",
       "      <td>0</td>\n",
       "      <td>0</td>\n",
       "      <td>0</td>\n",
       "    </tr>\n",
       "    <tr>\n",
       "      <th>772</th>\n",
       "      <td>1</td>\n",
       "      <td>0</td>\n",
       "      <td>0</td>\n",
       "      <td>0</td>\n",
       "      <td>0</td>\n",
       "      <td>0</td>\n",
       "      <td>0</td>\n",
       "      <td>1</td>\n",
       "      <td>0</td>\n",
       "      <td>0</td>\n",
       "      <td>...</td>\n",
       "      <td>0</td>\n",
       "      <td>0</td>\n",
       "      <td>0</td>\n",
       "      <td>0</td>\n",
       "      <td>0</td>\n",
       "      <td>0</td>\n",
       "      <td>1</td>\n",
       "      <td>0</td>\n",
       "      <td>0</td>\n",
       "      <td>0</td>\n",
       "    </tr>\n",
       "  </tbody>\n",
       "</table>\n",
       "<p>10 rows × 118 columns</p>\n",
       "</div>"
      ],
      "text/plain": [
       "      class_e  class_p  cap-shape_b  cap-shape_c  cap-shape_f  cap-shape_k  \\\n",
       "7112        0        1            0            0            1            0   \n",
       "6264        0        1            0            0            1            0   \n",
       "5939        1        0            0            0            1            0   \n",
       "7822        0        1            0            0            0            1   \n",
       "6978        0        1            0            0            0            0   \n",
       "2206        1        0            0            0            0            0   \n",
       "3523        1        0            0            0            1            0   \n",
       "5822        0        1            0            0            0            0   \n",
       "884         1        0            0            0            1            0   \n",
       "772         1        0            0            0            0            0   \n",
       "\n",
       "      cap-shape_s  cap-shape_x  cap-surface_f  cap-surface_g  ...  \\\n",
       "7112            0            0              0              0  ...   \n",
       "6264            0            0              0              0  ...   \n",
       "5939            0            0              0              0  ...   \n",
       "7822            0            0              0              0  ...   \n",
       "6978            0            1              0              0  ...   \n",
       "2206            0            1              0              0  ...   \n",
       "3523            0            0              1              0  ...   \n",
       "5822            0            1              0              0  ...   \n",
       "884             0            0              0              0  ...   \n",
       "772             0            1              0              0  ...   \n",
       "\n",
       "      population_s  population_v  population_y  habitat_d  habitat_g  \\\n",
       "7112             0             1             0          1          0   \n",
       "6264             0             1             0          1          0   \n",
       "5939             0             0             0          0          0   \n",
       "7822             0             1             0          0          0   \n",
       "6978             0             1             0          0          0   \n",
       "2206             0             1             0          1          0   \n",
       "3523             0             1             0          1          0   \n",
       "5822             0             1             0          0          0   \n",
       "884              1             0             0          0          1   \n",
       "772              0             0             0          0          0   \n",
       "\n",
       "      habitat_l  habitat_m  habitat_p  habitat_u  habitat_w  \n",
       "7112          0          0          0          0          0  \n",
       "6264          0          0          0          0          0  \n",
       "5939          0          0          0          0          1  \n",
       "7822          0          0          1          0          0  \n",
       "6978          1          0          0          0          0  \n",
       "2206          0          0          0          0          0  \n",
       "3523          0          0          0          0          0  \n",
       "5822          0          0          0          1          0  \n",
       "884           0          0          0          0          0  \n",
       "772           0          1          0          0          0  \n",
       "\n",
       "[10 rows x 118 columns]"
      ]
     },
     "execution_count": 4,
     "metadata": {},
     "output_type": "execute_result"
    }
   ],
   "source": [
    "# Podgląd próbki dla `df_ohe`\n",
    "df_ohe.sample(10)"
   ]
  },
  {
   "cell_type": "markdown",
   "metadata": {},
   "source": [
    "## Wizualizacja podstawowych danych"
   ]
  },
  {
   "cell_type": "code",
   "execution_count": 5,
   "metadata": {},
   "outputs": [],
   "source": [
    "# Import biblioteki do wizualizacji\n",
    "import seaborn as sns"
   ]
  },
  {
   "cell_type": "code",
   "execution_count": 6,
   "metadata": {},
   "outputs": [
    {
     "data": {
      "text/plain": [
       "<matplotlib.axes._subplots.AxesSubplot at 0x7f9803d4dc10>"
      ]
     },
     "execution_count": 6,
     "metadata": {},
     "output_type": "execute_result"
    },
    {
     "data": {
      "image/png": "[encoded data removed]",
      "text/plain": [
       "<Figure size 432x288 with 1 Axes>"
      ]
     },
     "metadata": {},
     "output_type": "display_data"
    }
   ],
   "source": [
    "# Podgląd rozkładu kolumny `class` (jadalny czy trujący)\n",
    "sns.set_style('whitegrid')\n",
    "sns.countplot(x='class', data=df_le, palette='RdBu_r')"
   ]
  },
  {
   "cell_type": "markdown",
   "metadata": {},
   "source": [
    "#### Otrzymuję zbalansowany zbiór, jest to dobry znak – praca może być łatwiejsza."
   ]
  },
  {
   "cell_type": "markdown",
   "metadata": {},
   "source": [
    "### Model regresji logistycznej"
   ]
  },
  {
   "cell_type": "code",
   "execution_count": 7,
   "metadata": {},
   "outputs": [],
   "source": [
    "# Import biblioteki do automatycznego podziału danych na zbiór treningowy i testowy\n",
    "from sklearn.model_selection import train_test_split"
   ]
  },
  {
   "cell_type": "code",
   "execution_count": 101,
   "metadata": {},
   "outputs": [],
   "source": [
    "# Podział na zbiór trenigowy i testowy\n",
    "X_train, X_test, y_train, y_test = train_test_split(\n",
    "    df_ohe.drop(['class_e', 'class_p'], axis=1),\n",
    "    df_ohe['class_p'],\n",
    "    test_size=0.25,\n",
    "    random_state=1337\n",
    ")"
   ]
  },
  {
   "cell_type": "code",
   "execution_count": 102,
   "metadata": {},
   "outputs": [],
   "source": [
    "# Import biblioteki do modelu regresji logistycznej\n",
    "from sklearn.linear_model import LogisticRegression"
   ]
  },
  {
   "cell_type": "code",
   "execution_count": 103,
   "metadata": {},
   "outputs": [
    {
     "data": {
      "text/plain": [
       "LogisticRegression(solver='liblinear')"
      ]
     },
     "execution_count": 103,
     "metadata": {},
     "output_type": "execute_result"
    }
   ],
   "source": [
    "# Trening modelu (liblinear nie ma znaczenia dla wyniku, a dla domyślnego zaobserwowałem pewne bugi)\n",
    "logmodel = LogisticRegression(solver='liblinear')\n",
    "logmodel.fit(X_train, y_train)"
   ]
  },
  {
   "cell_type": "code",
   "execution_count": 104,
   "metadata": {},
   "outputs": [],
   "source": [
    "# Predykcja\n",
    "predictions = logmodel.predict(X_test)"
   ]
  },
  {
   "cell_type": "code",
   "execution_count": 105,
   "metadata": {},
   "outputs": [],
   "source": [
    "# Import biblioteki do ewaluacji modelu\n",
    "from sklearn import metrics"
   ]
  },
  {
   "cell_type": "code",
   "execution_count": 106,
   "metadata": {},
   "outputs": [
    {
     "name": "stdout",
     "output_type": "stream",
     "text": [
      "              precision    recall  f1-score   support\n",
      "\n",
      "           0       1.00      1.00      1.00      1042\n",
      "           1       1.00      1.00      1.00       989\n",
      "\n",
      "    accuracy                           1.00      2031\n",
      "   macro avg       1.00      1.00      1.00      2031\n",
      "weighted avg       1.00      1.00      1.00      2031\n",
      "\n"
     ]
    }
   ],
   "source": [
    "# Ewaluacja modelu\n",
    "print(metrics.classification_report(y_test, predictions))"
   ]
  },
  {
   "cell_type": "code",
   "execution_count": 14,
   "metadata": {},
   "outputs": [
    {
     "data": {
      "text/plain": [
       "array([[1041,    0],\n",
       "       [   0,  990]])"
      ]
     },
     "execution_count": 14,
     "metadata": {},
     "output_type": "execute_result"
    }
   ],
   "source": [
    "from sklearn import metrics\n",
    "\n",
    "# Metryka confusion matrix\n",
    "cnf_matrix = metrics.confusion_matrix(y_test, predictions)\n",
    "cnf_matrix"
   ]
  },
  {
   "cell_type": "code",
   "execution_count": 15,
   "metadata": {},
   "outputs": [
    {
     "name": "stdout",
     "output_type": "stream",
     "text": [
      "Accuracy: 1.0\n",
      "Precision: 1.0\n",
      "Recall: 1.0\n"
     ]
    }
   ],
   "source": [
    "# Metryki\n",
    "print(\"Accuracy:\", metrics.accuracy_score(y_test, predictions))\n",
    "print(\"Precision:\", metrics.precision_score(y_test, predictions))\n",
    "print(\"Recall:\", metrics.recall_score(y_test, predictions))"
   ]
  },
  {
   "cell_type": "code",
   "execution_count": 16,
   "metadata": {},
   "outputs": [
    {
     "data": {
      "image/png": "[encoded data removed]",
      "text/plain": [
       "<Figure size 432x288 with 1 Axes>"
      ]
     },
     "metadata": {
      "needs_background": "light"
     },
     "output_type": "display_data"
    }
   ],
   "source": [
    "import matplotlib.pyplot as plt\n",
    "%matplotlib inline\n",
    "\n",
    "# Metryka krzywej ROC\n",
    "y_pred_proba = logmodel.predict_proba(X_test)[::,1]\n",
    "fpr, tpr, _ = metrics.roc_curve(y_test,  y_pred_proba)\n",
    "auc = metrics.roc_auc_score(y_test, y_pred_proba)\n",
    "plt.plot(fpr,tpr,label=\"data 1, auc=\"+str(auc))\n",
    "plt.legend(loc=4)\n",
    "plt.show()"
   ]
  },
  {
   "cell_type": "markdown",
   "metadata": {},
   "source": [
    "### Predykcja w aplikacji klienckiej"
   ]
  },
  {
   "cell_type": "code",
   "execution_count": 17,
   "metadata": {},
   "outputs": [],
   "source": [
    "def predict_for_user_input (mushroom_data):\n",
    "    local_df = pd.DataFrame(columns=X_test.columns)\n",
    "    local_df = local_df.append(mushroom_data, ignore_index=True)\n",
    "    \n",
    "    # Fill N/a\n",
    "    local_df.fillna(1, inplace=True)\n",
    "    \n",
    "    return logmodel.predict(local_df)"
   ]
  },
  {
   "cell_type": "code",
   "execution_count": 18,
   "metadata": {},
   "outputs": [
    {
     "data": {
      "text/plain": [
       "array([1])"
      ]
     },
     "execution_count": 18,
     "metadata": {},
     "output_type": "execute_result"
    }
   ],
   "source": [
    "predict_for_user_input({ 'cap-shape_k': 0 })"
   ]
  },
  {
   "cell_type": "markdown",
   "metadata": {},
   "source": [
    "#### Dla niewystarczających danych aplikacja wykazuje skłonność do dawania false - positivów. To dobrze!\n",
    "##### W tym przypadku lepsze są false positive niż false negative :)"
   ]
  },
  {
   "cell_type": "markdown",
   "metadata": {},
   "source": [
    "#### Testy funkcji"
   ]
  },
  {
   "cell_type": "code",
   "execution_count": 19,
   "metadata": {},
   "outputs": [],
   "source": [
    "import numpy as np\n",
    "\n",
    "# Weźmy sobie 10 rekordów\n",
    "test_sample = X_test.iloc[:10]"
   ]
  },
  {
   "cell_type": "code",
   "execution_count": 20,
   "metadata": {},
   "outputs": [
    {
     "data": {
      "text/plain": [
       "array([0, 0, 0, 1, 0, 0, 0, 1, 1, 0])"
      ]
     },
     "execution_count": 20,
     "metadata": {},
     "output_type": "execute_result"
    }
   ],
   "source": [
    "test_sample_y_prod = predict_for_user_input(test_sample)\n",
    "test_sample_y_prod"
   ]
  },
  {
   "cell_type": "code",
   "execution_count": 21,
   "metadata": {},
   "outputs": [
    {
     "data": {
      "text/plain": [
       "array([1, 1, 1, 0, 1, 1, 1, 0, 0, 1])"
      ]
     },
     "execution_count": 21,
     "metadata": {},
     "output_type": "execute_result"
    }
   ],
   "source": [
    "# Pierwszy rekord ma wynik true, weźmy sobie ten row i odwróćmy wartości, żeby sprawdzić efekt\n",
    "predict_for_user_input(test_sample.apply(lambda x: np.invert(x)))"
   ]
  },
  {
   "cell_type": "markdown",
   "metadata": {},
   "source": [
    "### Ok, testy wypadają książkowo – czy jest za dobrze?\n",
    "\n",
    "### Dodatkowe metryki - feature importance"
   ]
  },
  {
   "cell_type": "code",
   "execution_count": 22,
   "metadata": {},
   "outputs": [
    {
     "name": "stdout",
     "output_type": "stream",
     "text": [
      "Feature: 0, Score: 0.28441\n",
      "Feature: 1, Score: 0.55184\n",
      "Feature: 2, Score: -0.08330\n",
      "Feature: 3, Score: 0.02020\n",
      "Feature: 4, Score: -0.58900\n",
      "Feature: 5, Score: -0.18420\n",
      "Feature: 6, Score: -0.81355\n",
      "Feature: 7, Score: 0.75658\n",
      "Feature: 8, Score: 0.16402\n",
      "Feature: 9, Score: -0.10710\n",
      "Feature: 10, Score: 0.87401\n",
      "Feature: 11, Score: -0.87947\n",
      "Feature: 12, Score: 0.03128\n",
      "Feature: 13, Score: -0.01994\n",
      "Feature: 14, Score: -0.41838\n",
      "Feature: 15, Score: 0.77159\n",
      "Feature: 16, Score: -0.26337\n",
      "Feature: 17, Score: -0.40843\n",
      "Feature: 18, Score: 0.52358\n",
      "Feature: 19, Score: -0.21092\n",
      "Feature: 20, Score: -0.06852\n",
      "Feature: 21, Score: 0.06847\n",
      "Feature: 22, Score: -2.73062\n",
      "Feature: 23, Score: 2.67658\n",
      "Feature: 24, Score: 2.66977\n",
      "Feature: 25, Score: -2.78605\n",
      "Feature: 26, Score: 0.32551\n",
      "Feature: 27, Score: -4.00645\n",
      "Feature: 28, Score: 2.15779\n",
      "Feature: 29, Score: 0.85742\n",
      "Feature: 30, Score: 0.83599\n",
      "Feature: 31, Score: -0.12261\n",
      "Feature: 32, Score: 0.12255\n",
      "Feature: 33, Score: 1.48023\n",
      "Feature: 34, Score: -1.48028\n",
      "Feature: 35, Score: -2.11192\n",
      "Feature: 36, Score: 2.11186\n",
      "Feature: 37, Score: 1.83781\n",
      "Feature: 38, Score: -0.53923\n",
      "Feature: 39, Score: -0.00391\n",
      "Feature: 40, Score: 0.08310\n",
      "Feature: 41, Score: -0.42045\n",
      "Feature: 42, Score: -0.59095\n",
      "Feature: 43, Score: -0.10024\n",
      "Feature: 44, Score: -0.51485\n",
      "Feature: 45, Score: 0.70623\n",
      "Feature: 46, Score: -0.25877\n",
      "Feature: 47, Score: -0.43356\n",
      "Feature: 48, Score: 0.23476\n",
      "Feature: 49, Score: 0.62519\n",
      "Feature: 50, Score: -0.62525\n",
      "Feature: 51, Score: 2.35152\n",
      "Feature: 52, Score: -1.01099\n",
      "Feature: 53, Score: 0.12487\n",
      "Feature: 54, Score: -0.53315\n",
      "Feature: 55, Score: -0.93231\n",
      "Feature: 56, Score: -0.76012\n",
      "Feature: 57, Score: 1.71811\n",
      "Feature: 58, Score: -1.07261\n",
      "Feature: 59, Score: 0.11457\n",
      "Feature: 60, Score: -1.10118\n",
      "Feature: 61, Score: 0.36720\n",
      "Feature: 62, Score: -0.53474\n",
      "Feature: 63, Score: 1.26867\n",
      "Feature: 64, Score: 0.19807\n",
      "Feature: 65, Score: 0.32551\n",
      "Feature: 66, Score: -0.40489\n",
      "Feature: 67, Score: -0.38646\n",
      "Feature: 68, Score: -0.14152\n",
      "Feature: 69, Score: -0.31222\n",
      "Feature: 70, Score: 0.27204\n",
      "Feature: 71, Score: -0.07730\n",
      "Feature: 72, Score: 0.52672\n",
      "Feature: 73, Score: 0.13283\n",
      "Feature: 74, Score: 0.32551\n",
      "Feature: 75, Score: -0.39901\n",
      "Feature: 76, Score: -0.31733\n",
      "Feature: 77, Score: -0.93499\n",
      "Feature: 78, Score: -0.31222\n",
      "Feature: 79, Score: 0.36044\n",
      "Feature: 80, Score: 0.29547\n",
      "Feature: 81, Score: 0.84924\n",
      "Feature: 82, Score: -0.15452\n",
      "Feature: 83, Score: -0.15770\n",
      "Feature: 84, Score: -0.21455\n",
      "Feature: 85, Score: 0.52672\n",
      "Feature: 86, Score: 0.32551\n",
      "Feature: 87, Score: -0.09402\n",
      "Feature: 88, Score: -0.23154\n",
      "Feature: 89, Score: 0.62071\n",
      "Feature: 90, Score: -1.52686\n",
      "Feature: 91, Score: 0.64377\n",
      "Feature: 92, Score: 0.32551\n",
      "Feature: 93, Score: -0.06318\n",
      "Feature: 94, Score: -0.09875\n",
      "Feature: 95, Score: 0.99852\n",
      "Feature: 96, Score: -1.33060\n",
      "Feature: 97, Score: -1.52225\n",
      "Feature: 98, Score: -0.09170\n",
      "Feature: 99, Score: 3.36096\n",
      "Feature: 100, Score: -1.47117\n",
      "Feature: 101, Score: 0.25042\n",
      "Feature: 102, Score: -0.09548\n",
      "Feature: 103, Score: -0.01714\n",
      "Feature: 104, Score: 1.28035\n",
      "Feature: 105, Score: -0.77469\n",
      "Feature: 106, Score: 0.34524\n",
      "Feature: 107, Score: 0.38153\n",
      "Feature: 108, Score: -1.21534\n",
      "Feature: 109, Score: -0.32864\n",
      "Feature: 110, Score: 0.64864\n",
      "Feature: 111, Score: 0.06065\n",
      "Feature: 112, Score: 0.74837\n",
      "Feature: 113, Score: -0.35598\n",
      "Feature: 114, Score: 0.32731\n",
      "Feature: 115, Score: -1.10041\n"
     ]
    }
   ],
   "source": [
    "# Wyciągnięcie feature importance\n",
    "importance = logmodel.coef_[0]\n",
    "\n",
    "# Podsumowanie feature importance\n",
    "\n",
    "for i,v in enumerate(importance):\n",
    "    print('Feature: %0d, Score: %.5f' % (i,v))"
   ]
  },
  {
   "cell_type": "code",
   "execution_count": 23,
   "metadata": {},
   "outputs": [
    {
     "data": {
      "image/png": "[encoded data removed]",
      "text/plain": [
       "<Figure size 432x288 with 1 Axes>"
      ]
     },
     "metadata": {
      "needs_background": "light"
     },
     "output_type": "display_data"
    }
   ],
   "source": [
    "# Plotowanie feature importance\n",
    "plt.bar([x for x in range(len(importance))], importance)\n",
    "plt.show()"
   ]
  },
  {
   "cell_type": "code",
   "execution_count": 24,
   "metadata": {
    "scrolled": false
   },
   "outputs": [
    {
     "data": {
      "image/png": "[encoded data removed]",
      "text/plain": [
       "<Figure size 1440x2160 with 1 Axes>"
      ]
     },
     "metadata": {
      "needs_background": "light"
     },
     "output_type": "display_data"
    }
   ],
   "source": [
    "# Plotowanie feature importance z labelami, posortowane\n",
    "feature_importance = abs(logmodel.coef_[0])\n",
    "feature_importance = 100.0 * (feature_importance / feature_importance.max())\n",
    "sorted_idx = np.argsort(feature_importance)\n",
    "pos = np.arange(sorted_idx.shape[0]) + .5\n",
    "\n",
    "featfig = plt.figure(figsize=(20, 30))\n",
    "featax = featfig.add_subplot(1, 1, 1)\n",
    "featax.barh(pos, feature_importance[sorted_idx], align='center')\n",
    "featax.set_yticks(pos)\n",
    "featax.set_yticklabels(np.array(X_test.columns)[sorted_idx], fontsize=8)\n",
    "featax.set_xlabel('Relative Feature Importance')\n",
    "\n",
    "plt.tight_layout()   \n",
    "plt.show()"
   ]
  },
  {
   "cell_type": "code",
   "execution_count": 25,
   "metadata": {},
   "outputs": [
    {
     "data": {
      "text/plain": [
       "(array([0, 1]), array([837,  28]))"
      ]
     },
     "execution_count": 25,
     "metadata": {},
     "output_type": "execute_result"
    }
   ],
   "source": [
    "# Dlaczego `odor_n` ma największe znaczenie?\n",
    "np.unique(predict_for_user_input(X_test[X_test['odor_n'] == 1]), return_counts=True)"
   ]
  },
  {
   "cell_type": "code",
   "execution_count": 109,
   "metadata": {},
   "outputs": [
    {
     "data": {
      "text/plain": [
       "(array([1]), array([13]))"
      ]
     },
     "execution_count": 109,
     "metadata": {},
     "output_type": "execute_result"
    }
   ],
   "source": [
    "# Grzyby bez zapachu najczęściej nie są trujące :)\n",
    "\n",
    "# Dalsze testy\n",
    "np.unique(predict_for_user_input(X_test[X_test['odor_m'] == 1]), return_counts=True)"
   ]
  },
  {
   "cell_type": "code",
   "execution_count": 27,
   "metadata": {},
   "outputs": [
    {
     "data": {
      "text/plain": [
       "(array([0, 1]), array([3408,  120]))"
      ]
     },
     "execution_count": 27,
     "metadata": {},
     "output_type": "execute_result"
    }
   ],
   "source": [
    "np.unique(df_ohe[df_ohe['odor_n'] == 1]['class_p'], return_counts=True)"
   ]
  },
  {
   "cell_type": "markdown",
   "metadata": {},
   "source": [
    "### Sprawdzenie, czy ten sam kod da ~50% accuracy przy losowym Y"
   ]
  },
  {
   "cell_type": "code",
   "execution_count": 108,
   "metadata": {
    "scrolled": true
   },
   "outputs": [
    {
     "name": "stdout",
     "output_type": "stream",
     "text": [
      "              precision    recall  f1-score   support\n",
      "\n",
      "           0       0.51      0.55      0.53      1013\n",
      "           1       0.51      0.47      0.49      1018\n",
      "\n",
      "    accuracy                           0.51      2031\n",
      "   macro avg       0.51      0.51      0.51      2031\n",
      "weighted avg       0.51      0.51      0.51      2031\n",
      "\n"
     ]
    }
   ],
   "source": [
    "X_train_2, X_test_2, y_train_2, y_test_2 = train_test_split(\n",
    "    df_ohe.drop(['class_e', 'class_p'], axis=1),\n",
    "    pd.Series(np.random.choice(a=[0, 1], size=8124), index=df_ohe['class_p'].index, name='class_p'),\n",
    "    test_size=0.25,\n",
    "    random_state=1337\n",
    ")\n",
    "\n",
    "logmodel_2 = LogisticRegression(solver='liblinear')\n",
    "logmodel_2.fit(X_train_2, y_train_2)\n",
    "\n",
    "print(metrics.classification_report(y_test_2, logmodel_2.predict(X_test_2)))"
   ]
  },
  {
   "cell_type": "markdown",
   "metadata": {},
   "source": [
    "# Podsumowanie\n",
    "\n",
    "### Skuteczność predykcji przy podaniu wszystkich danych grzyba równa 100%.\n",
    "### Zaimplementowano funkcję zdolną przyjąć do predykcji ograniczoną liczbę argumentów (domyślne wypełnienie brakujących zerem z tendencją do false-positive (to dobrze))"
   ]
  },
  {
   "cell_type": "code",
   "execution_count": null,
   "metadata": {},
   "outputs": [],
   "source": []
  }
 ],
 "metadata": {
  "kernelspec": {
   "display_name": "Python 3",
   "language": "python",
   "name": "python3"
  },
  "language_info": {
   "codemirror_mode": {
    "name": "ipython",
    "version": 3
   },
   "file_extension": ".py",
   "mimetype": "text/x-python",
   "name": "python",
   "nbconvert_exporter": "python",
   "pygments_lexer": "ipython3",
   "version": "3.8.3"
  }
 },
 "nbformat": 4,
 "nbformat_minor": 4
}
