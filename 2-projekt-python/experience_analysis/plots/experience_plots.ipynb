{
 "cells": [
  {
   "cell_type": "code",
   "execution_count": 6,
   "metadata": {},
   "outputs": [],
   "source": [
    "import numpy as np\n",
    "import pandas as pd\n",
    "import seaborn as sns\n",
    "from matplotlib import pyplot as plt\n",
    "from scipy import stats as st"
   ]
  },
  {
   "cell_type": "code",
   "execution_count": 9,
   "metadata": {},
   "outputs": [
    {
     "data": {
      "text/html": [
       "<div>\n",
       "<style scoped>\n",
       "    .dataframe tbody tr th:only-of-type {\n",
       "        vertical-align: middle;\n",
       "    }\n",
       "\n",
       "    .dataframe tbody tr th {\n",
       "        vertical-align: top;\n",
       "    }\n",
       "\n",
       "    .dataframe thead th {\n",
       "        text-align: right;\n",
       "    }\n",
       "</style>\n",
       "<table border=\"1\" class=\"dataframe\">\n",
       "  <thead>\n",
       "    <tr style=\"text-align: right;\">\n",
       "      <th></th>\n",
       "      <th>Age</th>\n",
       "      <th>Attrition</th>\n",
       "      <th>BusinessTravel</th>\n",
       "      <th>DailyRate</th>\n",
       "      <th>Department</th>\n",
       "      <th>DistanceFromHome</th>\n",
       "      <th>Education</th>\n",
       "      <th>EducationField</th>\n",
       "      <th>EnvironmentSatisfaction</th>\n",
       "      <th>Gender</th>\n",
       "      <th>...</th>\n",
       "      <th>PerformanceRating</th>\n",
       "      <th>RelationshipSatisfaction</th>\n",
       "      <th>StockOptionLevel</th>\n",
       "      <th>TotalWorkingYears</th>\n",
       "      <th>TrainingTimesLastYear</th>\n",
       "      <th>WorkLifeBalance</th>\n",
       "      <th>YearsAtCompany</th>\n",
       "      <th>YearsInCurrentRole</th>\n",
       "      <th>YearsSinceLastPromotion</th>\n",
       "      <th>YearsWithCurrManager</th>\n",
       "    </tr>\n",
       "  </thead>\n",
       "  <tbody>\n",
       "    <tr>\n",
       "      <th>0</th>\n",
       "      <td>41</td>\n",
       "      <td>True</td>\n",
       "      <td>1</td>\n",
       "      <td>1102</td>\n",
       "      <td>0</td>\n",
       "      <td>1</td>\n",
       "      <td>2</td>\n",
       "      <td>Life Sciences</td>\n",
       "      <td>2</td>\n",
       "      <td>Female</td>\n",
       "      <td>...</td>\n",
       "      <td>3</td>\n",
       "      <td>1</td>\n",
       "      <td>0</td>\n",
       "      <td>8</td>\n",
       "      <td>0</td>\n",
       "      <td>1</td>\n",
       "      <td>6</td>\n",
       "      <td>4</td>\n",
       "      <td>0</td>\n",
       "      <td>5</td>\n",
       "    </tr>\n",
       "    <tr>\n",
       "      <th>1</th>\n",
       "      <td>49</td>\n",
       "      <td>False</td>\n",
       "      <td>2</td>\n",
       "      <td>279</td>\n",
       "      <td>1</td>\n",
       "      <td>8</td>\n",
       "      <td>1</td>\n",
       "      <td>Life Sciences</td>\n",
       "      <td>3</td>\n",
       "      <td>Male</td>\n",
       "      <td>...</td>\n",
       "      <td>4</td>\n",
       "      <td>4</td>\n",
       "      <td>1</td>\n",
       "      <td>10</td>\n",
       "      <td>3</td>\n",
       "      <td>3</td>\n",
       "      <td>10</td>\n",
       "      <td>7</td>\n",
       "      <td>1</td>\n",
       "      <td>7</td>\n",
       "    </tr>\n",
       "    <tr>\n",
       "      <th>2</th>\n",
       "      <td>37</td>\n",
       "      <td>True</td>\n",
       "      <td>1</td>\n",
       "      <td>1373</td>\n",
       "      <td>1</td>\n",
       "      <td>2</td>\n",
       "      <td>2</td>\n",
       "      <td>Other</td>\n",
       "      <td>4</td>\n",
       "      <td>Male</td>\n",
       "      <td>...</td>\n",
       "      <td>3</td>\n",
       "      <td>2</td>\n",
       "      <td>0</td>\n",
       "      <td>7</td>\n",
       "      <td>3</td>\n",
       "      <td>3</td>\n",
       "      <td>0</td>\n",
       "      <td>0</td>\n",
       "      <td>0</td>\n",
       "      <td>0</td>\n",
       "    </tr>\n",
       "    <tr>\n",
       "      <th>3</th>\n",
       "      <td>33</td>\n",
       "      <td>False</td>\n",
       "      <td>2</td>\n",
       "      <td>1392</td>\n",
       "      <td>1</td>\n",
       "      <td>3</td>\n",
       "      <td>4</td>\n",
       "      <td>Life Sciences</td>\n",
       "      <td>4</td>\n",
       "      <td>Female</td>\n",
       "      <td>...</td>\n",
       "      <td>3</td>\n",
       "      <td>3</td>\n",
       "      <td>0</td>\n",
       "      <td>8</td>\n",
       "      <td>3</td>\n",
       "      <td>3</td>\n",
       "      <td>8</td>\n",
       "      <td>7</td>\n",
       "      <td>3</td>\n",
       "      <td>0</td>\n",
       "    </tr>\n",
       "    <tr>\n",
       "      <th>4</th>\n",
       "      <td>27</td>\n",
       "      <td>False</td>\n",
       "      <td>1</td>\n",
       "      <td>591</td>\n",
       "      <td>1</td>\n",
       "      <td>2</td>\n",
       "      <td>1</td>\n",
       "      <td>Medical</td>\n",
       "      <td>1</td>\n",
       "      <td>Male</td>\n",
       "      <td>...</td>\n",
       "      <td>3</td>\n",
       "      <td>4</td>\n",
       "      <td>1</td>\n",
       "      <td>6</td>\n",
       "      <td>3</td>\n",
       "      <td>3</td>\n",
       "      <td>2</td>\n",
       "      <td>2</td>\n",
       "      <td>2</td>\n",
       "      <td>2</td>\n",
       "    </tr>\n",
       "    <tr>\n",
       "      <th>...</th>\n",
       "      <td>...</td>\n",
       "      <td>...</td>\n",
       "      <td>...</td>\n",
       "      <td>...</td>\n",
       "      <td>...</td>\n",
       "      <td>...</td>\n",
       "      <td>...</td>\n",
       "      <td>...</td>\n",
       "      <td>...</td>\n",
       "      <td>...</td>\n",
       "      <td>...</td>\n",
       "      <td>...</td>\n",
       "      <td>...</td>\n",
       "      <td>...</td>\n",
       "      <td>...</td>\n",
       "      <td>...</td>\n",
       "      <td>...</td>\n",
       "      <td>...</td>\n",
       "      <td>...</td>\n",
       "      <td>...</td>\n",
       "      <td>...</td>\n",
       "    </tr>\n",
       "    <tr>\n",
       "      <th>1465</th>\n",
       "      <td>36</td>\n",
       "      <td>False</td>\n",
       "      <td>2</td>\n",
       "      <td>884</td>\n",
       "      <td>1</td>\n",
       "      <td>23</td>\n",
       "      <td>2</td>\n",
       "      <td>Medical</td>\n",
       "      <td>3</td>\n",
       "      <td>Male</td>\n",
       "      <td>...</td>\n",
       "      <td>3</td>\n",
       "      <td>3</td>\n",
       "      <td>1</td>\n",
       "      <td>17</td>\n",
       "      <td>3</td>\n",
       "      <td>3</td>\n",
       "      <td>5</td>\n",
       "      <td>2</td>\n",
       "      <td>0</td>\n",
       "      <td>3</td>\n",
       "    </tr>\n",
       "    <tr>\n",
       "      <th>1466</th>\n",
       "      <td>39</td>\n",
       "      <td>False</td>\n",
       "      <td>1</td>\n",
       "      <td>613</td>\n",
       "      <td>1</td>\n",
       "      <td>6</td>\n",
       "      <td>1</td>\n",
       "      <td>Medical</td>\n",
       "      <td>4</td>\n",
       "      <td>Male</td>\n",
       "      <td>...</td>\n",
       "      <td>3</td>\n",
       "      <td>1</td>\n",
       "      <td>1</td>\n",
       "      <td>9</td>\n",
       "      <td>5</td>\n",
       "      <td>3</td>\n",
       "      <td>7</td>\n",
       "      <td>7</td>\n",
       "      <td>1</td>\n",
       "      <td>7</td>\n",
       "    </tr>\n",
       "    <tr>\n",
       "      <th>1467</th>\n",
       "      <td>27</td>\n",
       "      <td>False</td>\n",
       "      <td>1</td>\n",
       "      <td>155</td>\n",
       "      <td>1</td>\n",
       "      <td>4</td>\n",
       "      <td>3</td>\n",
       "      <td>Life Sciences</td>\n",
       "      <td>2</td>\n",
       "      <td>Male</td>\n",
       "      <td>...</td>\n",
       "      <td>4</td>\n",
       "      <td>2</td>\n",
       "      <td>1</td>\n",
       "      <td>6</td>\n",
       "      <td>0</td>\n",
       "      <td>3</td>\n",
       "      <td>6</td>\n",
       "      <td>2</td>\n",
       "      <td>0</td>\n",
       "      <td>3</td>\n",
       "    </tr>\n",
       "    <tr>\n",
       "      <th>1468</th>\n",
       "      <td>49</td>\n",
       "      <td>False</td>\n",
       "      <td>2</td>\n",
       "      <td>1023</td>\n",
       "      <td>0</td>\n",
       "      <td>2</td>\n",
       "      <td>3</td>\n",
       "      <td>Medical</td>\n",
       "      <td>4</td>\n",
       "      <td>Male</td>\n",
       "      <td>...</td>\n",
       "      <td>3</td>\n",
       "      <td>4</td>\n",
       "      <td>0</td>\n",
       "      <td>17</td>\n",
       "      <td>3</td>\n",
       "      <td>2</td>\n",
       "      <td>9</td>\n",
       "      <td>6</td>\n",
       "      <td>0</td>\n",
       "      <td>8</td>\n",
       "    </tr>\n",
       "    <tr>\n",
       "      <th>1469</th>\n",
       "      <td>34</td>\n",
       "      <td>False</td>\n",
       "      <td>1</td>\n",
       "      <td>628</td>\n",
       "      <td>1</td>\n",
       "      <td>8</td>\n",
       "      <td>3</td>\n",
       "      <td>Medical</td>\n",
       "      <td>2</td>\n",
       "      <td>Male</td>\n",
       "      <td>...</td>\n",
       "      <td>3</td>\n",
       "      <td>1</td>\n",
       "      <td>0</td>\n",
       "      <td>6</td>\n",
       "      <td>3</td>\n",
       "      <td>4</td>\n",
       "      <td>4</td>\n",
       "      <td>3</td>\n",
       "      <td>1</td>\n",
       "      <td>2</td>\n",
       "    </tr>\n",
       "  </tbody>\n",
       "</table>\n",
       "<p>1470 rows × 31 columns</p>\n",
       "</div>"
      ],
      "text/plain": [
       "      Age  Attrition  BusinessTravel  DailyRate  Department  DistanceFromHome  \\\n",
       "0      41       True               1       1102           0                 1   \n",
       "1      49      False               2        279           1                 8   \n",
       "2      37       True               1       1373           1                 2   \n",
       "3      33      False               2       1392           1                 3   \n",
       "4      27      False               1        591           1                 2   \n",
       "...   ...        ...             ...        ...         ...               ...   \n",
       "1465   36      False               2        884           1                23   \n",
       "1466   39      False               1        613           1                 6   \n",
       "1467   27      False               1        155           1                 4   \n",
       "1468   49      False               2       1023           0                 2   \n",
       "1469   34      False               1        628           1                 8   \n",
       "\n",
       "      Education EducationField  EnvironmentSatisfaction  Gender  ...  \\\n",
       "0             2  Life Sciences                        2  Female  ...   \n",
       "1             1  Life Sciences                        3    Male  ...   \n",
       "2             2          Other                        4    Male  ...   \n",
       "3             4  Life Sciences                        4  Female  ...   \n",
       "4             1        Medical                        1    Male  ...   \n",
       "...         ...            ...                      ...     ...  ...   \n",
       "1465          2        Medical                        3    Male  ...   \n",
       "1466          1        Medical                        4    Male  ...   \n",
       "1467          3  Life Sciences                        2    Male  ...   \n",
       "1468          3        Medical                        4    Male  ...   \n",
       "1469          3        Medical                        2    Male  ...   \n",
       "\n",
       "      PerformanceRating  RelationshipSatisfaction  StockOptionLevel  \\\n",
       "0                     3                         1                 0   \n",
       "1                     4                         4                 1   \n",
       "2                     3                         2                 0   \n",
       "3                     3                         3                 0   \n",
       "4                     3                         4                 1   \n",
       "...                 ...                       ...               ...   \n",
       "1465                  3                         3                 1   \n",
       "1466                  3                         1                 1   \n",
       "1467                  4                         2                 1   \n",
       "1468                  3                         4                 0   \n",
       "1469                  3                         1                 0   \n",
       "\n",
       "     TotalWorkingYears  TrainingTimesLastYear WorkLifeBalance  YearsAtCompany  \\\n",
       "0                    8                      0               1               6   \n",
       "1                   10                      3               3              10   \n",
       "2                    7                      3               3               0   \n",
       "3                    8                      3               3               8   \n",
       "4                    6                      3               3               2   \n",
       "...                ...                    ...             ...             ...   \n",
       "1465                17                      3               3               5   \n",
       "1466                 9                      5               3               7   \n",
       "1467                 6                      0               3               6   \n",
       "1468                17                      3               2               9   \n",
       "1469                 6                      3               4               4   \n",
       "\n",
       "      YearsInCurrentRole  YearsSinceLastPromotion  YearsWithCurrManager  \n",
       "0                      4                        0                     5  \n",
       "1                      7                        1                     7  \n",
       "2                      0                        0                     0  \n",
       "3                      7                        3                     0  \n",
       "4                      2                        2                     2  \n",
       "...                  ...                      ...                   ...  \n",
       "1465                   2                        0                     3  \n",
       "1466                   7                        1                     7  \n",
       "1467                   2                        0                     3  \n",
       "1468                   6                        0                     8  \n",
       "1469                   3                        1                     2  \n",
       "\n",
       "[1470 rows x 31 columns]"
      ]
     },
     "execution_count": 9,
     "metadata": {},
     "output_type": "execute_result"
    }
   ],
   "source": [
    "df = pd.read_csv('C:\\\\Users\\\\jk\\\\Desktop\\\\data science - infoshare\\\\projekt_SQL\\\\jdszr4-edc\\\\2-projekt-python\\\\dataset-normalized.csv')\n",
    "df"
   ]
  },
  {
   "cell_type": "markdown",
   "metadata": {},
   "source": [
    "# Total Working Years"
   ]
  },
  {
   "cell_type": "code",
   "execution_count": 10,
   "metadata": {},
   "outputs": [
    {
     "data": {
      "text/plain": [
       "{10: 202,\n",
       " 6: 125,\n",
       " 8: 103,\n",
       " 9: 96,\n",
       " 5: 88,\n",
       " 1: 81,\n",
       " 7: 81,\n",
       " 4: 63,\n",
       " 12: 48,\n",
       " 3: 42,\n",
       " 15: 40,\n",
       " 16: 37,\n",
       " 13: 36,\n",
       " 11: 36,\n",
       " 21: 34,\n",
       " 17: 33,\n",
       " 14: 31,\n",
       " 2: 31,\n",
       " 20: 30,\n",
       " 18: 27,\n",
       " 19: 22,\n",
       " 23: 22,\n",
       " 22: 21,\n",
       " 24: 18,\n",
       " 25: 14,\n",
       " 28: 14,\n",
       " 26: 14,\n",
       " 0: 11,\n",
       " 29: 10,\n",
       " 31: 9,\n",
       " 32: 9,\n",
       " 27: 7,\n",
       " 30: 7,\n",
       " 33: 7,\n",
       " 36: 6,\n",
       " 34: 5,\n",
       " 37: 4,\n",
       " 35: 3,\n",
       " 40: 2,\n",
       " 38: 1}"
      ]
     },
     "execution_count": 10,
     "metadata": {},
     "output_type": "execute_result"
    }
   ],
   "source": [
    "total_working_years_dict = dict(df.TotalWorkingYears.value_counts())\n",
    "total_working_years_dict"
   ]
  },
  {
   "cell_type": "code",
   "execution_count": 11,
   "metadata": {},
   "outputs": [
    {
     "data": {
      "text/plain": [
       "{1: 961, 0: 446, 2: 63}"
      ]
     },
     "execution_count": 11,
     "metadata": {},
     "output_type": "execute_result"
    }
   ],
   "source": [
    "departments_dict = dict(df.Department.value_counts())\n",
    "departments_dict"
   ]
  },
  {
   "cell_type": "code",
   "execution_count": 12,
   "metadata": {},
   "outputs": [
    {
     "data": {
      "text/plain": [
       "dict_keys([1, 0, 2])"
      ]
     },
     "execution_count": 12,
     "metadata": {},
     "output_type": "execute_result"
    }
   ],
   "source": [
    "departments = departments_dict.keys()\n",
    "departments"
   ]
  },
  {
   "cell_type": "code",
   "execution_count": 13,
   "metadata": {},
   "outputs": [
    {
     "name": "stdout",
     "output_type": "stream",
     "text": [
      "CategoricalIndex([  (0, 8],  (8, 16],   (0, 8],   (0, 8],   (0, 8],   (0, 8],\n",
      "                   (8, 16],   (0, 8],  (8, 16], (16, 24],\n",
      "                  ...\n",
      "                    (0, 8], (16, 24], (16, 24],  (8, 16],   (0, 8], (16, 24],\n",
      "                   (8, 16],   (0, 8], (16, 24],   (0, 8]],\n",
      "                 categories=[(0, 8], (8, 16], (16, 24], (24, 32], (32, 40]], ordered=True, name='TotalWorkingYears', dtype='category', length=1470)\n"
     ]
    }
   ],
   "source": [
    "df.index = pd.cut(df.TotalWorkingYears, bins=range(0,48,8))\n",
    "print(df.index)"
   ]
  },
  {
   "cell_type": "code",
   "execution_count": 14,
   "metadata": {},
   "outputs": [
    {
     "data": {
      "text/plain": [
       "{Interval(0, 8, closed='right'): 614,\n",
       " Interval(8, 16, closed='right'): 526,\n",
       " Interval(16, 24, closed='right'): 207,\n",
       " Interval(24, 32, closed='right'): 84,\n",
       " Interval(32, 40, closed='right'): 28}"
      ]
     },
     "execution_count": 14,
     "metadata": {},
     "output_type": "execute_result"
    }
   ],
   "source": [
    "total_working_years_dict1 = dict(df.index.value_counts())\n",
    "total_working_years_dict1"
   ]
  },
  {
   "cell_type": "code",
   "execution_count": 15,
   "metadata": {},
   "outputs": [
    {
     "data": {
      "text/plain": [
       "dict_keys([Interval(0, 8, closed='right'), Interval(8, 16, closed='right'), Interval(16, 24, closed='right'), Interval(24, 32, closed='right'), Interval(32, 40, closed='right')])"
      ]
     },
     "execution_count": 15,
     "metadata": {},
     "output_type": "execute_result"
    }
   ],
   "source": [
    "total_working_years_list = total_working_years_dict1.keys()\n",
    "total_working_years_list"
   ]
  },
  {
   "cell_type": "code",
   "execution_count": 153,
   "metadata": {},
   "outputs": [],
   "source": [
    "total_working_years_list = total_working_years_dict1.keys()\n",
    "total_working_years_list\n",
    "\n",
    "def plot_total_working_years_salary_dep(s: int, total_working_years: int, department: str):\n",
    "    \n",
    "    for i in total_working_years_list:\n",
    "        if total_working_years in i:\n",
    "            total_working_years_total = i\n",
    "    total_years_dict = dict(df[(df['TotalWorkingYears'].between(total_working_years_total.left, \n",
    "                                                                total_working_years_total.right)) \n",
    "                               & (df['Department'] == department)]['MonthlyIncome'].describe())\n",
    "            \n",
    "    employees = total_years_dict['count']\n",
    "    less = df[(df['TotalWorkingYears'].between(total_working_years_total.left, total_working_years_total.right)) \n",
    "              & (df['Department'] == department) \n",
    "              & (df['MonthlyIncome'] < s)]['MonthlyIncome'].count()\n",
    "    more = df[(df['TotalWorkingYears'] .between(total_working_years_total.left, total_working_years_total.right)) \n",
    "              & (df['Department'] == department) \n",
    "              & (df['MonthlyIncome'] > s)]['MonthlyIncome'].count()\n",
    "    less_p = round(100 * less / employees, 2)\n",
    "    more_p = round(100 * more / employees, 2)\n",
    "    print(f'{less_p}% people having total experience in range of {i} years and working in department {department}'\n",
    "          f' earn less than you, {more_p}% of them have higher monthly income.')\n",
    "    \n",
    "    var = st.variation(df[(df['TotalWorkingYears'].between(total_working_years_total.left, \n",
    "                                                           total_working_years_total.right))\n",
    "                          & (df['Department'] == department)]['MonthlyIncome'])\n",
    "    \n",
    "    if var > 0.10 and total_years_dict['count'] >= 15:\n",
    "        \n",
    "        if s <= total_years_dict['25%']:\n",
    "            salary = df[(df['TotalWorkingYears'].between(total_working_years_total.left, \n",
    "                                                         total_working_years_total.right)) \n",
    "                        & (df['Department'] == department) \n",
    "                        & (df['MonthlyIncome'] <= total_years_dict['25%'])]['MonthlyIncome']\n",
    "            plot_title = 'Your salary compared to first quartile.'\n",
    "        elif s <= total_years_dict['50%']:\n",
    "            salary = df[(df['TotalWorkingYears'].between(total_working_years_total.left, \n",
    "                                                         total_working_years_total.right)) \n",
    "                        & (df['Department'] == department) \n",
    "                        & (df['MonthlyIncome'] <= total_years_dict['50%']) \n",
    "                        & (df['MonthlyIncome'] > total_years_dict['25%'])]['MonthlyIncome']\n",
    "            plot_title = 'Your salary compared to second quartile.'\n",
    "        elif s <= total_years_dict['75%']:\n",
    "            salary = df[(df['TotalWorkingYears'].between(total_working_years_total.left, \n",
    "                                                         total_working_years_total.right)) \n",
    "                        & (df['Department'] == department) \n",
    "                        & (df['MonthlyIncome'] <= total_years_dict['75%']) \n",
    "                        & (df['MonthlyIncome'] > total_years_dict['50%'])]['MonthlyIncome']\n",
    "            plot_title = 'Your salary compared to third quartile.'\n",
    "        else:\n",
    "            salary = df[(df['TotalWorkingYears'].between(total_working_years_total.left, \n",
    "                                                         total_working_years_total.right)) \n",
    "                        & (df['Department'] == department)\n",
    "                        & (df['MonthlyIncome'] > total_years_dict['75%'])]['MonthlyIncome']\n",
    "            plot_title = 'Your salary compared to fourth quartile.'\n",
    "        \n",
    "  \n",
    "        plt.subplots(figsize=(8, 10))\n",
    "       \n",
    "        plt.subplot(211)\n",
    "        sns.histplot(data=salary, bins=4, cumulative=True, kde=True)\n",
    "        plt.axvline(x=s, color='r', linestyle='-', linewidth=2)\n",
    "        plt.title(plot_title)\n",
    "        \n",
    "        plt.subplot(212)\n",
    "        exp_salary = df[(df['TotalWorkingYears'].between(total_working_years_total.left, \n",
    "                                                         total_working_years_total.right))\n",
    "                        & (df['Department'] == department)]['MonthlyIncome']\n",
    "        gen_title = print('Your monthly income compared to all of the employees with total experience in the same range of total working years'\n",
    "                          ' and working in your department.')\n",
    "        sns.histplot(data=exp_salary, bins=4, cumulative=True, kde=True)\n",
    "        plt.axvline(x=s, color='r', linestyle='-', linewidth=2)\n",
    "        plt.title(gen_title)\n",
    "    \n",
    "    else:\n",
    "        print(f'Not enough employees in database to plot a comparison. Comparing now to all of the employees having experince'\n",
    "              f' in the same range {i} of total working years.')\n",
    "        \n",
    "        exp_salary = df[(df['TotalWorkingYears'].between(total_working_years_total.left, \n",
    "                                                         total_working_years_total.right))]['MonthlyIncome']\n",
    "        gen_title = 'Your salary compared to all of the employees with your experience.'\n",
    "        sns.histplot(data=exp_salary, bins=4, cumulative=True, kde=True)\n",
    "        plt.axvline(x=s, color='r', linestyle='-', linewidth=2)\n",
    "        plt.title(gen_title)"
   ]
  },
  {
   "cell_type": "code",
   "execution_count": 154,
   "metadata": {},
   "outputs": [
    {
     "name": "stdout",
     "output_type": "stream",
     "text": [
      "68.22% people having total experience in range of (32, 40] years and working in department 1 earn less than you, 31.54% of them have higher monthly income.\n",
      "Your monthly income compared to all of the employees with total experience in the same range of total working years and working in your department.\n"
     ]
    },
    {
     "data": {
      "image/png": "[encoded data removed]",
      "text/plain": [
       "<Figure size 576x720 with 2 Axes>"
      ]
     },
     "metadata": {},
     "output_type": "display_data"
    }
   ],
   "source": [
    "plot_total_working_years_salary_dep(3500, 8, 1)"
   ]
  },
  {
   "cell_type": "code",
   "execution_count": 96,
   "metadata": {},
   "outputs": [],
   "source": [
    "#JOB LEVEL\n",
    "   \n",
    "def plot_total_working_years_job_level_dep(JL: int, total_working_years: int, department: int):\n",
    "    for i in total_working_years_list:\n",
    "        if total_working_years in i:\n",
    "            total_working_years_total = i\n",
    "            \n",
    "    total_years_dict = dict(df[(df['TotalWorkingYears'].between(total_working_years_total.left, \n",
    "                                                                total_working_years_total.right))\n",
    "                               & (df['Department'] == department)]['JobLevel'].describe())\n",
    "            \n",
    "    employees = total_years_dict['count']\n",
    "    less = df[(df['TotalWorkingYears'].between(total_working_years_total.left, total_working_years_total.right))\n",
    "              & (df['Department'] == department) \n",
    "              & (df['JobLevel'] < JL)]['JobLevel'].count()\n",
    "    more = df[(df['TotalWorkingYears'].between(total_working_years_total.left, total_working_years_total.right))\n",
    "              & (df['Department'] == department) \n",
    "              & (df['JobLevel'] > JL)]['JobLevel'].count()\n",
    "    less_p = round(100 * less / employees,2)\n",
    "    more_p = round(100 * more / employees,2)\n",
    "    print(f'{less_p} % people having total experience in range of {total_working_years_total} years and working in department {department}' \n",
    "          f' are on higher job level,{more_p}% of them works on lower job level.')\n",
    "    \n",
    "    var = st.variation(df[(df['TotalWorkingYears'].between(total_working_years_total.left, total_working_years_total.right)) \n",
    "                          & (df['Department'] == department)]['JobLevel'])\n",
    "    \n",
    "    if var > 0.1 and total_years_dict['count'] >= 15:\n",
    "        if JL <= total_years_dict['25%']:\n",
    "            job_lvl = df[(df['TotalWorkingYears'].between(total_working_years_total.left, total_working_years_total.right)) \n",
    "                         & (df['Department'] == department) \n",
    "                         & (df['JobLevel'] <= total_years_dict['25%'])]['JobLevel']\n",
    "            plot_title = 'Your job level compared to first quartile.'\n",
    "        elif JL <= total_years_dict['50%']:\n",
    "            job_lvl = df[(df['TotalWorkingYears'].between(total_working_years_total.left, total_working_years_total.right)) \n",
    "                         & (df['Department'] == department) \n",
    "                         & (df['JobLevel'] <= total_years_dict['50%']) \n",
    "                         & (df['JobLevel'] > total_years_dict['25%'])]['JobLevel']\n",
    "            plot_title = 'Your job level compared to second quartile.'\n",
    "        elif JL <= total_years_dict['75%']:\n",
    "            job_lvl = df[(df['TotalWorkingYears'].between(total_working_years_total.left, total_working_years_total.right)) \n",
    "                         & (df['Department'] == department) \n",
    "                         & (df['JobLevel'] <= total_years_dict['75%']) \n",
    "                         & (df['JobLevel'] > total_years_dict['50%'])]['JobLevel']\n",
    "            plot_title = 'Your job level compared to third quartile.'\n",
    "        else:\n",
    "            job_lvl = df[(df['TotalWorkingYears'].between(total_working_years_total.left, total_working_years_total.right)) \n",
    "                         & (df['Department'] == department) \n",
    "                         & (df['JobLevel'] > total_years_dict['75%'])]['JobLevel']\n",
    "            plot_title = 'Your job level compared to fourth quartile.'\n",
    "        \n",
    "  \n",
    "        plt.figure(figsize=(6, 4))\n",
    "        sns.set_style('whitegrid')\n",
    "        sns.countplot(x='JobLevel', data=df[(df['TotalWorkingYears'].between(total_working_years_total.left, total_working_years_total.right))\n",
    "                                            & (df['Department'] == department)], palette='cool')\n",
    "        plt.title(f'Job Level across employees working for {total_working_years} years in department {department}.')\n",
    "        \n",
    "    else:\n",
    "        plt.figure(figsize=(6, 4))\n",
    "        sns.set_style('whitegrid')\n",
    "        sns.countplot(x='JobLevel', data=df[df['TotalWorkingYears'].between(total_working_years_total.left, total_working_years_total.right)], \n",
    "                      palette='cool')\n",
    "        print(f'Sorry, we do not have enough data to plot job level statistics for your department.'\n",
    "              f' Now showing general statistics for employees working for {i} years.')\n",
    "    plt.show()"
   ]
  },
  {
   "cell_type": "code",
   "execution_count": 97,
   "metadata": {},
   "outputs": [
    {
     "name": "stdout",
     "output_type": "stream",
     "text": [
      "84.6 % people having total experience in range of (0, 8] years and working in department 1 are on higher job level,0.0% of them works on lower job level.\n"
     ]
    },
    {
     "data": {
      "image/png": "[encoded data removed]",
      "text/plain": [
       "<Figure size 432x288 with 1 Axes>"
      ]
     },
     "metadata": {},
     "output_type": "display_data"
    }
   ],
   "source": [
    "plot_total_working_years_job_level_dep(2, 7, 1)"
   ]
  },
  {
   "cell_type": "code",
   "execution_count": 78,
   "metadata": {},
   "outputs": [],
   "source": [
    "# SATISFACTION\n",
    "\n",
    "\n",
    "def plot_satisfaction_totalyears_dep(js: int, rs: int, es:int, total_working_years: int, department: int):\n",
    "    for i in total_working_years_list:\n",
    "        if total_working_years in i:\n",
    "            total_working_years_total = i\n",
    "            \n",
    "    dfx = df[(df['TotalWorkingYears'].between(total_working_years_total.left, total_working_years_total.right)) \n",
    "             & (df['Department'] == department)]\n",
    "    job_sat_col = dfx['JobSatisfaction'].mean()\n",
    "    relationship_sat_col = dfx['RelationshipSatisfaction'].mean()\n",
    "    environment_sat_col = dfx['EnvironmentSatisfaction'].mean()\n",
    "    \n",
    "    job_sat_you = js\n",
    "    relationship_sat_you = rs\n",
    "    environment_sat_you = es     \n",
    "    if len(dfx) >2:\n",
    "        plt.figure(figsize=(8, 6))   \n",
    "        w=0.2\n",
    "        x = ['job satisfaction', 'relationship satisfaction', 'environment satisafction']\n",
    "        you = [job_sat_you, relationship_sat_you, environment_sat_you]\n",
    "        others = [job_sat_col, relationship_sat_col, environment_sat_col]\n",
    "          \n",
    "        bar1 = np.arange(len(x))\n",
    "        bar2 = [i+w for i in bar1]\n",
    "\n",
    "        plt.bar(bar1, you, w, label= 'you')\n",
    "        plt.bar(bar2, others, w, label='others')\n",
    "\n",
    "        # Add some text for labels, title and custom x-axis tick labels, etc.\n",
    "        plt.ylabel('Satsifaction Level')\n",
    "        plt.xlabel('Satisfaction')\n",
    "        plt.title('Your satisfaction levels compared to average satisfaction levels of people having total experience'\n",
    "                  ' in the range same as you and working in the same department')\n",
    "        plt.xticks(bar1+w/2, x)\n",
    "        plt.legend()\n",
    "        plt.show()\n",
    "    else:\n",
    "        print('Not enough data to show comparison')"
   ]
  },
  {
   "cell_type": "code",
   "execution_count": 79,
   "metadata": {},
   "outputs": [
    {
     "data": {
      "image/png": "[encoded data removed]",
      "text/plain": [
       "<Figure size 576x432 with 1 Axes>"
      ]
     },
     "metadata": {},
     "output_type": "display_data"
    }
   ],
   "source": [
    "plot_satisfaction_totalyears_dep(2, 3, 4, 8, 2)"
   ]
  },
  {
   "cell_type": "code",
   "execution_count": 26,
   "metadata": {},
   "outputs": [
    {
     "name": "stdout",
     "output_type": "stream",
     "text": [
      "Not enough data to show comparison\n"
     ]
    }
   ],
   "source": [
    "plot_satisfaction_totalyears_dep(2, 3, 4, 21, 3)"
   ]
  },
  {
   "cell_type": "markdown",
   "metadata": {},
   "source": [
    "# YEARS IN CURRENT ROLE"
   ]
  },
  {
   "cell_type": "code",
   "execution_count": 27,
   "metadata": {},
   "outputs": [
    {
     "data": {
      "text/plain": [
       "{2: 372,\n",
       " 0: 244,\n",
       " 7: 222,\n",
       " 3: 135,\n",
       " 4: 104,\n",
       " 8: 89,\n",
       " 9: 67,\n",
       " 1: 57,\n",
       " 6: 37,\n",
       " 5: 36,\n",
       " 10: 29,\n",
       " 11: 22,\n",
       " 13: 14,\n",
       " 14: 11,\n",
       " 12: 10,\n",
       " 15: 8,\n",
       " 16: 7,\n",
       " 17: 4,\n",
       " 18: 2}"
      ]
     },
     "execution_count": 27,
     "metadata": {},
     "output_type": "execute_result"
    }
   ],
   "source": [
    "years_in_curr_role_dict = dict(df.YearsInCurrentRole.value_counts())\n",
    "years_in_curr_role_dict"
   ]
  },
  {
   "cell_type": "code",
   "execution_count": 28,
   "metadata": {},
   "outputs": [
    {
     "data": {
      "text/plain": [
       "{1: 961, 0: 446, 2: 63}"
      ]
     },
     "execution_count": 28,
     "metadata": {},
     "output_type": "execute_result"
    }
   ],
   "source": [
    "departments_dict = dict(df.Department.value_counts())\n",
    "departments_dict"
   ]
  },
  {
   "cell_type": "code",
   "execution_count": 29,
   "metadata": {},
   "outputs": [
    {
     "name": "stdout",
     "output_type": "stream",
     "text": [
      "CategoricalIndex([(3.0, 6.0], (6.0, 9.0],        nan, (6.0, 9.0], (0.0, 3.0],\n",
      "                  (6.0, 9.0],        nan,        nan, (6.0, 9.0], (6.0, 9.0],\n",
      "                  ...\n",
      "                      (3, 6],     (0, 3],     (6, 9],     (3, 6],     (0, 3],\n",
      "                      (0, 3],     (6, 9],     (0, 3],     (3, 6],     (0, 3]],\n",
      "                 categories=[(0, 3], (3, 6], (6, 9], (9, 12], (12, 15], (15, 18]], ordered=True, name='YearsInCurrentRole', dtype='category', length=1470)\n"
     ]
    }
   ],
   "source": [
    "df.index = pd.cut(df.YearsInCurrentRole, bins=range(0,19,3))\n",
    "print(df.index)"
   ]
  },
  {
   "cell_type": "code",
   "execution_count": 30,
   "metadata": {},
   "outputs": [
    {
     "data": {
      "text/plain": [
       "{Interval(0, 3, closed='right'): 564,\n",
       " Interval(6, 9, closed='right'): 378,\n",
       " Interval(3, 6, closed='right'): 177,\n",
       " Interval(9, 12, closed='right'): 61,\n",
       " Interval(12, 15, closed='right'): 33,\n",
       " Interval(15, 18, closed='right'): 13}"
      ]
     },
     "execution_count": 30,
     "metadata": {},
     "output_type": "execute_result"
    }
   ],
   "source": [
    "years_in_curr_role_dict = dict(df.index.value_counts())\n",
    "years_in_curr_role_dict"
   ]
  },
  {
   "cell_type": "code",
   "execution_count": 31,
   "metadata": {},
   "outputs": [
    {
     "data": {
      "text/plain": [
       "dict_keys([Interval(0, 3, closed='right'), Interval(6, 9, closed='right'), Interval(3, 6, closed='right'), Interval(9, 12, closed='right'), Interval(12, 15, closed='right'), Interval(15, 18, closed='right')])"
      ]
     },
     "execution_count": 31,
     "metadata": {},
     "output_type": "execute_result"
    }
   ],
   "source": [
    "years_in_curr_role_list = years_in_curr_role_dict.keys()\n",
    "years_in_curr_role_list"
   ]
  },
  {
   "cell_type": "code",
   "execution_count": 142,
   "metadata": {},
   "outputs": [],
   "source": [
    "# Miesięczny przychód dla osób o danym doświadczeniu na obecnym stanowisku dla departamentu\n",
    "\n",
    "\n",
    "def plot_years_in_curr_role_salary_dep(s: int, years_in_curr_role: int, department: str):\n",
    "    for i in years_in_curr_role_list:\n",
    "        if years_in_curr_role in i:\n",
    "            years_in_curr_role_total = i\n",
    "    years_in_curr_role_dict = dict(df[(df['YearsInCurrentRole'].between(years_in_curr_role_total.left, years_in_curr_role_total.right))\n",
    "                                      & (df['Department'] == department)]['MonthlyIncome'].describe())\n",
    "            \n",
    "    employees =  years_in_curr_role_dict['count']\n",
    "    less = df[(df['YearsInCurrentRole'].between(years_in_curr_role_total.left, years_in_curr_role_total.right))\n",
    "              & (df['Department'] == department) \n",
    "              & (df['MonthlyIncome'] < s)]['MonthlyIncome'].count()\n",
    "    more = df[(df['YearsInCurrentRole'] .between(years_in_curr_role_total.left, years_in_curr_role_total.right))\n",
    "              & (df['Department'] == department) \n",
    "              & (df['MonthlyIncome'] > s)]['MonthlyIncome'].count()\n",
    "    less_p = round(100 * less / employees, 2)\n",
    "    more_p = round(100 * more / employees, 2)\n",
    "    print(f'{less_p}% people having exeprience in current role in range of {i} years and working in department {department}'\n",
    "          f' earn less than you, {more_p}% of them have higher monthly income.')\n",
    "    \n",
    "    var = st.variation(df[(df['YearsInCurrentRole'].between(years_in_curr_role_total.left, years_in_curr_role_total.right))\n",
    "                          & (df['Department'] == department)]['MonthlyIncome'])\n",
    "    \n",
    "    if var > 0.10 and  years_in_curr_role_dict['count'] >= 15:\n",
    "        \n",
    "        if s <=  years_in_curr_role_dict['25%']:\n",
    "            salary = df[(df['YearsInCurrentRole'].between(years_in_curr_role_total.left, years_in_curr_role_total.right))\n",
    "                        & (df['Department'] == department) \n",
    "                        & (df['MonthlyIncome'] <= years_in_curr_role_dict['25%'])]['MonthlyIncome']\n",
    "            plot_title = 'Your salary compared to first quartile.'\n",
    "        elif s <=  years_in_curr_role_dict['50%']:\n",
    "            salary = df[(df['YearsInCurrentRole'].between(years_in_curr_role_total.left, years_in_curr_role_total.right))\n",
    "                        & (df['Department'] == department) \n",
    "                        & (df['MonthlyIncome'] <= years_in_curr_role_dict['50%']) \n",
    "                        & (df['MonthlyIncome'] > years_in_curr_role_dict['25%'])]['MonthlyIncome']\n",
    "            plot_title = 'Your salary compared to second quartile.'\n",
    "        elif s <=  years_in_curr_role_dict['75%']:\n",
    "            salary = df[(df['YearsInCurrentRole'].between(years_in_curr_role_total.left, years_in_curr_role_total.right))\n",
    "                        & (df['Department'] == department) \n",
    "                        & (df['MonthlyIncome'] <= years_in_curr_role_dict['75%']) \n",
    "                        & (df['MonthlyIncome'] > years_in_curr_role_dict['50%'])]['MonthlyIncome']\n",
    "            plot_title = 'Your salary compared to third quartile.'\n",
    "        else:\n",
    "            salary = df[(df['YearsInCurrentRole'].between(years_in_curr_role_total.left, years_in_curr_role_total.right))\n",
    "                        & (df['Department'] == department) \n",
    "                        & (df['MonthlyIncome'] > years_in_curr_role_dict['75%'])]['MonthlyIncome']\n",
    "            plot_title = 'Your salary compared to fourth quartile.'\n",
    "        \n",
    "  \n",
    "        plt.subplots(figsize=(8, 10))\n",
    "       \n",
    "        plt.subplot(211)\n",
    "        sns.histplot(data=salary, bins=4, cumulative=True, kde=True)\n",
    "        plt.axvline(x=s, color='r', linestyle='-', linewidth=2)\n",
    "        plt.title(plot_title)\n",
    "        \n",
    "        plt.subplot(212)\n",
    "        exp_salary = df[(df['YearsInCurrentRole'].between(years_in_curr_role_total.left, years_in_curr_role_total.right))\n",
    "                        & (df['Department'] == department)]['MonthlyIncome']\n",
    "        gen_title = print('Your monthly income compared to all of the employees with experience in current role in the same range'\n",
    "                          ' and working in your department.')\n",
    "        sns.histplot(data=exp_salary, bins=4, cumulative=True, kde=True)\n",
    "        plt.axvline(x=s, color='r', linestyle='-', linewidth=2)\n",
    "        plt.title(gen_title)\n",
    "    \n",
    "    else:\n",
    "        print(f'Not enough employees in database to plot a comparison. Comparing now to all of the employees having experince'\n",
    "              ' in the same range of {i} years.')\n",
    "        \n",
    "        exp_salary = df[(df['YearsInCurrentRole'].between(years_in_curr_role_total.left, \n",
    "                                                          years_in_curr_role_total.right))]['MonthlyIncome']\n",
    "        gen_title = 'Your salary compared to all of the employees with experience in current role in the same range of {i} years.'\n",
    "        sns.histplot(data=exp_salary, bins=4, cumulative=True, kde=True)\n",
    "        plt.axvline(x=s, color='r', linestyle='-', linewidth=2)\n",
    "        plt.title(gen_title)"
   ]
  },
  {
   "cell_type": "code",
   "execution_count": 83,
   "metadata": {},
   "outputs": [
    {
     "name": "stdout",
     "output_type": "stream",
     "text": [
      "17.83% people having exeprience in current role in range of (15, 18] years and working in department 1 earn less than you, 82.17% of them have higher monthly income.\n",
      "Your monthly income compared to all of the employees with experience in current role in the same range and working in your department.\n"
     ]
    },
    {
     "data": {
      "image/png": "[encoded data removed]",
      "text/plain": [
       "<Figure size 576x720 with 2 Axes>"
      ]
     },
     "metadata": {},
     "output_type": "display_data"
    }
   ],
   "source": [
    "plot_years_in_curr_role_salary_dep(3500, 8, 1)"
   ]
  },
  {
   "cell_type": "code",
   "execution_count": 108,
   "metadata": {},
   "outputs": [],
   "source": [
    "#Na jakim poziomie job level znajdują sie osoby o tym samym doświadczeniu na obecnym stanowisku w tym samym departamencie\n",
    "\n",
    "def plot_years_in_curr_role_job_level_dep(JL: int, years_in_curr_role: int, department: int):\n",
    "    for i in years_in_curr_role_list:\n",
    "        if years_in_curr_role in i:\n",
    "            years_in_curr_role_total = i\n",
    "            \n",
    "    years_in_curr_role_dict = dict(df[(df['YearsInCurrentRole'].between(years_in_curr_role_total.left, years_in_curr_role_total.right))\n",
    "                                      & (df['Department'] == department)]['JobLevel'].describe())\n",
    "            \n",
    "          \n",
    "    employees = years_in_curr_role_dict['count']\n",
    "    less = df[(df['YearsInCurrentRole'].between(years_in_curr_role_total.left, years_in_curr_role_total.right)) \n",
    "              & (df['Department'] == department)\n",
    "              & (df['JobLevel'] < JL)]['JobLevel'].count()\n",
    "    more = df[(df['YearsInCurrentRole'].between(years_in_curr_role_total.left, years_in_curr_role_total.right))\n",
    "              & (df['Department'] == department)\n",
    "              & (df['JobLevel'] > JL)]['JobLevel'].count()\n",
    "    less_p = round(100 * less / employees,2)\n",
    "    more_p = round(100 * more / employees,2)\n",
    "    print(f'{less_p} % people having experience in their current role in range of {i} years and working in department {department}'\n",
    "          f' are on higher job level, {more_p}% of them works on lower job level.')\n",
    "    \n",
    "    var = st.variation(df[(df['YearsInCurrentRole'].between(years_in_curr_role_total.left, years_in_curr_role_total.right))\n",
    "                          & (df['Department'] == department)]['JobLevel'])\n",
    "    \n",
    "    if var > 0.1 and years_in_curr_role_dict['count'] >= 15:\n",
    "        if JL <= years_in_curr_role_dict['25%']:\n",
    "            job_lvl = df[(df['YearsInCurrentRole'].between(years_in_curr_role_total.left, years_in_curr_role_total.right))\n",
    "                         & (df['Department'] == department) & (df['JobLevel'] <= years_in_curr_role_dict['25%'])]['JobLevel']\n",
    "            plot_title = 'Your job level compared to first quartile.'\n",
    "            \n",
    "        elif JL <= years_in_curr_role_dict['50%']:\n",
    "            job_lvl = df[(df['YearsInCurrentRole'].between(years_in_curr_role_total.left, years_in_curr_role_total.right))\n",
    "                         & (df['Department'] == department) \n",
    "                         & (df['JobLevel'] <= tyears_in_curr_role_dict['50%']) \n",
    "                         & (df['JobLevel'] > years_in_curr_role_dict['25%'])]['JobLevel']\n",
    "            plot_title = 'Your job level compared to second quartile.'\n",
    "            \n",
    "        elif JL <= years_in_curr_role_dict['75%']:\n",
    "            job_lvl = df[(df['YearsInCurrentRole'].between(years_in_curr_role_total.left, years_in_curr_role_total.right))\n",
    "                         & (df['Department'] == department) \n",
    "                         & (df['JobLevel'] <= years_in_curr_role_dict['75%']) \n",
    "                         & (df['JobLevel'] > years_in_curr_role_dict['50%'])]['JobLevel']\n",
    "            plot_title = 'Your job level compared to third quartile.'\n",
    "            \n",
    "        else:\n",
    "            job_lvl = df[(df['YearsInCurrentRole'].between(years_in_curr_role_total.left, years_in_curr_role_total.right))\n",
    "                         & (df['Department'] == department) & (df['JobLevel'] > years_in_curr_role_dict['75%'])]['JobLevel']\n",
    "            plot_title = 'Your job level compared to fourth quartile.'\n",
    "        \n",
    "  \n",
    "        plt.figure(figsize=(6, 4))\n",
    "        sns.set_style('whitegrid')\n",
    "        sns.countplot(x='JobLevel', \n",
    "                      data=df[(df['YearsInCurrentRole'].between(years_in_curr_role_total.left, years_in_curr_role_total.right)\n",
    "                               & (df['Department'] == department)], palette='cool')\n",
    "        plt.title(f'Job Level across employees working for {years_in_curr_role} years in current role in department {department}.')\n",
    "        \n",
    "    else:\n",
    "        plt.figure(figsize=(6, 4))\n",
    "        sns.set_style('whitegrid')\n",
    "        sns.countplot(x='JobLevel', \n",
    "                      data=df[df['YearsInCurrentRole'].between(years_in_curr_role_total.left, years_in_curr_role_total.right)], \n",
    "                      palette='cool')\n",
    "        print(f'Sorry, we do not have enough data to plot job level statistics for your department.'\n",
    "              f' Now showing general statistics for employees working for {i} years in current role.')\n",
    "    plt.show()"
   ]
  },
  {
   "cell_type": "code",
   "execution_count": 99,
   "metadata": {},
   "outputs": [
    {
     "name": "stdout",
     "output_type": "stream",
     "text": [
      "12.79 % people having experience in their current role in range of (15, 18] years and working in department 1 are on higher job level, 51.16% of them works on lower job level.\n"
     ]
    },
    {
     "data": {
      "image/png": "[encoded data removed]",
      "text/plain": [
       "<Figure size 432x288 with 1 Axes>"
      ]
     },
     "metadata": {},
     "output_type": "display_data"
    }
   ],
   "source": [
    "plot_years_in_curr_role_job_level_dep(2, 10, 1)"
   ]
  },
  {
   "cell_type": "code",
   "execution_count": 100,
   "metadata": {},
   "outputs": [],
   "source": [
    "# Poziom satysfakcji wg doświadczenia na obecnym stanowisku i w danym departamanecie\n",
    "\n",
    "\n",
    "def plot_satisfaction_years_in_curr_role_Dep(js: int, rs: int, es:int, years_in_curr_role: int, department: int):\n",
    "    for i in years_in_curr_role_list:\n",
    "        if years_in_curr_role in i:\n",
    "            years_in_curr_role_total = i\n",
    "            \n",
    "    dfc = df[(df['YearsInCurrentRole'].between( years_in_curr_role_total.left,  years_in_curr_role_total.right))\n",
    "             & (df['Department'] == department)]\n",
    "    job_sat_col = dfc['JobSatisfaction'].mean()\n",
    "    relationship_sat_col = dfc['RelationshipSatisfaction'].mean()\n",
    "    environment_sat_col = dfc['EnvironmentSatisfaction'].mean()\n",
    "    \n",
    "    job_sat_you = js\n",
    "    relationship_sat_you = rs\n",
    "    environment_sat_you = es     \n",
    "    \n",
    "    if len(dfx) >2:\n",
    "        plt.figure(figsize=(8, 6))   \n",
    "        w=0.2\n",
    "        x = ['job satisfaction', 'relationship satisfaction', 'environment satisafction']\n",
    "        you = [job_sat_you, relationship_sat_you, environment_sat_you]\n",
    "        others = [job_sat_col, relationship_sat_col, environment_sat_col]\n",
    "          \n",
    "        bar1 = np.arange(len(x))\n",
    "        bar2 = [i+w for i in bar1]\n",
    "\n",
    "        plt.bar(bar1, you, w, label= 'you')\n",
    "        plt.bar(bar2, others, w, label='others')\n",
    "\n",
    "        # Add some text for labels, title and custom x-axis tick labels, etc.\n",
    "        plt.ylabel('Satsifaction Level')\n",
    "        plt.xlabel('Satisfaction')\n",
    "        plt.title('Your satisfaction levels compared to average satisfaction levels of people having having the same experience in current role'\n",
    "                  ' and working in the same department')\n",
    "        plt.xticks(bar1+w/2, x)\n",
    "        plt.legend()\n",
    "        plt.show()\n",
    "    else:\n",
    "        print('Not enough data to show comparison')"
   ]
  },
  {
   "cell_type": "code",
   "execution_count": 101,
   "metadata": {},
   "outputs": [
    {
     "name": "stdout",
     "output_type": "stream",
     "text": [
      "Not enough data to show comparison\n"
     ]
    }
   ],
   "source": [
    "plot_satisfaction_totalyears_dep(2, 3, 4, 2, 3)"
   ]
  },
  {
   "cell_type": "code",
   "execution_count": 156,
   "metadata": {},
   "outputs": [],
   "source": [
    "#Wykres pokazujący ile osób o podobnym doświadczeniu na obecnym stanowisku, pracującyh w tym samym departamencie robi nadgodziny\n",
    "def plot_current_role_overtime_dep(department: int, years_in_curr_role: int):\n",
    "    for i in years_in_curr_role_list:\n",
    "        if years_in_curr_role in i:\n",
    "            years_in_curr_role_total = i\n",
    "            \n",
    "    df1 = df[(df['YearsInCurrentRole'].between( years_in_curr_role_total.left,  years_in_curr_role_total.right))\n",
    "             & (df['Department'] == department)]\n",
    "    \n",
    "    if df1['OverTime'].count() > 0 and len(df1['OverTime'].unique()) == 2:\n",
    "        print('Showing OverTime statistics for people with expierinece in current role in same range and working'\n",
    "              ' in the same department')\n",
    "        sns.displot(df1, x= 'YearsInCurrentRole', hue= 'OverTime', hue_order=[True, False])\n",
    "    else:\n",
    "        print('Not enough data with expierinece in current role in same range and working in the same department.'\n",
    "              ' Showing general data for people with experience in current role within the same range')\n",
    "        sns.displot(x='YearsInCurrentRole', hue='OverTime', data=df[df['YearsInCurrentRole'] == years_in_curr_role], \n",
    "                    hue_order=[True, False])"
   ]
  },
  {
   "cell_type": "code",
   "execution_count": 157,
   "metadata": {},
   "outputs": [
    {
     "name": "stdout",
     "output_type": "stream",
     "text": [
      "Showing OverTime statistics for people with expierinece in current role in same range and working in the same department\n"
     ]
    },
    {
     "data": {
      "image/png": "[encoded data removed]",
      "text/plain": [
       "<Figure size 420.625x360 with 1 Axes>"
      ]
     },
     "metadata": {},
     "output_type": "display_data"
    }
   ],
   "source": [
    "plot_current_role_overtime_dep(1, 10)"
   ]
  },
  {
   "cell_type": "code",
   "execution_count": 121,
   "metadata": {},
   "outputs": [],
   "source": [
    "# Miesięczny przychód dla osób o danym doświadczeniu na tym samym stanowisku\n",
    "def plot_years_in_curr_role_position_salary_pos(s: int, years_in_curr_role: int, position: str):\n",
    "    \n",
    "    for i in years_in_curr_role_list:\n",
    "        if years_in_curr_role in i:\n",
    "            years_in_curr_role_total = i\n",
    "            \n",
    "    years_in_curr_role_dict = dict(df[(df['YearsInCurrentRole'].between(years_in_curr_role_total.left, \n",
    "                                                                        years_in_curr_role_total.right))\n",
    "                                      & (df['JobRole'] == position)]['MonthlyIncome'].describe())\n",
    "            \n",
    "    employees =  years_in_curr_role_dict['count']\n",
    "    less = df[(df['YearsInCurrentRole'].between(years_in_curr_role_total.left, years_in_curr_role_total.right))\n",
    "              & (df['JobRole'] == position)\n",
    "              & (df['MonthlyIncome'] < s)]['MonthlyIncome'].count()\n",
    "    more = df[(df['YearsInCurrentRole'] .between(years_in_curr_role_total.left, years_in_curr_role_total.right))\n",
    "              & (df['JobRole'] == position)\n",
    "              & (df['MonthlyIncome'] > s)]['MonthlyIncome'].count()\n",
    "    less_p = round(100 * less / employees, 2)\n",
    "    more_p = round(100 * more / employees, 2)\n",
    "    print(f'{less_p}% people having exeprience in current role in range of {i} years and working on the same position {position}'\n",
    "          f' earn less than you, {more_p}% of them have higher monthly income.')\n",
    "    \n",
    "    var = st.variation(df[(df['YearsInCurrentRole'].between(years_in_curr_role_total.left, years_in_curr_role_total.right))\n",
    "                          & (df['JobRole'] == position)]['MonthlyIncome'])\n",
    "    \n",
    "    if var > 0.10 and  years_in_curr_role_dict['count'] >= 15:\n",
    "        \n",
    "        if s <=  years_in_curr_role_dict['25%']:\n",
    "            salary = df[(df['YearsInCurrentRole'].between(years_in_curr_role_total.left, years_in_curr_role_total.right))\n",
    "                        & (df['JobRole'] == position) \n",
    "                        & (df['MonthlyIncome'] <= years_in_curr_role_dict['25%'])]['MonthlyIncome']\n",
    "            plot_title = 'Your salary compared to first quartile.'\n",
    "            \n",
    "        elif s <=  years_in_curr_role_dict['50%']:\n",
    "            salary = df[(df['YearsInCurrentRole'].between(years_in_curr_role_total.left, years_in_curr_role_total.right)) \n",
    "                        & (df['JobRole'] == position)  \n",
    "                        & (df['MonthlyIncome'] <= years_in_curr_role_dict['50%'])\n",
    "                        & (df['MonthlyIncome'] > years_in_curr_role_dict['25%'])]['MonthlyIncome']\n",
    "            plot_title = 'Your salary compared to second quartile.'\n",
    "            \n",
    "        elif s <=  years_in_curr_role_dict['75%']:\n",
    "            salary = df[(df['YearsInCurrentRole'].between(years_in_curr_role_total.left, years_in_curr_role_total.right)) \n",
    "                        & (df['JobRole'] == position) \n",
    "                        & (df['MonthlyIncome'] <= years_in_curr_role_dict['75%']) \n",
    "                        & (df['MonthlyIncome'] > years_in_curr_role_dict['50%'])]['MonthlyIncome']\n",
    "            plot_title = 'Your salary compared to third quartile.'\n",
    "            \n",
    "        else:\n",
    "            salary = df[(df['YearsInCurrentRole'].between(years_in_curr_role_total.left, years_in_curr_role_total.right)) \n",
    "                        & (df['JobRole'] == position) \n",
    "                        & (df['MonthlyIncome'] > years_in_curr_role_dict['75%'])]['MonthlyIncome']\n",
    "            plot_title = 'Your salary compared to fourth quartile.'\n",
    "        \n",
    "  \n",
    "        plt.subplots(figsize=(8, 10))\n",
    "       \n",
    "        plt.subplot(211)\n",
    "        sns.histplot(data=salary, bins=4, cumulative=True, kde=True)\n",
    "        plt.axvline(x=s, color='r', linestyle='-', linewidth=2)\n",
    "        plt.title(plot_title)\n",
    "        \n",
    "        plt.subplot(212)\n",
    "        exp_salary = df[(df['YearsInCurrentRole'].between(years_in_curr_role_total.left, years_in_curr_role_total.right))\n",
    "                        & (df['JobRole'] == position)]['MonthlyIncome']\n",
    "        gen_title = print('Your monthly income compared to all of the employees with experience in current role in the same range'\n",
    "                          ' and working in on the same position.')\n",
    "        sns.histplot(data=exp_salary, bins=4, cumulative=True, kde=True)\n",
    "        plt.axvline(x=s, color='r', linestyle='-', linewidth=2)\n",
    "        plt.title(gen_title)\n",
    "    \n",
    "    else:\n",
    "        print(f'Not enough employees in database to plot a comparison. Comparing now to all of the'\n",
    "              ' employees having experince in current orle in the same range of {i} years.')\n",
    "        \n",
    "        exp_salary = df[(df['YearsInCurrentRole'].between(years_in_curr_role_total.left, \n",
    "                                                          years_in_curr_role_total.right))]['MonthlyIncome']\n",
    "        gen_title = 'Your salary compared to all of the employees with experience in current role in the same range of {i} years.'\n",
    "        sns.histplot(data=exp_salary, bins=4, cumulative=True, kde=True)\n",
    "        plt.axvline(x=s, color='r', linestyle='-', linewidth=2)\n",
    "        plt.title(gen_title)"
   ]
  },
  {
   "cell_type": "code",
   "execution_count": 122,
   "metadata": {},
   "outputs": [
    {
     "name": "stdout",
     "output_type": "stream",
     "text": [
      "96.36% people having exeprience in current role in range of (15, 18] years and working on the same position Manufacturing Director earn less than you, 3.64% of them have higher monthly income.\n",
      "Your monthly income compared to all of the employees with experience in current role in the same range and working in on the same position.\n"
     ]
    },
    {
     "data": {
      "image/png": "[encoded data removed]",
      "text/plain": [
       "<Figure size 576x720 with 2 Axes>"
      ]
     },
     "metadata": {},
     "output_type": "display_data"
    }
   ],
   "source": [
    "plot_years_in_curr_role_position_salary_pos(13500, 8, 'Manufacturing Director')"
   ]
  },
  {
   "cell_type": "code",
   "execution_count": 110,
   "metadata": {},
   "outputs": [],
   "source": [
    "#Wykres pokazujący ile osób o podobnym doświadczeniu na obecnym stanowisku, pracującyh w tym samym departamencie robi nadgodziny\n",
    "def plot_current_role_overtime_position(position: str, years_in_curr_role: int):\n",
    "    for i in years_in_curr_role_list:\n",
    "        if years_in_curr_role in i:\n",
    "            years_in_curr_role_total = i\n",
    "            \n",
    "    df1 = df[(df['YearsInCurrentRole'].between( years_in_curr_role_total.left,  years_in_curr_role_total.right)) \n",
    "             & (df['JobRole'] == position)]\n",
    "    \n",
    "    if df1['OverTime'].count() > 0 and len(df1['OverTime'].unique()) == 2:\n",
    "        print(\"Showing OverTime statistics for people with experience on the same position within the same range of years\")\n",
    "        sns.displot(df1, x= 'YearsInCurrentRole', hue= 'OverTime', hue_order=[True, False])\n",
    "    else:\n",
    "        print('Not enough data with expierinece in the same range on the same position. Showing general data for people'\n",
    "              ' with experience in current role within the same range of years')\n",
    "        sns.displot(x='YearsInCurrentRole', hue='OverTime', data=df[df['YearsInCurrentRole'] == years_in_curr_role], \n",
    "                    hue_order=[True, False])"
   ]
  },
  {
   "cell_type": "code",
   "execution_count": 111,
   "metadata": {},
   "outputs": [
    {
     "name": "stdout",
     "output_type": "stream",
     "text": [
      "Showing OverTime statistics for people with experience on the same position within the same range of years\n"
     ]
    },
    {
     "data": {
      "image/png": "[encoded data removed]",
      "text/plain": [
       "<Figure size 420.625x360 with 1 Axes>"
      ]
     },
     "metadata": {},
     "output_type": "display_data"
    }
   ],
   "source": [
    "plot_current_role_overtime_position('Sales Executive', 7)"
   ]
  },
  {
   "cell_type": "markdown",
   "metadata": {},
   "source": [
    "# Years at Company"
   ]
  },
  {
   "cell_type": "code",
   "execution_count": 51,
   "metadata": {},
   "outputs": [
    {
     "data": {
      "text/plain": [
       "{5: 196,\n",
       " 1: 171,\n",
       " 3: 128,\n",
       " 2: 127,\n",
       " 10: 120,\n",
       " 4: 110,\n",
       " 7: 90,\n",
       " 9: 82,\n",
       " 8: 80,\n",
       " 6: 76,\n",
       " 0: 44,\n",
       " 11: 32,\n",
       " 20: 27,\n",
       " 13: 24,\n",
       " 15: 20,\n",
       " 14: 18,\n",
       " 22: 15,\n",
       " 12: 14,\n",
       " 21: 14,\n",
       " 18: 13,\n",
       " 16: 12,\n",
       " 19: 11,\n",
       " 17: 9,\n",
       " 24: 6,\n",
       " 33: 5,\n",
       " 25: 4,\n",
       " 26: 4,\n",
       " 31: 3,\n",
       " 32: 3,\n",
       " 36: 2,\n",
       " 27: 2,\n",
       " 29: 2,\n",
       " 23: 2,\n",
       " 30: 1,\n",
       " 34: 1,\n",
       " 37: 1,\n",
       " 40: 1}"
      ]
     },
     "execution_count": 51,
     "metadata": {},
     "output_type": "execute_result"
    }
   ],
   "source": [
    "years_at_company_dict = dict(df.YearsAtCompany.value_counts())\n",
    "years_at_company_dict"
   ]
  },
  {
   "cell_type": "code",
   "execution_count": 52,
   "metadata": {},
   "outputs": [
    {
     "data": {
      "text/plain": [
       "{1: 961, 0: 446, 2: 63}"
      ]
     },
     "execution_count": 52,
     "metadata": {},
     "output_type": "execute_result"
    }
   ],
   "source": [
    "departments_dict = dict(df.Department.value_counts())\n",
    "departments_dict"
   ]
  },
  {
   "cell_type": "code",
   "execution_count": 53,
   "metadata": {},
   "outputs": [
    {
     "data": {
      "text/plain": [
       "dict_keys([1, 0, 2])"
      ]
     },
     "execution_count": 53,
     "metadata": {},
     "output_type": "execute_result"
    }
   ],
   "source": [
    "departments = departments_dict.keys()\n",
    "departments"
   ]
  },
  {
   "cell_type": "code",
   "execution_count": 54,
   "metadata": {},
   "outputs": [
    {
     "name": "stdout",
     "output_type": "stream",
     "text": [
      "CategoricalIndex([ (0.0, 8.0], (8.0, 16.0],         nan,  (0.0, 8.0],\n",
      "                   (0.0, 8.0],  (0.0, 8.0],  (0.0, 8.0],  (0.0, 8.0],\n",
      "                  (8.0, 16.0],  (0.0, 8.0],\n",
      "                  ...\n",
      "                       (0, 8],      (0, 8],    (16, 24],     (8, 16],\n",
      "                       (0, 8],      (0, 8],      (0, 8],      (0, 8],\n",
      "                      (8, 16],      (0, 8]],\n",
      "                 categories=[(0, 8], (8, 16], (16, 24], (24, 32], (32, 40]], ordered=True, name='YearsAtCompany', dtype='category', length=1470)\n"
     ]
    }
   ],
   "source": [
    "df.index = pd.cut(df.YearsAtCompany, bins=range(0,48,8))\n",
    "print(df.index)"
   ]
  },
  {
   "cell_type": "code",
   "execution_count": 55,
   "metadata": {},
   "outputs": [
    {
     "data": {
      "text/plain": [
       "{Interval(0, 8, closed='right'): 978,\n",
       " Interval(8, 16, closed='right'): 322,\n",
       " Interval(16, 24, closed='right'): 97,\n",
       " Interval(24, 32, closed='right'): 19,\n",
       " Interval(32, 40, closed='right'): 10}"
      ]
     },
     "execution_count": 55,
     "metadata": {},
     "output_type": "execute_result"
    }
   ],
   "source": [
    "years_at_comp_dict = dict(df.index.value_counts())\n",
    "years_at_comp_dict"
   ]
  },
  {
   "cell_type": "code",
   "execution_count": 56,
   "metadata": {},
   "outputs": [
    {
     "data": {
      "text/plain": [
       "dict_keys([Interval(0, 8, closed='right'), Interval(8, 16, closed='right'), Interval(16, 24, closed='right'), Interval(24, 32, closed='right'), Interval(32, 40, closed='right')])"
      ]
     },
     "execution_count": 56,
     "metadata": {},
     "output_type": "execute_result"
    }
   ],
   "source": [
    "years_at_comp_list = years_at_comp_dict.keys()\n",
    "years_at_comp_list"
   ]
  },
  {
   "cell_type": "code",
   "execution_count": 119,
   "metadata": {},
   "outputs": [],
   "source": [
    "# Porownanie Income dla Total Years At Company i w danym departamnecie\n",
    "\n",
    "def plot_years_at_comp_salary_dep(s: int, years_at_comp: int, department: str):\n",
    "    \n",
    "    for i in years_at_comp_list:\n",
    "        if years_at_comp in i:\n",
    "            years_at_comp_total = i\n",
    "    years_at_comp_dict = dict(df[(df['YearsAtCompany'].between(years_at_comp_total.left, years_at_comp_total.right))\n",
    "                                 & (df['Department'] == department)]['MonthlyIncome'].describe())\n",
    "            \n",
    "    employees = years_at_comp_dict['count']\n",
    "    less = df[(df['YearsAtCompany'].between(years_at_comp_total.left, years_at_comp_total.right)) \n",
    "              & (df['Department'] == department)\n",
    "              & (df['MonthlyIncome'] < s)]['MonthlyIncome'].count()\n",
    "    more = df[(df['YearsAtCompany'] .between(years_at_comp_total.left, years_at_comp_total.right)) \n",
    "              & (df['Department'] == department)\n",
    "              & (df['MonthlyIncome'] > s)]['MonthlyIncome'].count()\n",
    "    less_p = round(100 * less / employees, 2)\n",
    "    more_p = round(100 * more / employees, 2)\n",
    "    print(f'{less_p}% people working in the company for the range of {i} years and working in department {department} earn less than you,'\n",
    "          f' {more_p}% of them have higher monthly income.')\n",
    "    \n",
    "    var = st.variation(df[(df['YearsAtCompany'].between(years_at_comp_total.left, years_at_comp_total.right))\n",
    "                          & (df['Department'] == department)]['MonthlyIncome'])\n",
    "    \n",
    "    if var > 0.10 and years_at_comp_dict['count'] >= 15:\n",
    "        \n",
    "        if s <= years_at_comp_dict['25%']:\n",
    "            salary = df[(df['YearsAtCompany'].between(years_at_comp_total.left, years_at_comp_total.right)) \n",
    "                        & (df['Department'] == department) \n",
    "                        & (df['MonthlyIncome'] <= years_at_comp_dict['25%'])]['MonthlyIncome']\n",
    "            plot_title = 'Your salary compared to first quartile.'\n",
    "            \n",
    "        elif s <= years_at_comp_dict['50%']:\n",
    "            salary = df[(df['YearsAtCompany'].between(years_at_comp_total.left, years_at_comp_total.right)) \n",
    "                        & (df['Department'] == department) \n",
    "                        & (df['MonthlyIncome'] <= years_at_comp_dict['50%']) \n",
    "                        & (df['MonthlyIncome'] > years_at_comp_dict['25%'])]['MonthlyIncome']\n",
    "            plot_title = 'Your salary compared to second quartile.'\n",
    "        elif s <= years_at_comp_dict['75%']:\n",
    "            salary = df[(df['YearsAtCompany'].between(years_at_comp_total.left, years_at_comp_total.right)) \n",
    "                        & (df['Department'] == department) \n",
    "                        & (df['MonthlyIncome'] <= years_at_comp_dict['75%']) \n",
    "                        & (df['MonthlyIncome'] > years_at_comp_dict['50%'])]['MonthlyIncome']\n",
    "            plot_title = 'Your salary compared to third quartile.'\n",
    "        else:\n",
    "            salary = df[(df['YearsAtCompany'].between(years_at_comp_total.left, years_at_comp_total.right)) \n",
    "                        & (df['Department'] == department) \n",
    "                        & (df['MonthlyIncome'] > years_at_comp_dict['75%'])]['MonthlyIncome']\n",
    "            plot_title = 'Your salary compared to fourth quartile.'\n",
    "        \n",
    "  \n",
    "        plt.subplots(figsize=(8, 10))\n",
    "       \n",
    "        plt.subplot(211)\n",
    "        sns.histplot(data=salary, bins=4, cumulative=True, kde=True)\n",
    "        plt.axvline(x=s, color='r', linestyle='-', linewidth=2)\n",
    "        plt.title(plot_title)\n",
    "        \n",
    "        plt.subplot(212)\n",
    "        exp_salary = df[(df['YearsAtCompany'].between(years_at_comp_total.left, years_at_comp_total.right))\n",
    "                        & (df['Department'] == department)]['MonthlyIncome']\n",
    "        gen_title = print('Your monthly income compared to all of the employees working at the company for the same range of years and' \n",
    "                          ' working in your department.')\n",
    "        sns.histplot(data=exp_salary, bins=4, cumulative=True, kde=True)\n",
    "        plt.axvline(x=s, color='r', linestyle='-', linewidth=2)\n",
    "        plt.title(gen_title)\n",
    "    \n",
    "    else:\n",
    "        print(f'Not enough employees in database to plot a comparison. Comparing now to all of the employees working in the company' \n",
    "              ' for the same range {i} years.')\n",
    "        \n",
    "        exp_salary = df[(df['YearsAtCompany'].between(years_at_comp_total.left, years_at_comp_total.right))]['MonthlyIncome']\n",
    "        gen_title = 'Your salary compared to all of the employees with your experience.'\n",
    "        sns.histplot(data=exp_salary, bins=4, cumulative=True, kde=True)\n",
    "        plt.axvline(x=s, color='r', linestyle='-', linewidth=2)\n",
    "        plt.title(gen_title)"
   ]
  },
  {
   "cell_type": "code",
   "execution_count": 120,
   "metadata": {},
   "outputs": [
    {
     "name": "stdout",
     "output_type": "stream",
     "text": [
      "70.52% people working in the company for the range of (32, 40] years and working in department 1 earn less than you, 29.48% of them have higher monthly income.\n",
      "Your monthly income compared to all of the employees working at the company for the same range of years and working in your department.\n"
     ]
    },
    {
     "data": {
      "image/png": "[encoded data removed]",
      "text/plain": [
       "<Figure size 576x720 with 2 Axes>"
      ]
     },
     "metadata": {},
     "output_type": "display_data"
    }
   ],
   "source": [
    "plot_years_at_comp_salary_dep(8000, 10, 1)"
   ]
  },
  {
   "cell_type": "code",
   "execution_count": 143,
   "metadata": {},
   "outputs": [],
   "source": [
    "#wykres job level dla osób z danym doświadczeniem pracy w firmie i pracującyh w tym samym departamencie\n",
    "\n",
    "def plot_years_at_comp_job_level_dep(JL: int, years_at_comp: int, department: int):\n",
    "    for i in years_at_comp_list:\n",
    "        if years_at_comp in i:\n",
    "            years_at_comp_total = i\n",
    "            \n",
    "    years_at_comp_dict = dict(df[(df['YearsAtCompany'].between(years_at_comp_total.left, years_at_comp_total.right))\n",
    "                                 & (df['Department'] == department)]['JobLevel'].describe())\n",
    "            \n",
    "          \n",
    "    employees = years_at_comp_dict['count']\n",
    "    less = df[(df['YearsAtCompany'].between(years_at_comp_total.left, years_at_comp_total.right)) \n",
    "              & (df['Department'] == department) \n",
    "              & (df['JobLevel'] < JL)]['JobLevel'].count()\n",
    "    more = df[(df['YearsAtCompany'].between(years_at_comp_total.left, years_at_comp_total.right)) \n",
    "              & (df['Department'] == department)\n",
    "              & (df['JobLevel'] > JL)]['JobLevel'].count()\n",
    "    less_p = round(100 * less / employees,2)\n",
    "    more_p = round(100 * more / employees,2)\n",
    "    print(f'{less_p} % people having experience in their current role in range of {years_at_comp_total} years and working in'\n",
    "          f' department {department} are on higher job level, {more_p}% of them works on lower job level.')\n",
    "    \n",
    "    var = st.variation(df[(df['YearsAtCompany'].between(years_at_comp_total.left, years_at_comp_total.right))\n",
    "                          & (df['Department'] == department)]['JobLevel'])\n",
    "    \n",
    "    if var > 0.1 and years_at_comp_dict['count'] >= 15:\n",
    "        if JL <= years_at_comp_dict['25%']:\n",
    "            job_lvl = df[(df['YearsAtCompany'].between(years_at_comp_total.left, years_at_comp_total.right)) \n",
    "                         & (df['Department'] == department) \n",
    "                         & (df['JobLevel'] <= years_at_comp_dict['25%'])]['JobLevel']\n",
    "            plot_title = 'Your job level compared to first quartile.'\n",
    "            \n",
    "        elif JL <= years_at_comp_dict['50%']:\n",
    "            job_lvl = df[(df['YearsAtCompany'].between(years_at_comp_total.left, years_at_comp_total.right)) \n",
    "                         & (df['Department'] == department) \n",
    "                         & (df['JobLevel'] <= years_at_comp_dict['50%']) \n",
    "                         & (df['JobLevel'] >years_at_comp_dict['25%'])]['JobLevel']\n",
    "            plot_title = 'Your job level compared to second quartile.'\n",
    "            \n",
    "        elif JL <= years_at_comp_dict['75%']:\n",
    "            job_lvl = df[(df['YearsAtCompany'].between(years_at_comp_total.left, years_at_comp_total.right)) \n",
    "                         & (df['Department'] == department) \n",
    "                         & (df['JobLevel'] <=years_at_comp_dict['75%']) \n",
    "                         & (df['JobLevel'] > years_at_comp_dict['50%'])]['JobLevel']\n",
    "            plot_title = 'Your job level compared to third quartile.'\n",
    "            \n",
    "        else:\n",
    "            job_lvl = df[(df['YearsAtCompany'].between(years_at_comp_total.left, years_at_comp_total.right)) \n",
    "                         & (df['Department'] == department) \n",
    "                         & (df['JobLevel'] > years_at_comp_dict['75%'])]['JobLevel']\n",
    "            plot_title = 'Your job level compared to fourth quartile.'\n",
    "        \n",
    "  \n",
    "        plt.figure(figsize=(6, 4))\n",
    "        sns.set_style('whitegrid')\n",
    "        sns.countplot(x='JobLevel', data=df[(df['YearsAtCompany'].between(years_at_comp_total.left, years_at_comp_total.right))\n",
    "                                            & (df['Department'] == department)], palette='cool')\n",
    "        plt.title(f'Job Level across employees working for {years_at_comp} years in current role in department {department}.')\n",
    "        \n",
    "    else:\n",
    "        plt.figure(figsize=(6, 4))\n",
    "        sns.set_style('whitegrid')\n",
    "        sns.countplot(x='JobLevel', data=df[df['YearsAtCompany'].between(years_at_comp_total.left, years_at_comp_total.right)], \n",
    "                      palette='cool')\n",
    "        print(f'Sorry, we do not have enough data to plot job level statistics for your department.\\nNow showing general statistics' \n",
    "              f' for employees working for {i} years in current role.')\n",
    "    plt.show()"
   ]
  },
  {
   "cell_type": "code",
   "execution_count": 144,
   "metadata": {},
   "outputs": [
    {
     "name": "stdout",
     "output_type": "stream",
     "text": [
      "0.0 % people having experience in their current role in range of (0, 8] years and working in department 1 are on higher job level, 42.14% of them works on lower job level.\n"
     ]
    },
    {
     "data": {
      "image/png": "[encoded data removed]",
      "text/plain": [
       "<Figure size 432x288 with 1 Axes>"
      ]
     },
     "metadata": {},
     "output_type": "display_data"
    }
   ],
   "source": [
    "plot_years_at_comp_job_level_dep(1, 7, 1)"
   ]
  },
  {
   "cell_type": "code",
   "execution_count": 146,
   "metadata": {},
   "outputs": [],
   "source": [
    "#Poziomy staysfakcji dla pracowników o tym samym stażu w firmie i pracujących w tym samym departamencie\n",
    "\n",
    "def plot_satisfaction_years_at_comp_dep(js: int, rs: int, es:int, years_at_comp: int, department: int):\n",
    "    for i in years_at_comp_list:\n",
    "        if years_at_comp in i:\n",
    "            years_at_comp_total = i\n",
    "            \n",
    "    dfc = df[(df['YearsAtCompany'].between(years_at_comp_total.left, years_at_comp_total.right)) \n",
    "             & (df['Department'] == department)]\n",
    "    job_sat_col = dfc['JobSatisfaction'].mean()\n",
    "    relationship_sat_col = dfc['RelationshipSatisfaction'].mean()\n",
    "    environment_sat_col = dfc['EnvironmentSatisfaction'].mean()\n",
    "    \n",
    "    job_sat_you = js\n",
    "    relationship_sat_you = rs\n",
    "    environment_sat_you = es     \n",
    "    \n",
    "    if len(dfc) >2:\n",
    "        plt.figure(figsize=(8, 6))   \n",
    "        w=0.2\n",
    "        x = ['job satisfaction', 'relationship satisfaction', 'environment satisafction']\n",
    "        you = [job_sat_you, relationship_sat_you, environment_sat_you]\n",
    "        others = [job_sat_col, relationship_sat_col, environment_sat_col]\n",
    "          \n",
    "        bar1 = np.arange(len(x))\n",
    "        bar2 = [i+w for i in bar1]\n",
    "\n",
    "        plt.bar(bar1, you, w, label= 'you')\n",
    "        plt.bar(bar2, others, w, label='others')\n",
    "\n",
    "        # Add some text for labels, title and custom x-axis tick labels, etc.\n",
    "        plt.ylabel('Satsifaction Level')\n",
    "        plt.xlabel('Satisfaction')\n",
    "        plt.title('Your satisfaction levels compared to average satisfaction levels of people having having the'\n",
    "                  ' same experience in current role and working in the same department')\n",
    "        plt.xticks(bar1+w/2, x)\n",
    "        plt.legend()\n",
    "        plt.show()\n",
    "    else:\n",
    "        print('Not enough data to show comparison')"
   ]
  },
  {
   "cell_type": "code",
   "execution_count": 147,
   "metadata": {},
   "outputs": [
    {
     "data": {
      "image/png": "[encoded data removed]",
      "text/plain": [
       "<Figure size 576x432 with 1 Axes>"
      ]
     },
     "metadata": {},
     "output_type": "display_data"
    }
   ],
   "source": [
    "plot_satisfaction_years_at_comp_dep(1, 2, 3, 5, 1)"
   ]
  },
  {
   "cell_type": "code",
   "execution_count": 128,
   "metadata": {},
   "outputs": [],
   "source": [
    "#Wykres pokazujący ile osób o podobnym stażu w firmie, pracującyh w tym samym departamencie robi nadgodziny\n",
    "def plot_years_at_comp_overtime_dep(department: int, years_at_comp: int):\n",
    "    for i in years_at_comp_list:\n",
    "        if years_at_comp in i:\n",
    "            years_at_comp_total = i\n",
    "            \n",
    "    df1 = df[(df['YearsAtCompany'].between(years_at_comp_total.left, years_at_comp_total.right))\n",
    "             & (df['Department'] == department)]\n",
    "    \n",
    "    if df1['OverTime'].count() > 0 and len(df1['OverTime'].unique()) == 2:\n",
    "        print('Showing OverTime statistics for people with experience of work at company in same range and working in the same department')\n",
    "        sns.displot(df1, x= 'YearsInCurrentRole', hue= 'OverTime', hue_order=[True, False])\n",
    "    else:\n",
    "        print('Not enough data for people with experience of work at company in same range and working in the same department.' \n",
    "              ' Showing general data for people with experience of work at company within the same range')\n",
    "        sns.displot(x='YearsInCurrentRole', hue='OverTime', data=df[df['YearsInCurrentRole'] == years_in_curr_role], \n",
    "                    hue_order=[True, False])"
   ]
  },
  {
   "cell_type": "code",
   "execution_count": 129,
   "metadata": {},
   "outputs": [
    {
     "name": "stdout",
     "output_type": "stream",
     "text": [
      "Showing OverTime statistics for people with experience of work at company in same range and working in the same department\n"
     ]
    },
    {
     "data": {
      "image/png": "[encoded data removed]",
      "text/plain": [
       "<Figure size 420.625x360 with 1 Axes>"
      ]
     },
     "metadata": {},
     "output_type": "display_data"
    }
   ],
   "source": [
    "plot_years_at_comp_overtime_dep(1, 3)"
   ]
  },
  {
   "cell_type": "code",
   "execution_count": 148,
   "metadata": {},
   "outputs": [],
   "source": [
    "# Porownanie Income dla Total Years At Company i na danym stanowisku\n",
    "\n",
    "def plot_years_at_comp_salary_pos(s: int, years_at_comp: int, position: str):\n",
    "    \n",
    "    for i in years_at_comp_list:\n",
    "        if years_at_comp in i:\n",
    "            years_at_comp_total = i\n",
    "    years_at_comp_dict = dict(df[(df['YearsAtCompany'].between(years_at_comp_total.left, years_at_comp_total.right))\n",
    "                                 & (df['JobRole'] == position)]['MonthlyIncome'].describe())\n",
    "            \n",
    "    employees = years_at_comp_dict['count']\n",
    "    less = df[(df['YearsAtCompany'].between(years_at_comp_total.left, years_at_comp_total.right)) \n",
    "              & (df['JobRole'] == position) \n",
    "              & (df['MonthlyIncome'] < s)]['MonthlyIncome'].count()\n",
    "    more = df[(df['YearsAtCompany'] .between(years_at_comp_total.left, years_at_comp_total.right)) \n",
    "              & (df['JobRole'] == position)\n",
    "              & (df['MonthlyIncome'] > s)]['MonthlyIncome'].count()\n",
    "    less_p = round(100 * less / employees, 2)\n",
    "    more_p = round(100 * more / employees, 2)\n",
    "    print(f'{less_p}% people working in the company for the range of {i} years and working on the same position {position} earn less than you,'\n",
    "          f'{more_p}% of them have higher monthly income.')\n",
    "    \n",
    "    var = st.variation(df[(df['YearsAtCompany'].between(years_at_comp_total.left, years_at_comp_total.right))\n",
    "                          & (df['JobRole'] == position)]['MonthlyIncome'])\n",
    "    \n",
    "    if var > 0.10 and years_at_comp_dict['count'] >= 15:\n",
    "        \n",
    "        if s <= years_at_comp_dict['25%']:\n",
    "            salary = df[(df['YearsAtCompany'].between(years_at_comp_total.left, years_at_comp_total.right)) \n",
    "                        & (df['JobRole'] == position) \n",
    "                        & (df['MonthlyIncome'] <= years_at_comp_dict['25%'])]['MonthlyIncome']\n",
    "            plot_title = 'Your salary compared to first quartile.'\n",
    "            \n",
    "        elif s <= years_at_comp_dict['50%']:\n",
    "            salary = df[(df['YearsAtCompany'].between(years_at_comp_total.left, years_at_comp_total.right)) \n",
    "                        & (df['JobRole'] == position) \n",
    "                        & (df['MonthlyIncome'] <= years_at_comp_dict['50%'])\n",
    "                        & (df['MonthlyIncome'] > years_at_comp_dict['25%'])]['MonthlyIncome']\n",
    "            plot_title = 'Your salary compared to second quartile.'\n",
    "            \n",
    "        elif s <= years_at_comp_dict['75%']:\n",
    "            salary = df[(df['YearsAtCompany'].between(years_at_comp_total.left, years_at_comp_total.right)) \n",
    "                        & (df['JobRole'] == position) \n",
    "                        & (df['MonthlyIncome'] <= years_at_comp_dict['75%']) \n",
    "                        & (df['MonthlyIncome'] > years_at_comp_dict['50%'])]['MonthlyIncome']\n",
    "            plot_title = 'Your salary compared to third quartile.'\n",
    "            \n",
    "        else:\n",
    "            salary = df[(df['YearsAtCompany'].between(years_at_comp_total.left, years_at_comp_total.right)) \n",
    "                        & (df['JobRole'] == position)\n",
    "                        & (df['MonthlyIncome'] > years_at_comp_dict['75%'])]['MonthlyIncome']\n",
    "            plot_title = 'Your salary compared to fourth quartile.'\n",
    "        \n",
    "  \n",
    "        plt.subplots(figsize=(8, 10))\n",
    "       \n",
    "        plt.subplot(211)\n",
    "        sns.histplot(data=salary, bins=4, cumulative=True, kde=True)\n",
    "        plt.axvline(x=s, color='r', linestyle='-', linewidth=2)\n",
    "        plt.title(plot_title)\n",
    "        \n",
    "        plt.subplot(212)\n",
    "        exp_salary = df[(df['YearsAtCompany'].between(years_at_comp_total.left, years_at_comp_total.right))\n",
    "                        & (df['JobRole'] == position)]['MonthlyIncome']\n",
    "        gen_title = print('Your monthly income compared to all of the employees working at the company for the same range of years' \n",
    "                          ' and at the same position.')\n",
    "        sns.histplot(data=exp_salary, bins=4, cumulative=True, kde=True)\n",
    "        plt.axvline(x=s, color='r', linestyle='-', linewidth=2)\n",
    "        plt.title(gen_title)\n",
    "    \n",
    "    else:\n",
    "        print(f'Not enough employees in database to plot a comparison.'\n",
    "              f' Comparing now to all of the employees working in the company for the same range {i} years.')\n",
    "        \n",
    "        exp_salary = df[(df['YearsAtCompany'].between(years_at_comp_total.left, years_at_comp_total.right))]['MonthlyIncome']\n",
    "        gen_title = 'Your salary compared to all of the employees with your experience.'\n",
    "        sns.histplot(data=exp_salary, bins=4, cumulative=True, kde=True)\n",
    "        plt.axvline(x=s, color='r', linestyle='-', linewidth=2)\n",
    "        plt.title(gen_title)"
   ]
  },
  {
   "cell_type": "code",
   "execution_count": 132,
   "metadata": {},
   "outputs": [
    {
     "name": "stdout",
     "output_type": "stream",
     "text": [
      "99.59% people working in the company for the range of (32, 40] years and working on the same position Research Scientist earn less than you,0.41% of them have higher monthly income.\n",
      "Your monthly income compared to all of the employees working at the company for the same range of years and at the same position.\n"
     ]
    },
    {
     "data": {
      "image/png": "[encoded data removed]",
      "text/plain": [
       "<Figure size 576x720 with 2 Axes>"
      ]
     },
     "metadata": {},
     "output_type": "display_data"
    }
   ],
   "source": [
    "plot_years_at_comp_salary_pos(7000, 4, 'Research Scientist')"
   ]
  },
  {
   "cell_type": "code",
   "execution_count": 149,
   "metadata": {},
   "outputs": [],
   "source": [
    "#wykres job level dla osób z danym doświadczeniem pracy w firmie i pracującyh na tym samym stanowisku\n",
    "\n",
    "def plot_years_at_comp_job_level_pos(JL: int, years_at_comp: int, position: str):\n",
    "    for i in years_at_comp_list:\n",
    "        if years_at_comp in i:\n",
    "            years_at_comp_total = i\n",
    "            \n",
    "    years_at_comp_dict = dict(df[(df['YearsAtCompany'].between(years_at_comp_total.left, years_at_comp_total.right))\n",
    "                                 & (df['JobRole'] == position)]['JobLevel'].describe())\n",
    "            \n",
    "          \n",
    "    employees = years_at_comp_dict['count']\n",
    "    less = df[(df['YearsAtCompany'].between(years_at_comp_total.left, years_at_comp_total.right))\n",
    "              & (df['JobRole'] == position)\n",
    "              & (df['JobLevel'] < JL)]['JobLevel'].count()\n",
    "    more = df[(df['YearsAtCompany'].between(years_at_comp_total.left, years_at_comp_total.right))\n",
    "              & (df['JobRole'] == position)\n",
    "              & (df['JobLevel'] > JL)]['JobLevel'].count()\n",
    "    less_p = round(100 * less / employees,2)\n",
    "    more_p = round(100 * more / employees,2)\n",
    "    print(f'{less_p} % people having experience in their current role in range of {years_at_comp_total} years and working as {position}'\n",
    "          f' are on higher job level, {more_p}% of them works on lower job level.')\n",
    "    \n",
    "    var = st.variation(df[(df['YearsAtCompany'].between(years_at_comp_total.left, years_at_comp_total.right))\n",
    "                          & (df['JobRole'] == position)]['JobLevel'])\n",
    "    \n",
    "    if var > 0.1 and years_at_comp_dict['count'] >= 15:\n",
    "        if JL <= years_at_comp_dict['25%']:\n",
    "            job_lvl = df[(df['YearsAtCompany'].between(years_at_comp_total.left, years_at_comp_total.right))\n",
    "                         & (df['JobRole'] == position)\n",
    "                         & (df['JobLevel'] <= years_at_comp_dict['25%'])]['JobLevel']\n",
    "            plot_title = 'Your job level compared to first quartile.'\n",
    "            \n",
    "        elif JL <= years_at_comp_dict['50%']:\n",
    "            job_lvl = df[(df['YearsAtCompany'].between(years_at_comp_total.left, years_at_comp_total.right))\n",
    "                         & (df['JobRole'] == position)\n",
    "                         & (df['JobLevel'] <= years_at_comp_dict['50%']) \n",
    "                         & (df['JobLevel'] >years_at_comp_dict['25%'])]['JobLevel']\n",
    "            plot_title = 'Your job level compared to second quartile.'\n",
    "            \n",
    "        elif JL <= years_at_comp_dict['75%']:\n",
    "            job_lvl = df[(df['YearsAtCompany'].between(years_at_comp_total.left, years_at_comp_total.right)) \n",
    "                         & (df['JobRole'] == position) & \n",
    "                        (df['JobLevel'] <=years_at_comp_dict['75%']) \n",
    "                         & (df['JobLevel'] > years_at_comp_dict['50%'])]['JobLevel']\n",
    "            plot_title = 'Your job level compared to third quartile.'\n",
    "            \n",
    "        else:\n",
    "            job_lvl = df[(df['YearsAtCompany'].between(years_at_comp_total.left, years_at_comp_total.right))\n",
    "                         & (df['JobRole'] == position) \n",
    "                         & (df['JobLevel'] > years_at_comp_dict['75%'])]['JobLevel']\n",
    "            plot_title = 'Your job level compared to fourth quartile.'\n",
    "        \n",
    "  \n",
    "        plt.figure(figsize=(6, 4))\n",
    "        sns.set_style('whitegrid')\n",
    "        sns.countplot(x='JobLevel', data=df[(df['YearsAtCompany'].between(years_at_comp_total.left, years_at_comp_total.right))\n",
    "                                            & (df['JobRole'] == position)], palette='cool')\n",
    "        plt.title(f'Job Level across employees working for {years_at_comp} years in company as {position}.')\n",
    "        \n",
    "    else:\n",
    "        plt.figure(figsize=(6, 4))\n",
    "        sns.set_style('whitegrid')\n",
    "        sns.countplot(x='JobLevel', data=df[df['YearsAtCompany'].between(years_at_comp_total.left, years_at_comp_total.right)], \n",
    "                      palette='cool')\n",
    "        print(f'Sorry, we do not have enough data to plot job level statistics for your department.\\n' \n",
    "              f' Now showing general statistics for employees working for {i} years in current role.')\n",
    "    plt.show()"
   ]
  },
  {
   "cell_type": "code",
   "execution_count": 150,
   "metadata": {},
   "outputs": [
    {
     "name": "stdout",
     "output_type": "stream",
     "text": [
      "87.97 % people having experience in their current role in range of (0, 8] years and working as Research Scientist are on higher job level, 0.41% of them works on lower job level.\n"
     ]
    },
    {
     "data": {
      "image/png": "[encoded data removed]",
      "text/plain": [
       "<Figure size 432x288 with 1 Axes>"
      ]
     },
     "metadata": {},
     "output_type": "display_data"
    }
   ],
   "source": [
    "plot_years_at_comp_job_level_pos(2, 7, 'Research Scientist')"
   ]
  },
  {
   "cell_type": "code",
   "execution_count": 135,
   "metadata": {},
   "outputs": [],
   "source": [
    "#Poziomy staysfakcji dla pracowników o tym samym stażu w firmie i pracujących na tym samym stanowisku\n",
    "\n",
    "def plot_satisfaction_years_at_comp_pos(js: int, rs: int, es:int, years_at_comp: int, position: str):\n",
    "    for i in years_at_comp_list:\n",
    "        if years_at_comp in i:\n",
    "            years_at_comp_total = i\n",
    "            \n",
    "    dfc = df[(df['YearsAtCompany'].between(years_at_comp_total.left, years_at_comp_total.right))\n",
    "             & (df['JobRole'] == position)]\n",
    "    job_sat_col = dfc['JobSatisfaction'].mean()\n",
    "    relationship_sat_col = dfc['RelationshipSatisfaction'].mean()\n",
    "    environment_sat_col = dfc['EnvironmentSatisfaction'].mean()\n",
    "    \n",
    "    job_sat_you = js\n",
    "    relationship_sat_you = rs\n",
    "    environment_sat_you = es     \n",
    "    \n",
    "    if len(dfc) >2:\n",
    "        plt.figure(figsize=(8, 6))   \n",
    "        w=0.2\n",
    "        x = ['job satisfaction', 'relationship satisfaction', 'environment satisafction']\n",
    "        you = [job_sat_you, relationship_sat_you, environment_sat_you]\n",
    "        others = [job_sat_col, relationship_sat_col, environment_sat_col]\n",
    "          \n",
    "        bar1 = np.arange(len(x))\n",
    "        bar2 = [i+w for i in bar1]\n",
    "\n",
    "        plt.bar(bar1, you, w, label= 'you')\n",
    "        plt.bar(bar2, others, w, label='others')\n",
    "\n",
    "        # Add some text for labels, title and custom x-axis tick labels, etc.\n",
    "        plt.ylabel('Satsifaction Level')\n",
    "        plt.xlabel('Satisfaction')\n",
    "        plt.title('Your satisfaction levels compared to average satisfaction levels of people having having the same experience of' \n",
    "                  ' working at the company and being hired on the same position')\n",
    "        plt.xticks(bar1+w/2, x)\n",
    "        plt.legend()\n",
    "        plt.show()\n",
    "    else:\n",
    "        print('Not enough data to show comparison')"
   ]
  },
  {
   "cell_type": "code",
   "execution_count": 136,
   "metadata": {},
   "outputs": [
    {
     "data": {
      "image/png": "[encoded data removed]",
      "text/plain": [
       "<Figure size 576x432 with 1 Axes>"
      ]
     },
     "metadata": {},
     "output_type": "display_data"
    }
   ],
   "source": [
    "plot_satisfaction_years_at_comp_pos(2,2,3, 7, 'Research Scientist')"
   ]
  },
  {
   "cell_type": "code",
   "execution_count": 138,
   "metadata": {},
   "outputs": [],
   "source": [
    "#Wykres pokazujący ile osób o podobnym stażu w firmie, pracującyh na tym samym stabowisku robi nadgodziny\n",
    "def plot_years_at_comp_overtime_pos(position: str, years_at_comp: int):\n",
    "    for i in years_at_comp_list:\n",
    "        if years_at_comp in i:\n",
    "            years_at_comp_total = i\n",
    "            \n",
    "    df1 = df[(df['YearsAtCompany'].between(years_at_comp_total.left, years_at_comp_total.right))\n",
    "             & (df['JobRole'] == position)]\n",
    "    \n",
    "    if df1['OverTime'].count() > 0 and len(df1['OverTime'].unique()) == 2:\n",
    "        print('Showing OverTime statistics for people with experience of work at company in same range and working at the same position')\n",
    "        sns.displot(df1, x= 'YearsInCurrentRole', hue= 'OverTime', hue_order=[True, False])\n",
    "    else:\n",
    "        print('Not enough data for people with experience of work at company in same range and working on the same position.' \n",
    "              ' Showing general data for people with experience of work at company within the same range')\n",
    "        sns.displot(x='YearsInCurrentRole', hue='OverTime', data=df[df['YearsInCurrentRole'] == years_in_curr_role], \n",
    "                    hue_order=[True, False])"
   ]
  },
  {
   "cell_type": "code",
   "execution_count": 139,
   "metadata": {},
   "outputs": [
    {
     "name": "stdout",
     "output_type": "stream",
     "text": [
      "Showing OverTime statistics for people with experience of work at company in same range and working at the same position\n"
     ]
    },
    {
     "data": {
      "image/png": "[encoded data removed]",
      "text/plain": [
       "<Figure size 420.625x360 with 1 Axes>"
      ]
     },
     "metadata": {},
     "output_type": "display_data"
    }
   ],
   "source": [
    " plot_years_at_comp_overtime_pos('Research Scientist', 7)"
   ]
  }
 ],
 "metadata": {
  "kernelspec": {
   "display_name": "Python 3",
   "language": "python",
   "name": "python3"
  },
  "language_info": {
   "codemirror_mode": {
    "name": "ipython",
    "version": 3
   },
   "file_extension": ".py",
   "mimetype": "text/x-python",
   "name": "python",
   "nbconvert_exporter": "python",
   "pygments_lexer": "ipython3",
   "version": "3.8.5"
  }
 },
 "nbformat": 4,
 "nbformat_minor": 4
}
