{
 "cells": [
  {
   "cell_type": "code",
   "execution_count": null,
   "metadata": {},
   "outputs": [],
   "source": [
    "# Updatek depek\n",
    "%pip install seaborn --upgrade"
   ]
  },
  {
   "cell_type": "code",
   "execution_count": 144,
   "metadata": {},
   "outputs": [],
   "source": [
    "import pandas as pd\n",
    "from ipywidgets import interactive, Dropdown, IntSlider, Button, Box, Label\n",
    "from IPython.display import display, clear_output"
   ]
  },
  {
   "cell_type": "code",
   "execution_count": 86,
   "metadata": {},
   "outputs": [],
   "source": [
    "from core.analysis.salary import SalaryPlots\n",
    "from core.analysis.attrition import AttritionPlots\n",
    "from core.analysis.distance_from_home import DistanceFromHomePlots\n",
    "from core.analysis.education import EducationPlots\n",
    "from core.analysis.experience import ExperiencePlots"
   ]
  },
  {
   "cell_type": "code",
   "execution_count": 171,
   "metadata": {},
   "outputs": [
    {
     "data": {
      "application/vnd.jupyter.widget-view+json": {
       "model_id": "c3f331c9be8c458aa7d8b756b7ca5ff1",
       "version_major": 2,
       "version_minor": 0
      },
      "text/plain": [
       "Dropdown(description='Job Role:', options=('Sales Executive', 'Research Scientist', 'Laboratory Technician', '…"
      ]
     },
     "metadata": {},
     "output_type": "display_data"
    },
    {
     "data": {
      "application/vnd.jupyter.widget-view+json": {
       "model_id": "506d4b23d99244bc9c9658e4e4a9c2f3",
       "version_major": 2,
       "version_minor": 0
      },
      "text/plain": [
       "Dropdown(description='Job Level:', disabled=True, options=(), value=None)"
      ]
     },
     "metadata": {},
     "output_type": "display_data"
    },
    {
     "data": {
      "application/vnd.jupyter.widget-view+json": {
       "model_id": "a86da157b19c4c81aac3df3a46e2c55b",
       "version_major": 2,
       "version_minor": 0
      },
      "text/plain": [
       "Dropdown(description='Gender:', options=(None, 'Female', 'Male'), value=None)"
      ]
     },
     "metadata": {},
     "output_type": "display_data"
    },
    {
     "data": {
      "application/vnd.jupyter.widget-view+json": {
       "model_id": "c7d045a6835d41cba2d2549972ef00b6",
       "version_major": 2,
       "version_minor": 0
      },
      "text/plain": [
       "IntSlider(value=0, description='Salary:', disabled=True, max=0)"
      ]
     },
     "metadata": {},
     "output_type": "display_data"
    },
    {
     "data": {
      "application/vnd.jupyter.widget-view+json": {
       "model_id": "a19be3d5c8404b978367e77557eace9f",
       "version_major": 2,
       "version_minor": 0
      },
      "text/plain": [
       "IntSlider(value=0, description='Age:', disabled=True, max=0)"
      ]
     },
     "metadata": {},
     "output_type": "display_data"
    },
    {
     "data": {
      "application/vnd.jupyter.widget-view+json": {
       "model_id": "9fc4c059b6c3404f8f5140b6294a3df8",
       "version_major": 2,
       "version_minor": 0
      },
      "text/plain": [
       "Button(button_style='info', description='Salary vs Job Role', icon='check', style=ButtonStyle(), tooltip='Plot…"
      ]
     },
     "metadata": {},
     "output_type": "display_data"
    },
    {
     "data": {
      "application/vnd.jupyter.widget-view+json": {
       "model_id": "743ea31ba0e34c7a85e38b1915d86ad6",
       "version_major": 2,
       "version_minor": 0
      },
      "text/plain": [
       "Label(value='For Salary vs Job Role fill: salary, job role, job level')"
      ]
     },
     "metadata": {},
     "output_type": "display_data"
    },
    {
     "data": {
      "application/vnd.jupyter.widget-view+json": {
       "model_id": "3deeaa36ad73425ba73e6b44004490a4",
       "version_major": 2,
       "version_minor": 0
      },
      "text/plain": [
       "Button(button_style='info', description='Salary vs Gender', icon='check', style=ButtonStyle(), tooltip='Plot S…"
      ]
     },
     "metadata": {},
     "output_type": "display_data"
    },
    {
     "data": {
      "application/vnd.jupyter.widget-view+json": {
       "model_id": "3bb95e5faf21490fa0848606781bfe24",
       "version_major": 2,
       "version_minor": 0
      },
      "text/plain": [
       "Label(value='For Salary vs Gender fill: salary, job role, gender')"
      ]
     },
     "metadata": {},
     "output_type": "display_data"
    },
    {
     "data": {
      "application/vnd.jupyter.widget-view+json": {
       "model_id": "b3aeedeb92e94087b25aaf4d6f0b58dd",
       "version_major": 2,
       "version_minor": 0
      },
      "text/plain": [
       "Button(button_style='info', description='Salary vs Age', icon='check', style=ButtonStyle(), tooltip='Plot Sala…"
      ]
     },
     "metadata": {},
     "output_type": "display_data"
    },
    {
     "data": {
      "application/vnd.jupyter.widget-view+json": {
       "model_id": "901f1cf9c21749efbbbfacd3c4635317",
       "version_major": 2,
       "version_minor": 0
      },
      "text/plain": [
       "Label(value='For Salary vs Age fill: salary, job role, age')"
      ]
     },
     "metadata": {},
     "output_type": "display_data"
    },
    {
     "data": {
      "application/vnd.jupyter.widget-view+json": {
       "model_id": "940821917b694af696777b38446140fd",
       "version_major": 2,
       "version_minor": 0
      },
      "text/plain": [
       "Button(button_style='info', description='Attrition, Job Role', icon='check', style=ButtonStyle(), tooltip='Att…"
      ]
     },
     "metadata": {},
     "output_type": "display_data"
    },
    {
     "data": {
      "application/vnd.jupyter.widget-view+json": {
       "model_id": "0d033461ff654d60ae3196f8bcc372bf",
       "version_major": 2,
       "version_minor": 0
      },
      "text/plain": [
       "Label(value='For Attrition, Job Role fill: job role, job level')"
      ]
     },
     "metadata": {},
     "output_type": "display_data"
    },
    {
     "data": {
      "application/vnd.jupyter.widget-view+json": {
       "model_id": "081cd97079794e76afab0f36b05ffb1b",
       "version_major": 2,
       "version_minor": 0
      },
      "text/plain": [
       "Button(button_style='info', description='Attrition Rankings', icon='check', style=ButtonStyle(), tooltip='Attr…"
      ]
     },
     "metadata": {},
     "output_type": "display_data"
    },
    {
     "data": {
      "application/vnd.jupyter.widget-view+json": {
       "model_id": "267d9e25dbad40c4bb226aaaf63c535d",
       "version_major": 2,
       "version_minor": 0
      },
      "text/plain": [
       "Label(value='For Attrition Rankings fill: job role')"
      ]
     },
     "metadata": {},
     "output_type": "display_data"
    }
   ],
   "source": [
    "class StatApp:\n",
    "    def __init__ (self):\n",
    "        self.df = pd.read_csv('../dataset-normalized.csv')\n",
    "        self.job_roles = self.df['JobRole'].unique()\n",
    "        self.job_levels = self.df['JobLevel'].unique()\n",
    "        self.available_job_levels = []\n",
    "        self.min_salary = 0\n",
    "        self.max_salary = 0\n",
    "        self.min_age = 0\n",
    "        self.max_age = 0\n",
    "        self.genders = self.df['Gender'].unique()\n",
    "\n",
    "        self.salary = SalaryPlots(self.df)\n",
    "        self.attrition = AttritionPlots(self.df)\n",
    "        self.distance_from_home = DistanceFromHomePlots(self.df)\n",
    "        self.education = EducationPlots(self.df)\n",
    "        self.experience = ExperiencePlots(self.df)\n",
    "        \n",
    "        self.state = {\n",
    "            'jobRoleDropdown': None,\n",
    "            'jobLevelDropdown': None,\n",
    "            'genderDropdown': None,\n",
    "            'salarySlider': None,\n",
    "            'ageSlider': None\n",
    "        }\n",
    "        \n",
    "        self.layout = {\n",
    "            'jobRoleDropdown': None,\n",
    "            'jobLevelDropdown': None,\n",
    "            'genderDropdown': None,\n",
    "            'salarySlider': None,\n",
    "            'ageSlider': None,\n",
    "            'btnPlotSalary': None,\n",
    "            'btnPlotGender': None,\n",
    "            'btnPlotAge': None,\n",
    "            'btnPlotAttrition': None,\n",
    "            'btnPlotAttritionRankings': None\n",
    "        }\n",
    "        \n",
    "    def find_layout_element (self, target):\n",
    "        for key, value in self.layout.items():\n",
    "            if value == target:\n",
    "                return key\n",
    "    \n",
    "    def handle_change (self, data):\n",
    "        target = self.find_layout_element(data.owner)\n",
    "        \n",
    "        if target is not None:\n",
    "            self.state[target] = data.new\n",
    "\n",
    "        if data.owner == self.layout['jobRoleDropdown']:\n",
    "            self.available_job_levels = self.df.loc[self.df['JobRole'] == data.new]['JobLevel'].unique()\n",
    "            self.min_salary = self.df.loc[self.df['JobRole'] == data.new]['MonthlyIncome'].min()\n",
    "            self.max_salary = self.df.loc[self.df['JobRole'] == data.new]['MonthlyIncome'].max()\n",
    "            self.min_age = self.df.loc[self.df['JobRole'] == data.new]['Age'].min()\n",
    "            self.max_age = self.df.loc[self.df['JobRole'] == data.new]['Age'].max()\n",
    "            self.state['jobLevelDropdown'] = None\n",
    "            self.render()\n",
    "            \n",
    "    def plot_salary (self, _data):\n",
    "        self.render()\n",
    "        self.salary.plot_salary(\n",
    "            self.state['salarySlider'],\n",
    "            self.state['jobRoleDropdown'],\n",
    "            self.state['jobLevelDropdown']\n",
    "        )\n",
    "        \n",
    "    def plot_salary_age (self, _data):\n",
    "        self.render()\n",
    "        self.salary.plot_salary_vs_age(\n",
    "            self.state['salarySlider'],\n",
    "            self.state['jobRoleDropdown'],\n",
    "            self.state['ageSlider']\n",
    "        )\n",
    "        \n",
    "    def plot_salary_gender (self, _data):\n",
    "        self.render()\n",
    "        self.salary.plot_salary_vs_gender(\n",
    "            self.state['salarySlider'],\n",
    "            self.state['jobRoleDropdown'],\n",
    "            self.state['genderDropdown']\n",
    "        )\n",
    "    \n",
    "    def plot_attrition (self, _data):\n",
    "        self.render()\n",
    "        self.attrition.plot_attrition(\n",
    "            self.state['jobRoleDropdown'],\n",
    "            self.state['jobLevelDropdown']\n",
    "        )\n",
    "\n",
    "    def plot_attrition_rankings (self, _data):\n",
    "        self.render()\n",
    "        self.attrition.attrition_rankings(\n",
    "            self.state['jobRoleDropdown']\n",
    "        )\n",
    "\n",
    "    def render (self):\n",
    "        clear_output()\n",
    "        \n",
    "        labels = [\n",
    "            Label('For Salary vs Job Role fill: salary, job role, job level'),\n",
    "            Label('For Salary vs Gender fill: salary, job role, gender'),\n",
    "            Label('For Salary vs Age fill: salary, job role, age'),\n",
    "            Label('For Attrition, Job Role fill: job role, job level'),\n",
    "            Label('For Attrition Rankings fill: job role')\n",
    "        ]\n",
    "\n",
    "        self.layout['jobRoleDropdown'] = Dropdown(\n",
    "            options=self.job_roles,\n",
    "            description='Job Role:',\n",
    "            value=self.state['jobRoleDropdown']\n",
    "        )\n",
    "        self.layout['jobLevelDropdown'] = Dropdown(\n",
    "            options=self.available_job_levels,\n",
    "            description='Job Level:',\n",
    "            disabled=len(self.available_job_levels) == 0,\n",
    "            value=self.state['jobLevelDropdown']\n",
    "        )\n",
    "        self.layout['genderDropdown'] = Dropdown(\n",
    "            options=[None, *self.genders],\n",
    "            description='Gender:',\n",
    "            disabled=len(self.genders) == 0,\n",
    "            value=self.state['genderDropdown']\n",
    "        )\n",
    "        self.layout['salarySlider'] = IntSlider(\n",
    "            value=self.state['salarySlider'],\n",
    "            min=self.min_salary,\n",
    "            max=self.max_salary,\n",
    "            step=1,\n",
    "            description='Salary:',\n",
    "            disabled=self.state['jobRoleDropdown'] == None\n",
    "        )\n",
    "        self.layout['ageSlider'] = IntSlider(\n",
    "            value=self.state['ageSlider'],\n",
    "            min=self.min_age,\n",
    "            max=self.max_age,\n",
    "            step=1,\n",
    "            description='Age:',\n",
    "            disabled=self.state['jobRoleDropdown'] == None\n",
    "        )\n",
    "        self.layout['btnPlotSalary'] = Button(\n",
    "            description='Salary vs Job Role',\n",
    "            disabled=False,\n",
    "            button_style='info',\n",
    "            tooltip='Plot Salary vs Job Role & Job Level',\n",
    "            icon='check'\n",
    "        )\n",
    "        self.layout['btnPlotGender'] = Button(\n",
    "            description='Salary vs Gender',\n",
    "            disabled=False,\n",
    "            button_style='info',\n",
    "            tooltip='Plot Salary vs Job Role & Gender',\n",
    "            icon='check'\n",
    "        )\n",
    "        self.layout['btnPlotAge'] = Button(\n",
    "            description='Salary vs Age',\n",
    "            disabled=False,\n",
    "            button_style='info',\n",
    "            tooltip='Plot Salary vs Job Role & Age',\n",
    "            icon='check'\n",
    "        )\n",
    "        self.layout['btnPlotAttrition'] = Button(\n",
    "            description='Attrition, Job Role',\n",
    "            disabled=False,\n",
    "            button_style='info',\n",
    "            tooltip='Attrition, Job Role, Job Level',\n",
    "            icon='check'\n",
    "        )\n",
    "        self.layout['btnPlotAttritionRankings'] = Button(\n",
    "            description='Attrition Rankings',\n",
    "            disabled=False,\n",
    "            button_style='info',\n",
    "            tooltip='Attrition Rankings',\n",
    "            icon='check'\n",
    "        )\n",
    "        \n",
    "        self.layout['btnPlotSalary'].on_click(self.plot_salary)\n",
    "        self.layout['btnPlotGender'].on_click(self.plot_salary_gender)\n",
    "        self.layout['btnPlotAge'].on_click(self.plot_salary_age)\n",
    "        self.layout['btnPlotAttrition'].on_click(self.plot_attrition)\n",
    "        self.layout['btnPlotAttritionRankings'].on_click(self.plot_attrition_rankings)\n",
    "\n",
    "        for key in self.layout.keys():\n",
    "            self.layout[key].observe(self.handle_change, names='value')\n",
    "\n",
    "        layout = []\n",
    "        labels_i = 0\n",
    "        \n",
    "        for key in self.layout.keys():\n",
    "            layout.append(self.layout[key])\n",
    "            \n",
    "            if key.startswith('btn'):\n",
    "                layout.append(labels[labels_i])\n",
    "                labels_i += 1\n",
    "            \n",
    "        display(*layout)\n",
    "        \n",
    "app = StatApp()\n",
    "\n",
    "app.render()\n",
    "\n",
    "# salary.plot_salary\n",
    "# salary: int, job_role: str, job_lvl: int\n",
    "\n",
    "# salary.plot_salary_vs_age\n",
    "# salary: int, job_role: str, age: num = None\n",
    "\n",
    "# salary.plot_salary_vs_gender\n",
    "# salary: int, job_role: str, gender=None)\n",
    "\n",
    "# StatApp().salary.plot_salary_vs_gender(8300, 'Manufacturing Director')\n",
    "\n",
    "# attrition.plot_attrition\n",
    "# job_role: str, job_level: int\n",
    "\n",
    "# attrition.attrition_rankings\n",
    "# job_role: str\n",
    "\n",
    "# StatApp().attrition.attrition_rankings('Laboratory Technician')\n",
    "\n",
    "\n",
    "# StatApp().distance_from_home.plot_distance(20, 'Female', 4)\n",
    "\n",
    "# StatApp().education.plot_satisfaction_education(2, 3, 4, 'Medical', 5)\n",
    "# StatApp().education.plot_satisfaction_education(2, 3, 4, 'Human Resources', 1)\n",
    "# StatApp().education.plot_eductaion_salary(3300, 'Marketing', 5)\n",
    "# StatApp().education.plot_eductaion_job_level(2, 'Marketing', 5)\n",
    "# StatApp().education.plot_attrition('Medical', 5)\n",
    "# StatApp().education.plot_attrition('Medical', 4)\n",
    "# StatApp().education.plot_education_overtme('Medical', 5)\n",
    "\n",
    "# StatApp().experience.plot_total_working_years_salary_dep(3500, 8, 1)"
   ]
  },
  {
   "cell_type": "code",
   "execution_count": 170,
   "metadata": {},
   "outputs": [
    {
     "data": {
      "application/vnd.jupyter.widget-view+json": {
       "model_id": "f5d1d91ab27b4f5680c2f9a35cfc3aa5",
       "version_major": 2,
       "version_minor": 0
      },
      "text/plain": [
       "Dropdown(description='Gender:', index=1, options=('Female', 'Male'), value='Male')"
      ]
     },
     "metadata": {},
     "output_type": "display_data"
    },
    {
     "data": {
      "application/vnd.jupyter.widget-view+json": {
       "model_id": "cf17b21cb43f429f9c498d711d00acec",
       "version_major": 2,
       "version_minor": 0
      },
      "text/plain": [
       "Box(children=(Label(value='Your distance from home:'), IntSlider(value=15, max=29, min=1)))"
      ]
     },
     "metadata": {},
     "output_type": "display_data"
    },
    {
     "data": {
      "application/vnd.jupyter.widget-view+json": {
       "model_id": "b31e02540f06427b98f8049f22f9bd61",
       "version_major": 2,
       "version_minor": 0
      },
      "text/plain": [
       "Box(children=(Label(value='Your years at company:'), IntSlider(value=0, max=40)))"
      ]
     },
     "metadata": {},
     "output_type": "display_data"
    },
    {
     "data": {
      "application/vnd.jupyter.widget-view+json": {
       "model_id": "cbe72e046cd347db91af25d97f47ab54",
       "version_major": 2,
       "version_minor": 0
      },
      "text/plain": [
       "Button(button_style='info', description='Check', icon='check', style=ButtonStyle(), tooltip='Check distance fr…"
      ]
     },
     "metadata": {},
     "output_type": "display_data"
    },
    {
     "data": {
      "image/png": "[encoded data removed]",
      "text/plain": [
       "<Figure size 432x576 with 2 Axes>"
      ]
     },
     "metadata": {},
     "output_type": "display_data"
    },
    {
     "name": "stdout",
     "output_type": "stream",
     "text": [
      "82.76% Male working in company for 0 years has less distance from home, 13.79% of them has higher distance from home than you.\n"
     ]
    }
   ],
   "source": [
    "class DistanceStatApp:\n",
    "    def __init__ (self):\n",
    "        self.df = pd.read_csv('../dataset-normalized.csv')\n",
    "        self.genders = self.df['Gender'].unique()\n",
    "        self.min_distance_from_home = self.df['DistanceFromHome'].min()\n",
    "        self.max_distance_from_home = self.df['DistanceFromHome'].max()\n",
    "        self.min_years_at_company = self.df['YearsAtCompany'].min()\n",
    "        self.max_years_at_company = self.df['YearsAtCompany'].max()\n",
    "\n",
    "        self.distance_from_home = DistanceFromHomePlots(self.df)\n",
    "        \n",
    "        self.state = {\n",
    "            'genderDropdown': None,\n",
    "            'distanceFromHomeSlider': None,\n",
    "            'yearsAtCompanySlider': None\n",
    "        }\n",
    "        \n",
    "        self.layout = {\n",
    "            'genderDropdown': None,\n",
    "            'distanceFromHomeSlider': None,\n",
    "            'yearsAtCompanySlider': None,\n",
    "            'btnPlotDistanceFromHome': None\n",
    "        }\n",
    "        \n",
    "    def find_layout_element (self, target):\n",
    "        for key, value in self.layout.items():\n",
    "            if value == target:\n",
    "                return key\n",
    "    \n",
    "    def handle_change (self, data):\n",
    "        target = self.find_layout_element(data.owner)\n",
    "        \n",
    "        if target is not None:\n",
    "            self.state[target] = data.new\n",
    "            \n",
    "    def plot_distance_from_home (self, _data):\n",
    "        self.render()\n",
    "        self.distance_from_home.plot_distance(\n",
    "            self.state['distanceFromHomeSlider'],\n",
    "            self.state['genderDropdown'],\n",
    "            self.state['yearsAtCompanySlider']\n",
    "        )\n",
    "\n",
    "    def render (self):\n",
    "        clear_output()\n",
    "\n",
    "        self.layout['genderDropdown'] = Dropdown(\n",
    "            options=self.genders,\n",
    "            description='Gender:',\n",
    "            disabled=len(self.genders) == 0,\n",
    "            value=self.state['genderDropdown']\n",
    "        )\n",
    "        self.layout['distanceFromHomeSlider'] = IntSlider(\n",
    "            value=self.state['distanceFromHomeSlider'],\n",
    "            min=self.min_distance_from_home,\n",
    "            max=self.max_distance_from_home,\n",
    "            step=1,\n",
    "        )\n",
    "        self.layout['yearsAtCompanySlider'] = IntSlider(\n",
    "            value=self.state['yearsAtCompanySlider'],\n",
    "            min=self.min_years_at_company,\n",
    "            max=self.max_years_at_company,\n",
    "            step=1,\n",
    "        )\n",
    "        layout = [\n",
    "            Box(\n",
    "                [\n",
    "                    Label(value='Your distance from home:'),\n",
    "                    self.layout['distanceFromHomeSlider']\n",
    "                ]\n",
    "            ),\n",
    "            Box(\n",
    "                [\n",
    "                    Label(value='Your years at company:'),\n",
    "                    self.layout['yearsAtCompanySlider']\n",
    "                ]\n",
    "            )\n",
    "        ]\n",
    "        self.layout['btnPlotDistanceFromHome'] = Button(\n",
    "            description='Check',\n",
    "            disabled=False,\n",
    "            button_style='info',\n",
    "            tooltip='Check distance from home',\n",
    "            icon='check'\n",
    "        )\n",
    "        \n",
    "        self.layout['btnPlotDistanceFromHome'].on_click(self.plot_distance_from_home)\n",
    "        \n",
    "        to_display = []\n",
    "\n",
    "        for key in self.layout.keys():\n",
    "            if key not in ['distanceFromHomeSlider', 'yearsAtCompanySlider']:\n",
    "                to_display.append(self.layout[key])\n",
    "            elif key == 'distanceFromHomeSlider':\n",
    "                [to_display.append(i) for i in layout]\n",
    "            self.layout[key].observe(self.handle_change, names='value')\n",
    "\n",
    "        display(*to_display)\n",
    "        \n",
    "app = DistanceStatApp()\n",
    "\n",
    "app.render()"
   ]
  },
  {
   "cell_type": "code",
   "execution_count": null,
   "metadata": {},
   "outputs": [],
   "source": []
  }
 ],
 "metadata": {
  "kernelspec": {
   "display_name": "Python 3",
   "language": "python",
   "name": "python3"
  },
  "language_info": {
   "codemirror_mode": {
    "name": "ipython",
    "version": 3
   },
   "file_extension": ".py",
   "mimetype": "text/x-python",
   "name": "python",
   "nbconvert_exporter": "python",
   "pygments_lexer": "ipython3",
   "version": "3.8.3"
  }
 },
 "nbformat": 4,
 "nbformat_minor": 4
}
