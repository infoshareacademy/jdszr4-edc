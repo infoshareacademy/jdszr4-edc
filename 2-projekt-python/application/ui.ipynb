{
 "cells": [
  {
   "cell_type": "code",
   "execution_count": null,
   "metadata": {},
   "outputs": [],
   "source": [
    "# Updatek depek\n",
    "%pip install seaborn --upgrade"
   ]
  },
  {
   "cell_type": "code",
   "execution_count": 1,
   "metadata": {},
   "outputs": [],
   "source": [
    "import pandas as pd\n",
    "from ipywidgets import interactive, Dropdown, IntSlider, Button, Box, Label, HTML\n",
    "from IPython.display import display, clear_output"
   ]
  },
  {
   "cell_type": "code",
   "execution_count": 2,
   "metadata": {},
   "outputs": [],
   "source": [
    "from core.analysis.salary import SalaryPlots\n",
    "from core.analysis.attrition import AttritionPlots\n",
    "from core.analysis.distance_from_home import DistanceFromHomePlots\n",
    "from core.analysis.education import EducationPlots\n",
    "from core.analysis.experience import ExperiencePlots"
   ]
  },
  {
   "cell_type": "code",
   "execution_count": null,
   "metadata": {},
   "outputs": [],
   "source": [
    "class StatApp:\n",
    "    def __init__ (self):\n",
    "        self.df = pd.read_csv('../dataset-normalized.csv')\n",
    "        self.job_roles = self.df['JobRole'].unique()\n",
    "        self.job_levels = self.df['JobLevel'].unique()\n",
    "        self.available_job_levels = []\n",
    "        self.min_salary = 0\n",
    "        self.max_salary = 0\n",
    "        self.min_age = 0\n",
    "        self.max_age = 0\n",
    "        self.genders = self.df['Gender'].unique()\n",
    "\n",
    "        self.salary = SalaryPlots(self.df)\n",
    "        self.attrition = AttritionPlots(self.df)\n",
    "        self.distance_from_home = DistanceFromHomePlots(self.df)\n",
    "        self.education = EducationPlots(self.df)\n",
    "        self.experience = ExperiencePlots(self.df)\n",
    "        \n",
    "        self.state = {\n",
    "            'jobRoleDropdown': None,\n",
    "            'jobLevelDropdown': None,\n",
    "            'genderDropdown': None,\n",
    "            'salarySlider': None,\n",
    "            'ageSlider': None\n",
    "        }\n",
    "        \n",
    "        self.layout = {\n",
    "            'jobRoleDropdown': None,\n",
    "            'jobLevelDropdown': None,\n",
    "            'genderDropdown': None,\n",
    "            'salarySlider': None,\n",
    "            'ageSlider': None,\n",
    "            'btnPlotSalary': None,\n",
    "            'btnPlotGender': None,\n",
    "            'btnPlotAge': None,\n",
    "            'btnPlotAttrition': None,\n",
    "            'btnPlotAttritionRankings': None\n",
    "        }\n",
    "        \n",
    "    def find_layout_element (self, target):\n",
    "        for key, value in self.layout.items():\n",
    "            if value == target:\n",
    "                return key\n",
    "    \n",
    "    def handle_change (self, data):\n",
    "        target = self.find_layout_element(data.owner)\n",
    "        \n",
    "        if target is not None:\n",
    "            self.state[target] = data.new\n",
    "\n",
    "        if data.owner == self.layout['jobRoleDropdown']:\n",
    "            self.available_job_levels = self.df.loc[self.df['JobRole'] == data.new]['JobLevel'].unique()\n",
    "            self.min_salary = self.df.loc[self.df['JobRole'] == data.new]['MonthlyIncome'].min()\n",
    "            self.max_salary = self.df.loc[self.df['JobRole'] == data.new]['MonthlyIncome'].max()\n",
    "            self.min_age = self.df.loc[self.df['JobRole'] == data.new]['Age'].min()\n",
    "            self.max_age = self.df.loc[self.df['JobRole'] == data.new]['Age'].max()\n",
    "            self.state['jobLevelDropdown'] = None\n",
    "            self.render()\n",
    "            \n",
    "    def plot_salary (self, _data):\n",
    "        self.render()\n",
    "        self.salary.plot_salary(\n",
    "            self.state['salarySlider'],\n",
    "            self.state['jobRoleDropdown'],\n",
    "            self.state['jobLevelDropdown']\n",
    "        )\n",
    "        \n",
    "    def plot_salary_age (self, _data):\n",
    "        self.render()\n",
    "        self.salary.plot_salary_vs_age(\n",
    "            self.state['salarySlider'],\n",
    "            self.state['jobRoleDropdown'],\n",
    "            self.state['ageSlider']\n",
    "        )\n",
    "        \n",
    "    def plot_salary_gender (self, _data):\n",
    "        self.render()\n",
    "        self.salary.plot_salary_vs_gender(\n",
    "            self.state['salarySlider'],\n",
    "            self.state['jobRoleDropdown'],\n",
    "            self.state['genderDropdown']\n",
    "        )\n",
    "    \n",
    "    def plot_attrition (self, _data):\n",
    "        self.render()\n",
    "        self.attrition.plot_attrition(\n",
    "            self.state['jobRoleDropdown'],\n",
    "            self.state['jobLevelDropdown']\n",
    "        )\n",
    "\n",
    "    def plot_attrition_rankings (self, _data):\n",
    "        self.render()\n",
    "        self.attrition.attrition_rankings(\n",
    "            self.state['jobRoleDropdown']\n",
    "        )\n",
    "\n",
    "    def render (self):\n",
    "        clear_output()\n",
    "        \n",
    "        labels = [\n",
    "            Label('For Salary vs Job Role fill: salary, job role, job level'),\n",
    "            Label('For Salary vs Gender fill: salary, job role, gender'),\n",
    "            Label('For Salary vs Age fill: salary, job role, age'),\n",
    "            Label('For Attrition, Job Role fill: job role, job level'),\n",
    "            Label('For Attrition Rankings fill: job role')\n",
    "        ]\n",
    "\n",
    "        self.layout['jobRoleDropdown'] = Dropdown(\n",
    "            options=self.job_roles,\n",
    "            description='Job Role:',\n",
    "            value=self.state['jobRoleDropdown']\n",
    "        )\n",
    "        self.layout['jobLevelDropdown'] = Dropdown(\n",
    "            options=self.available_job_levels,\n",
    "            description='Job Level:',\n",
    "            disabled=len(self.available_job_levels) == 0,\n",
    "            value=self.state['jobLevelDropdown']\n",
    "        )\n",
    "        self.layout['genderDropdown'] = Dropdown(\n",
    "            options=[None, *self.genders],\n",
    "            description='Gender:',\n",
    "            disabled=len(self.genders) == 0,\n",
    "            value=self.state['genderDropdown']\n",
    "        )\n",
    "        self.layout['salarySlider'] = IntSlider(\n",
    "            value=self.state['salarySlider'],\n",
    "            min=self.min_salary,\n",
    "            max=self.max_salary,\n",
    "            step=1,\n",
    "            description='Salary:',\n",
    "            disabled=self.state['jobRoleDropdown'] == None\n",
    "        )\n",
    "        self.layout['ageSlider'] = IntSlider(\n",
    "            value=self.state['ageSlider'],\n",
    "            min=self.min_age,\n",
    "            max=self.max_age,\n",
    "            step=1,\n",
    "            description='Age:',\n",
    "            disabled=self.state['jobRoleDropdown'] == None\n",
    "        )\n",
    "        self.layout['btnPlotSalary'] = Button(\n",
    "            description='Salary vs Job Role',\n",
    "            disabled=False,\n",
    "            button_style='info',\n",
    "            tooltip='Plot Salary vs Job Role & Job Level',\n",
    "            icon='check'\n",
    "        )\n",
    "        self.layout['btnPlotGender'] = Button(\n",
    "            description='Salary vs Gender',\n",
    "            disabled=False,\n",
    "            button_style='info',\n",
    "            tooltip='Plot Salary vs Job Role & Gender',\n",
    "            icon='check'\n",
    "        )\n",
    "        self.layout['btnPlotAge'] = Button(\n",
    "            description='Salary vs Age',\n",
    "            disabled=False,\n",
    "            button_style='info',\n",
    "            tooltip='Plot Salary vs Job Role & Age',\n",
    "            icon='check'\n",
    "        )\n",
    "        self.layout['btnPlotAttrition'] = Button(\n",
    "            description='Attrition, Job Role',\n",
    "            disabled=False,\n",
    "            button_style='info',\n",
    "            tooltip='Attrition, Job Role, Job Level',\n",
    "            icon='check'\n",
    "        )\n",
    "        self.layout['btnPlotAttritionRankings'] = Button(\n",
    "            description='Attrition Rankings',\n",
    "            disabled=False,\n",
    "            button_style='info',\n",
    "            tooltip='Attrition Rankings',\n",
    "            icon='check'\n",
    "        )\n",
    "        \n",
    "        self.layout['btnPlotSalary'].on_click(self.plot_salary)\n",
    "        self.layout['btnPlotGender'].on_click(self.plot_salary_gender)\n",
    "        self.layout['btnPlotAge'].on_click(self.plot_salary_age)\n",
    "        self.layout['btnPlotAttrition'].on_click(self.plot_attrition)\n",
    "        self.layout['btnPlotAttritionRankings'].on_click(self.plot_attrition_rankings)\n",
    "\n",
    "        for key in self.layout.keys():\n",
    "            self.layout[key].observe(self.handle_change, names='value')\n",
    "\n",
    "        layout = []\n",
    "        labels_i = 0\n",
    "        \n",
    "        for key in self.layout.keys():\n",
    "            layout.append(self.layout[key])\n",
    "            \n",
    "            if key.startswith('btn'):\n",
    "                layout.append(labels[labels_i])\n",
    "                labels_i += 1\n",
    "            \n",
    "        display(*layout)\n",
    "        \n",
    "app = StatApp()\n",
    "\n",
    "app.render()\n",
    "\n",
    "# salary.plot_salary\n",
    "# salary: int, job_role: str, job_lvl: int\n",
    "\n",
    "# salary.plot_salary_vs_age\n",
    "# salary: int, job_role: str, age: num = None\n",
    "\n",
    "# salary.plot_salary_vs_gender\n",
    "# salary: int, job_role: str, gender=None)\n",
    "\n",
    "# StatApp().salary.plot_salary_vs_gender(8300, 'Manufacturing Director')\n",
    "\n",
    "# attrition.plot_attrition\n",
    "# job_role: str, job_level: int\n",
    "\n",
    "# attrition.attrition_rankings\n",
    "# job_role: str\n",
    "\n",
    "# StatApp().attrition.attrition_rankings('Laboratory Technician')\n",
    "\n",
    "\n",
    "# StatApp().distance_from_home.plot_distance(20, 'Female', 4)\n",
    "\n",
    "# StatApp().education.plot_satisfaction_education(2, 3, 4, 'Medical', 5)\n",
    "# StatApp().education.plot_satisfaction_education(2, 3, 4, 'Human Resources', 1)\n",
    "# StatApp().education.plot_eductaion_salary(3300, 'Marketing', 5)\n",
    "# StatApp().education.plot_eductaion_job_level(2, 'Marketing', 5)\n",
    "# StatApp().education.plot_attrition('Medical', 5)\n",
    "# StatApp().education.plot_attrition('Medical', 4)\n",
    "# StatApp().education.plot_education_overtme('Medical', 5)\n",
    "\n",
    "# StatApp().experience.plot_total_working_years_salary_dep(3500, 8, 1)"
   ]
  },
  {
   "cell_type": "code",
   "execution_count": null,
   "metadata": {},
   "outputs": [],
   "source": [
    "class DistanceStatApp:\n",
    "    def __init__ (self):\n",
    "        self.df = pd.read_csv('../dataset-normalized.csv')\n",
    "        self.genders = self.df['Gender'].unique()\n",
    "        self.min_distance_from_home = self.df['DistanceFromHome'].min()\n",
    "        self.max_distance_from_home = self.df['DistanceFromHome'].max()\n",
    "        self.min_years_at_company = self.df['YearsAtCompany'].min()\n",
    "        self.max_years_at_company = self.df['YearsAtCompany'].max()\n",
    "\n",
    "        self.distance_from_home = DistanceFromHomePlots(self.df)\n",
    "        \n",
    "        self.state = {\n",
    "            'genderDropdown': None,\n",
    "            'distanceFromHomeSlider': None,\n",
    "            'yearsAtCompanySlider': None\n",
    "        }\n",
    "        \n",
    "        self.layout = {\n",
    "            'genderDropdown': None,\n",
    "            'distanceFromHomeSlider': None,\n",
    "            'yearsAtCompanySlider': None,\n",
    "            'btnPlotDistanceFromHome': None\n",
    "        }\n",
    "        \n",
    "    def find_layout_element (self, target):\n",
    "        for key, value in self.layout.items():\n",
    "            if value == target:\n",
    "                return key\n",
    "    \n",
    "    def handle_change (self, data):\n",
    "        target = self.find_layout_element(data.owner)\n",
    "        \n",
    "        if target is not None:\n",
    "            self.state[target] = data.new\n",
    "            \n",
    "    def plot_distance_from_home (self, _data):\n",
    "        self.render()\n",
    "        self.distance_from_home.plot_distance(\n",
    "            self.state['distanceFromHomeSlider'],\n",
    "            self.state['genderDropdown'],\n",
    "            self.state['yearsAtCompanySlider']\n",
    "        )\n",
    "\n",
    "    def render (self):\n",
    "        clear_output()\n",
    "\n",
    "        self.layout['genderDropdown'] = Dropdown(\n",
    "            options=self.genders,\n",
    "            description='Gender:',\n",
    "            disabled=len(self.genders) == 0,\n",
    "            value=self.state['genderDropdown']\n",
    "        )\n",
    "        self.layout['distanceFromHomeSlider'] = IntSlider(\n",
    "            value=self.state['distanceFromHomeSlider'],\n",
    "            min=self.min_distance_from_home,\n",
    "            max=self.max_distance_from_home,\n",
    "            step=1,\n",
    "        )\n",
    "        self.layout['yearsAtCompanySlider'] = IntSlider(\n",
    "            value=self.state['yearsAtCompanySlider'],\n",
    "            min=self.min_years_at_company,\n",
    "            max=self.max_years_at_company,\n",
    "            step=1,\n",
    "        )\n",
    "        layout = [\n",
    "            Box(\n",
    "                [\n",
    "                    Label(value='Your distance from home:'),\n",
    "                    self.layout['distanceFromHomeSlider']\n",
    "                ]\n",
    "            ),\n",
    "            Box(\n",
    "                [\n",
    "                    Label(value='Your years at company:'),\n",
    "                    self.layout['yearsAtCompanySlider']\n",
    "                ]\n",
    "            )\n",
    "        ]\n",
    "        self.layout['btnPlotDistanceFromHome'] = Button(\n",
    "            description='Check',\n",
    "            disabled=False,\n",
    "            button_style='info',\n",
    "            tooltip='Check distance from home',\n",
    "            icon='check'\n",
    "        )\n",
    "        \n",
    "        self.layout['btnPlotDistanceFromHome'].on_click(self.plot_distance_from_home)\n",
    "        \n",
    "        to_display = []\n",
    "\n",
    "        for key in self.layout.keys():\n",
    "            if key not in ['distanceFromHomeSlider', 'yearsAtCompanySlider']:\n",
    "                to_display.append(self.layout[key])\n",
    "            elif key == 'distanceFromHomeSlider':\n",
    "                [to_display.append(i) for i in layout]\n",
    "            self.layout[key].observe(self.handle_change, names='value')\n",
    "\n",
    "        display(*to_display)\n",
    "        \n",
    "app = DistanceStatApp()\n",
    "\n",
    "app.render()"
   ]
  },
  {
   "cell_type": "code",
   "execution_count": 3,
   "metadata": {},
   "outputs": [
    {
     "data": {
      "application/vnd.jupyter.widget-view+json": {
       "model_id": "f42f713430c14251aed8eaf7214c6ffa",
       "version_major": 2,
       "version_minor": 0
      },
      "text/plain": [
       "IntSlider(value=2482, description='Salary:', max=19999, min=1009)"
      ]
     },
     "metadata": {},
     "output_type": "display_data"
    },
    {
     "data": {
      "application/vnd.jupyter.widget-view+json": {
       "model_id": "7594760594344e36bc5a4135473f4193",
       "version_major": 2,
       "version_minor": 0
      },
      "text/plain": [
       "Dropdown(description='Job Role:', index=1, options=('Sales Executive', 'Research Scientist', 'Laboratory Techn…"
      ]
     },
     "metadata": {},
     "output_type": "display_data"
    },
    {
     "data": {
      "application/vnd.jupyter.widget-view+json": {
       "model_id": "d79684af98e942f7b2d70dc01f37c08c",
       "version_major": 2,
       "version_minor": 0
      },
      "text/plain": [
       "Dropdown(description='Job Level:', options=(2, 1, 3, 4, 5), value=2)"
      ]
     },
     "metadata": {},
     "output_type": "display_data"
    },
    {
     "data": {
      "application/vnd.jupyter.widget-view+json": {
       "model_id": "d4f481503cbe4bbcb1c81870c11d67af",
       "version_major": 2,
       "version_minor": 0
      },
      "text/plain": [
       "IntSlider(value=4, description='Job Satisfaction:', max=5, min=1)"
      ]
     },
     "metadata": {},
     "output_type": "display_data"
    },
    {
     "data": {
      "application/vnd.jupyter.widget-view+json": {
       "model_id": "c1c41b3f9437462fab0d18413267dc67",
       "version_major": 2,
       "version_minor": 0
      },
      "text/plain": [
       "IntSlider(value=4, description='Relationship Satisfaction:', max=5, min=1)"
      ]
     },
     "metadata": {},
     "output_type": "display_data"
    },
    {
     "data": {
      "application/vnd.jupyter.widget-view+json": {
       "model_id": "93c3f83c1a0841ef9bfff5967f8b3bc0",
       "version_major": 2,
       "version_minor": 0
      },
      "text/plain": [
       "IntSlider(value=4, description='Env. Satisfaction:', max=5, min=1)"
      ]
     },
     "metadata": {},
     "output_type": "display_data"
    },
    {
     "data": {
      "application/vnd.jupyter.widget-view+json": {
       "model_id": "d5828614d57348329e5864d1f2a93a2e",
       "version_major": 2,
       "version_minor": 0
      },
      "text/plain": [
       "IntSlider(value=1, description='Years in current role:', max=18)"
      ]
     },
     "metadata": {},
     "output_type": "display_data"
    },
    {
     "data": {
      "application/vnd.jupyter.widget-view+json": {
       "model_id": "cd8d8569eb9b4af49b15c721058cf6c2",
       "version_major": 2,
       "version_minor": 0
      },
      "text/plain": [
       "IntSlider(value=2, description='Years at company', max=40)"
      ]
     },
     "metadata": {},
     "output_type": "display_data"
    },
    {
     "data": {
      "application/vnd.jupyter.widget-view+json": {
       "model_id": "b42aee54d5a44d10b5814cab7ae90f90",
       "version_major": 2,
       "version_minor": 0
      },
      "text/plain": [
       "Dropdown(description='Deparment:', index=2, options=(0, 1, 2), value=2)"
      ]
     },
     "metadata": {},
     "output_type": "display_data"
    },
    {
     "data": {
      "application/vnd.jupyter.widget-view+json": {
       "model_id": "aaf61a98427b40dfa9e251a784ce0ce5",
       "version_major": 2,
       "version_minor": 0
      },
      "text/plain": [
       "Dropdown(description='Field:', index=2, options=('Life Sciences', 'Other', 'Medical', 'Marketing', 'Technical …"
      ]
     },
     "metadata": {},
     "output_type": "display_data"
    },
    {
     "data": {
      "application/vnd.jupyter.widget-view+json": {
       "model_id": "013bcdd059804542be20c6c0d6f3ba0b",
       "version_major": 2,
       "version_minor": 0
      },
      "text/plain": [
       "Dropdown(description='Level:', index=1, options=(2, 1, 4, 3, 5), value=1)"
      ]
     },
     "metadata": {},
     "output_type": "display_data"
    },
    {
     "data": {
      "application/vnd.jupyter.widget-view+json": {
       "model_id": "656cdd96ed984be6b163d026eaff08f5",
       "version_major": 2,
       "version_minor": 0
      },
      "text/plain": [
       "Button(button_style='info', description='Plot Salary', icon='check', style=ButtonStyle(), tooltip='Check salar…"
      ]
     },
     "metadata": {},
     "output_type": "display_data"
    },
    {
     "data": {
      "application/vnd.jupyter.widget-view+json": {
       "model_id": "393c6343f45f4fb4be3f430f3131054c",
       "version_major": 2,
       "version_minor": 0
      },
      "text/plain": [
       "Label(value='For Salary fill: salary, education field, education level')"
      ]
     },
     "metadata": {},
     "output_type": "display_data"
    },
    {
     "data": {
      "application/vnd.jupyter.widget-view+json": {
       "model_id": "9fc39be607104c6dbf332dd1b1a5d57e",
       "version_major": 2,
       "version_minor": 0
      },
      "text/plain": [
       "Button(button_style='info', description='Plot Job Level', icon='check', style=ButtonStyle(), tooltip='Check jo…"
      ]
     },
     "metadata": {},
     "output_type": "display_data"
    },
    {
     "data": {
      "application/vnd.jupyter.widget-view+json": {
       "model_id": "40d1b9e286e941ceb3ce59b3ee39b059",
       "version_major": 2,
       "version_minor": 0
      },
      "text/plain": [
       "Label(value='For Job Level fill: job level, education field, education level')"
      ]
     },
     "metadata": {},
     "output_type": "display_data"
    },
    {
     "data": {
      "application/vnd.jupyter.widget-view+json": {
       "model_id": "2f4a5a2b33464e3983e77e883d4ab46a",
       "version_major": 2,
       "version_minor": 0
      },
      "text/plain": [
       "Button(button_style='info', description='Plot Attrition', icon='check', style=ButtonStyle(), tooltip='Check at…"
      ]
     },
     "metadata": {},
     "output_type": "display_data"
    },
    {
     "data": {
      "application/vnd.jupyter.widget-view+json": {
       "model_id": "6329f64b5b5e408fa86285a44e293e64",
       "version_major": 2,
       "version_minor": 0
      },
      "text/plain": [
       "Label(value='For Attrition fill: education field, education level')"
      ]
     },
     "metadata": {},
     "output_type": "display_data"
    },
    {
     "data": {
      "application/vnd.jupyter.widget-view+json": {
       "model_id": "af06a05ff5334c98804a2a0c94741eb6",
       "version_major": 2,
       "version_minor": 0
      },
      "text/plain": [
       "Button(button_style='info', description='Plot Overtime', icon='check', style=ButtonStyle(), tooltip='Check ove…"
      ]
     },
     "metadata": {},
     "output_type": "display_data"
    },
    {
     "data": {
      "application/vnd.jupyter.widget-view+json": {
       "model_id": "e7c3e1951df9410a843b702a6208f5a4",
       "version_major": 2,
       "version_minor": 0
      },
      "text/plain": [
       "Label(value='For Overtime fill: education field, education level')"
      ]
     },
     "metadata": {},
     "output_type": "display_data"
    },
    {
     "data": {
      "application/vnd.jupyter.widget-view+json": {
       "model_id": "d5e32c8056514672a315fb231d3d72a8",
       "version_major": 2,
       "version_minor": 0
      },
      "text/plain": [
       "Button(button_style='info', description='Plot Satisfaction', icon='check', style=ButtonStyle(), tooltip='Check…"
      ]
     },
     "metadata": {},
     "output_type": "display_data"
    },
    {
     "data": {
      "application/vnd.jupyter.widget-view+json": {
       "model_id": "ccb701236ca5429d8b5e90184b32dc62",
       "version_major": 2,
       "version_minor": 0
      },
      "text/plain": [
       "Label(value='For Satisfaction fill: job satisfaction, relationship satisfaction, environment satisfaction, edu…"
      ]
     },
     "metadata": {},
     "output_type": "display_data"
    },
    {
     "data": {
      "application/vnd.jupyter.widget-view+json": {
       "model_id": "b75b5fb0e8004fdf89f5033b284fbe96",
       "version_major": 2,
       "version_minor": 0
      },
      "text/plain": [
       "Button(button_style='info', description='Plot Satisfaction Years In Cur Role Dep', icon='check', style=ButtonS…"
      ]
     },
     "metadata": {},
     "output_type": "display_data"
    },
    {
     "data": {
      "application/vnd.jupyter.widget-view+json": {
       "model_id": "d97edd21cb5a419386c7a9b019158109",
       "version_major": 2,
       "version_minor": 0
      },
      "text/plain": [
       "Label(value='')"
      ]
     },
     "metadata": {},
     "output_type": "display_data"
    },
    {
     "data": {
      "application/vnd.jupyter.widget-view+json": {
       "model_id": "ae2901607eba4e5bb193ba1df18d821d",
       "version_major": 2,
       "version_minor": 0
      },
      "text/plain": [
       "Button(button_style='info', description='Plot Years In Cur Role Position Salary Pos', icon='check', style=Butt…"
      ]
     },
     "metadata": {},
     "output_type": "display_data"
    },
    {
     "data": {
      "application/vnd.jupyter.widget-view+json": {
       "model_id": "47a8cfd4344949cfb4559e13d2ad3f94",
       "version_major": 2,
       "version_minor": 0
      },
      "text/plain": [
       "Label(value='')"
      ]
     },
     "metadata": {},
     "output_type": "display_data"
    },
    {
     "data": {
      "application/vnd.jupyter.widget-view+json": {
       "model_id": "a2b2797208be44b0bb411e2608ff771e",
       "version_major": 2,
       "version_minor": 0
      },
      "text/plain": [
       "Button(button_style='info', description='Plot Satisfaction Years In Cur Role Position', icon='check', style=Bu…"
      ]
     },
     "metadata": {},
     "output_type": "display_data"
    },
    {
     "data": {
      "application/vnd.jupyter.widget-view+json": {
       "model_id": "b72fca1e604f4f75827584cc6f055e3c",
       "version_major": 2,
       "version_minor": 0
      },
      "text/plain": [
       "Label(value='')"
      ]
     },
     "metadata": {},
     "output_type": "display_data"
    },
    {
     "data": {
      "application/vnd.jupyter.widget-view+json": {
       "model_id": "3fe07b2fbd02413b8367794eb4b55f8f",
       "version_major": 2,
       "version_minor": 0
      },
      "text/plain": [
       "Button(button_style='info', description='Plot Current Role Overtime Position', icon='check', style=ButtonStyle…"
      ]
     },
     "metadata": {},
     "output_type": "display_data"
    },
    {
     "data": {
      "application/vnd.jupyter.widget-view+json": {
       "model_id": "76835c0e3b4e4bd7b3e2b1907521d17b",
       "version_major": 2,
       "version_minor": 0
      },
      "text/plain": [
       "Label(value='')"
      ]
     },
     "metadata": {},
     "output_type": "display_data"
    },
    {
     "data": {
      "application/vnd.jupyter.widget-view+json": {
       "model_id": "2b3747eeb28a4809a06986ef303b92cb",
       "version_major": 2,
       "version_minor": 0
      },
      "text/plain": [
       "Button(button_style='info', description='Plot Years At Comp Salary Pos', icon='check', style=ButtonStyle(), to…"
      ]
     },
     "metadata": {},
     "output_type": "display_data"
    },
    {
     "data": {
      "application/vnd.jupyter.widget-view+json": {
       "model_id": "71feee4211ca4b38a5aed095970b330b",
       "version_major": 2,
       "version_minor": 0
      },
      "text/plain": [
       "Label(value='')"
      ]
     },
     "metadata": {},
     "output_type": "display_data"
    },
    {
     "data": {
      "application/vnd.jupyter.widget-view+json": {
       "model_id": "cdbeab0b89914eae85888a03870b33b8",
       "version_major": 2,
       "version_minor": 0
      },
      "text/plain": [
       "Button(button_style='info', description='Plot Years At Comp Job Level Pos', icon='check', style=ButtonStyle(),…"
      ]
     },
     "metadata": {},
     "output_type": "display_data"
    },
    {
     "data": {
      "application/vnd.jupyter.widget-view+json": {
       "model_id": "1390b1449455481e8bfdecb2a14c5438",
       "version_major": 2,
       "version_minor": 0
      },
      "text/plain": [
       "Label(value='')"
      ]
     },
     "metadata": {},
     "output_type": "display_data"
    },
    {
     "data": {
      "application/vnd.jupyter.widget-view+json": {
       "model_id": "4057770381ba4db482bb07841acdfec9",
       "version_major": 2,
       "version_minor": 0
      },
      "text/plain": [
       "Button(button_style='info', description='Plot Satisfaction Years At Comp Pos', icon='check', style=ButtonStyle…"
      ]
     },
     "metadata": {},
     "output_type": "display_data"
    },
    {
     "data": {
      "application/vnd.jupyter.widget-view+json": {
       "model_id": "cd21eceaf24e4c67b48029fe36d0181c",
       "version_major": 2,
       "version_minor": 0
      },
      "text/plain": [
       "Label(value='')"
      ]
     },
     "metadata": {},
     "output_type": "display_data"
    },
    {
     "data": {
      "application/vnd.jupyter.widget-view+json": {
       "model_id": "5542e09a7f69498a921be1764858170f",
       "version_major": 2,
       "version_minor": 0
      },
      "text/plain": [
       "Button(button_style='info', description='Plot Years At Comp Overtime Pos', icon='check', style=ButtonStyle(), …"
      ]
     },
     "metadata": {},
     "output_type": "display_data"
    },
    {
     "data": {
      "application/vnd.jupyter.widget-view+json": {
       "model_id": "11f2c690032947cf8efdd5b41948a2c3",
       "version_major": 2,
       "version_minor": 0
      },
      "text/plain": [
       "Label(value='')"
      ]
     },
     "metadata": {},
     "output_type": "display_data"
    },
    {
     "data": {
      "application/vnd.jupyter.widget-view+json": {
       "model_id": "98f25f8dd39845e9adda8fa2c9b23a90",
       "version_major": 2,
       "version_minor": 0
      },
      "text/plain": [
       "HTML(value='<style>\\n            .widget-label { min-width: 20ex !important; text-align: left !important; }\\n …"
      ]
     },
     "metadata": {},
     "output_type": "display_data"
    },
    {
     "data": {
      "image/png": "[encoded data removed]",
      "text/plain": [
       "<Figure size 432x288 with 1 Axes>"
      ]
     },
     "metadata": {},
     "output_type": "display_data"
    }
   ],
   "source": [
    "class EducationExperienceStatApp:\n",
    "    def __init__ (self):\n",
    "        self.df = pd.read_csv('../dataset-normalized.csv')\n",
    "        self.education_fields = self.df['EducationField'].unique()\n",
    "        self.education_levels = self.df['Education'].unique()\n",
    "        self.min_salary = self.df['MonthlyIncome'].min()\n",
    "        self.max_salary = self.df['MonthlyIncome'].max()\n",
    "        self.job_roles = self.df['JobRole'].unique()\n",
    "        self.job_levels = self.df['JobLevel'].unique()\n",
    "        self.min_satisfaction = 1\n",
    "        self.max_satisfaction = 5\n",
    "        \n",
    "        self.min_years_in_current_role = self.df['YearsInCurrentRole'].min()\n",
    "        self.max_years_in_current_role = self.df['YearsInCurrentRole'].max()\n",
    "        self.min_years_at_company = self.df['YearsAtCompany'].min()\n",
    "        self.max_years_at_company = self.df['YearsAtCompany'].max()\n",
    "        self.departments = self.df['Department'].unique()\n",
    "\n",
    "        self.education = EducationPlots(self.df)\n",
    "        self.experience = ExperiencePlots(self.df)\n",
    "        \n",
    "        self.state = {\n",
    "            'salarySlider': None,\n",
    "            'jobRoleDropdown': None,\n",
    "            'jobLevelDropdown': None,\n",
    "            'jobSatisfactionSlider': None,\n",
    "            'relSatisfactionSlider': None,\n",
    "            'envSatisfactionSlider': None,\n",
    "            'yearsInCurrentRoleSlider': None,\n",
    "            'yearsAtCompanySlider': None,\n",
    "            'departmentDropdown': None,\n",
    "            'educationFieldDropdown': None,\n",
    "            'educationLevelDropdown': None\n",
    "        }\n",
    "        \n",
    "        self.layout = {\n",
    "            'salarySlider': None,\n",
    "            'jobRoleDropdown': None,\n",
    "            'jobLevelDropdown': None,\n",
    "            'jobSatisfactionSlider': None,\n",
    "            'relSatisfactionSlider': None,\n",
    "            'envSatisfactionSlider': None,\n",
    "            'yearsInCurrentRoleSlider': None,\n",
    "            'yearsAtCompanySlider': None,\n",
    "            'departmentDropdown': None,\n",
    "            'educationFieldDropdown': None,\n",
    "            'educationLevelDropdown': None,\n",
    "            'btnPlotSalary': None,\n",
    "            'btnPlotJobLevel': None,\n",
    "            'btnPlotAttrition': None,\n",
    "            'btnPlotOvertime': None,\n",
    "            'btnPlotSatisfaction': None,\n",
    "            'btn_plot_satisfaction_years_in_curr_role_dep': None, # ahh idc\n",
    "            'btn_plot_years_in_curr_role_position_salary_pos': None,\n",
    "            'btn_plot_satisfaction_years_in_curr_role_position': None,\n",
    "            'btn_plot_current_role_overtime_position': None,\n",
    "            'btn_plot_years_at_comp_salary_pos': None,\n",
    "            'btn_plot_years_at_comp_job_level_pos': None,\n",
    "            'btn_plot_satisfaction_years_at_comp_pos': None,\n",
    "            'btn_plot_years_at_comp_overtime_pos': None\n",
    "        }\n",
    "        \n",
    "    def find_layout_element (self, target):\n",
    "        for key, value in self.layout.items():\n",
    "            if value == target:\n",
    "                return key\n",
    "    \n",
    "    def handle_change (self, data):\n",
    "        target = self.find_layout_element(data.owner)\n",
    "        \n",
    "        if target is not None:\n",
    "            self.state[target] = data.new\n",
    "            \n",
    "    def plot_education_salary(self, _data):\n",
    "        self.render()\n",
    "        self.education.plot_education_salary(\n",
    "            self.state['salarySlider'],\n",
    "            self.state['educationFieldDropdown'],\n",
    "            self.state['educationLevelDropdown']\n",
    "        )\n",
    "        \n",
    "    def plot_education_job_level (self, _data):\n",
    "        self.render()\n",
    "        self.education.plot_education_job_level(\n",
    "            self.state['jobLevelDropdown'],\n",
    "            self.state['educationFieldDropdown'],\n",
    "            self.state['educationLevelDropdown']\n",
    "        )\n",
    "        \n",
    "    def plot_education_attrition (self, _data):\n",
    "        self.render()\n",
    "        self.education.plot_education_attrition(\n",
    "            self.state['educationFieldDropdown'],\n",
    "            self.state['educationLevelDropdown']\n",
    "        )\n",
    "        \n",
    "    def plot_education_overtime (self, _data):\n",
    "        self.render()\n",
    "        self.education.plot_education_overtme(\n",
    "            self.state['educationFieldDropdown'],\n",
    "            self.state['educationLevelDropdown']\n",
    "        )\n",
    "        \n",
    "    def plot_satisfaction_education (self, _data):\n",
    "        self.render()\n",
    "        self.education.plot_satisfaction_education(\n",
    "            self.state['jobSatisfactionSlider'],\n",
    "            self.state['relSatisfactionSlider'],\n",
    "            self.state['envSatisfactionSlider'],\n",
    "            self.state['educationFieldDropdown'],\n",
    "            self.state['educationLevelDropdown']\n",
    "        )\n",
    "        \n",
    "    def plot_satisfaction_years_in_curr_role_dep (self, _data):\n",
    "        self.render()\n",
    "        self.experience.plot_satisfaction_years_in_curr_role_dep(\n",
    "            self.state['jobSatisfactionSlider'],\n",
    "            self.state['relSatisfactionSlider'],\n",
    "            self.state['envSatisfactionSlider'],\n",
    "            self.state['yearsInCurrentRoleSlider'],\n",
    "            self.state['departmentDropdown']\n",
    "        )\n",
    "        \n",
    "    def plot_years_in_curr_role_position_salary_pos (self, _data):\n",
    "        self.render()\n",
    "        self.experience.plot_years_in_curr_role_position_salary_pos(\n",
    "            self.state['salarySlider'],\n",
    "            self.state['yearsInCurrentRoleSlider'],\n",
    "            self.state['jobRoleDropdown']\n",
    "        )\n",
    "        \n",
    "    def plot_satisfaction_years_in_curr_role_position (self, _data):\n",
    "        self.render()\n",
    "        self.experience.plot_satisfaction_years_in_curr_role_position(\n",
    "            self.state['jobSatisfactionSlider'],\n",
    "            self.state['relSatisfactionSlider'],\n",
    "            self.state['envSatisfactionSlider'],\n",
    "            self.state['yearsInCurrentRoleSlider'],\n",
    "            self.state['jobRoleDropdown']\n",
    "        )\n",
    "        \n",
    "    def plot_current_role_overtime_position (self, _data):\n",
    "        self.render()\n",
    "        self.experience.plot_current_role_overtime_position(\n",
    "            self.state['jobRoleDropdown'],\n",
    "            self.state['yearsInCurrentRoleSlider']\n",
    "        )\n",
    "        \n",
    "    def plot_years_at_comp_salary_pos (self, _data):\n",
    "        self.render()\n",
    "        self.experience.plot_years_at_comp_salary_pos(\n",
    "            self.state['salarySlider'],\n",
    "            self.state['yearsAtCompanySlider'],\n",
    "            self.state['jobRoleDropdown']\n",
    "        )\n",
    "        \n",
    "    def plot_years_at_comp_job_level_pos (self, _data):\n",
    "        self.render()\n",
    "        self.experience.plot_years_at_comp_job_level_pos(\n",
    "            self.state['jobLevelDropdown'],\n",
    "            self.state['yearsAtCompanySlider'],\n",
    "            self.state['jobRoleDropdown']\n",
    "        )\n",
    "        \n",
    "    def plot_satisfaction_years_at_comp_pos (self, _data):\n",
    "        self.render()\n",
    "        self.experience.plot_satisfaction_years_at_comp_pos(\n",
    "            self.state['jobSatisfactionSlider'],\n",
    "            self.state['relSatisfactionSlider'],\n",
    "            self.state['envSatisfactionSlider'],\n",
    "            self.state['yearsAtCompanySlider'],\n",
    "            self.state['jobRoleDropdown']\n",
    "        )\n",
    "\n",
    "    def plot_years_at_comp_overtime_pos (self, _data):\n",
    "        self.render()\n",
    "        self.experience.plot_years_at_comp_overtime_pos(\n",
    "            self.state['jobRoleDropdown'],\n",
    "            self.state['yearsAtCompanySlider']\n",
    "        )\n",
    "    \n",
    "    def render (self):\n",
    "        clear_output()\n",
    "        \n",
    "        labels = [\n",
    "            Label('For Salary fill: salary, education field, education level'),\n",
    "            Label('For Job Level fill: job level, education field, education level'),\n",
    "            Label('For Attrition fill: education field, education level'),\n",
    "            Label('For Overtime fill: education field, education level'),\n",
    "            Label('For Satisfaction fill: job satisfaction, relationship satisfaction, environment satisfaction, education field, education level'),\n",
    "            Label(''),\n",
    "            Label(''),\n",
    "            Label(''),\n",
    "            Label(''),\n",
    "            Label(''),\n",
    "            Label(''),\n",
    "            Label(''),\n",
    "            Label('')\n",
    "        ]\n",
    "        \n",
    "        self.layout['educationFieldDropdown'] = Dropdown(\n",
    "            options=self.education_fields,\n",
    "            description='Field:',\n",
    "            value=self.state['educationFieldDropdown']\n",
    "        )\n",
    "        \n",
    "        self.layout['educationLevelDropdown'] = Dropdown(\n",
    "            options=self.education_levels,\n",
    "            description='Level:',\n",
    "            value=self.state['educationLevelDropdown']\n",
    "        )\n",
    "        \n",
    "        self.layout['salarySlider'] = IntSlider(\n",
    "            value=self.state['salarySlider'],\n",
    "            min=self.min_salary,\n",
    "            max=self.max_salary,\n",
    "            step=1,\n",
    "            description='Salary:'\n",
    "        )\n",
    "        \n",
    "        self.layout['jobRoleDropdown'] = Dropdown(\n",
    "            options=self.job_roles,\n",
    "            description='Job Role:',\n",
    "            value=self.state['jobRoleDropdown']\n",
    "        )\n",
    "        \n",
    "        self.layout['jobLevelDropdown'] = Dropdown(\n",
    "            options=self.job_levels,\n",
    "            description='Job Level:',\n",
    "            disabled=len(self.job_levels) == 0,\n",
    "            value=self.state['jobLevelDropdown']\n",
    "        )\n",
    "        \n",
    "        self.layout['jobSatisfactionSlider'] = IntSlider(\n",
    "            value=self.state['jobSatisfactionSlider'],\n",
    "            min=self.min_satisfaction,\n",
    "            max=self.max_satisfaction,\n",
    "            step=1,\n",
    "            description='Job Satisfaction:'\n",
    "        )\n",
    "        \n",
    "        self.layout['relSatisfactionSlider'] = IntSlider(\n",
    "            value=self.state['relSatisfactionSlider'],\n",
    "            min=self.min_satisfaction,\n",
    "            max=self.max_satisfaction,\n",
    "            step=1,\n",
    "            description='Relationship Satisfaction:'\n",
    "        )\n",
    "        \n",
    "        self.layout['envSatisfactionSlider'] = IntSlider(\n",
    "            value=self.state['envSatisfactionSlider'],\n",
    "            min=self.min_satisfaction,\n",
    "            max=self.max_satisfaction,\n",
    "            step=1,\n",
    "            description='Env. Satisfaction:'\n",
    "        )\n",
    "        \n",
    "        self.layout['yearsInCurrentRoleSlider'] = IntSlider(\n",
    "            value=self.state['yearsInCurrentRoleSlider'],\n",
    "            min=self.min_years_in_current_role,\n",
    "            max=self.max_years_in_current_role,\n",
    "            step=1,\n",
    "            description='Years in current role:'\n",
    "        )\n",
    "        \n",
    "        self.layout['yearsAtCompanySlider'] = IntSlider(\n",
    "            value=self.state['yearsAtCompanySlider'],\n",
    "            min=self.min_years_at_company,\n",
    "            max=self.max_years_at_company,\n",
    "            step=1,\n",
    "            description='Years at company'\n",
    "        )\n",
    "        \n",
    "        self.layout['departmentDropdown'] = Dropdown(\n",
    "            options=self.departments,\n",
    "            description='Deparment:',\n",
    "            disabled=len(self.departments) == 0,\n",
    "            value=self.state['departmentDropdown']\n",
    "        )\n",
    "        \n",
    "        self.layout['btnPlotSalary'] = Button(\n",
    "            description='Plot Salary',\n",
    "            disabled=False,\n",
    "            button_style='info',\n",
    "            tooltip='Check salary plot',\n",
    "            icon='check'\n",
    "        )\n",
    "        \n",
    "        self.layout['btnPlotJobLevel'] = Button(\n",
    "            description='Plot Job Level',\n",
    "            disabled=False,\n",
    "            button_style='info',\n",
    "            tooltip='Check job level plot',\n",
    "            icon='check'\n",
    "        )\n",
    "        \n",
    "        self.layout['btnPlotAttrition'] = Button(\n",
    "            description='Plot Attrition',\n",
    "            disabled=False,\n",
    "            button_style='info',\n",
    "            tooltip='Check attrition plot',\n",
    "            icon='check'\n",
    "        )\n",
    "        \n",
    "        self.layout['btnPlotOvertime'] = Button(\n",
    "            description='Plot Overtime',\n",
    "            disabled=False,\n",
    "            button_style='info',\n",
    "            tooltip='Check overtime plot',\n",
    "            icon='check'\n",
    "        )\n",
    "        \n",
    "        self.layout['btnPlotSatisfaction'] = Button(\n",
    "            description='Plot Satisfaction',\n",
    "            disabled=False,\n",
    "            button_style='info',\n",
    "            tooltip='Check satisfaction plot',\n",
    "            icon='check'\n",
    "        )\n",
    "        \n",
    "        self.layout['btn_plot_satisfaction_years_in_curr_role_dep'] = Button(\n",
    "            description='Plot Satisfaction Years In Cur Role Dep',\n",
    "            disabled=False,\n",
    "            button_style='info',\n",
    "            tooltip='Plot Satisfaction Years In Cur Role Dep',\n",
    "            icon='check'\n",
    "        )\n",
    "        \n",
    "        self.layout['btn_plot_years_in_curr_role_position_salary_pos'] = Button(\n",
    "            description='Plot Years In Cur Role Position Salary Pos',\n",
    "            disabled=False,\n",
    "            button_style='info',\n",
    "            tooltip='Plot Years In Cur Role Position Salary Pos',\n",
    "            icon='check'\n",
    "        )\n",
    "        \n",
    "        self.layout['btn_plot_satisfaction_years_in_curr_role_position'] = Button(\n",
    "            description='Plot Satisfaction Years In Cur Role Position',\n",
    "            disabled=False,\n",
    "            button_style='info',\n",
    "            tooltip='Plot Satisfaction Years In Cur Role Position',\n",
    "            icon='check'\n",
    "        )\n",
    "        \n",
    "        self.layout['btn_plot_current_role_overtime_position'] = Button(\n",
    "            description='Plot Current Role Overtime Position',\n",
    "            disabled=False,\n",
    "            button_style='info',\n",
    "            tooltip='Plot Current Role Overtime Position',\n",
    "            icon='check'\n",
    "        )\n",
    "        \n",
    "        self.layout['btn_plot_years_at_comp_salary_pos'] = Button(\n",
    "            description='Plot Years At Comp Salary Pos',\n",
    "            disabled=False,\n",
    "            button_style='info',\n",
    "            tooltip='Plot Years At Comp Salary Pos',\n",
    "            icon='check'\n",
    "        )\n",
    "        \n",
    "        self.layout['btn_plot_years_at_comp_job_level_pos'] = Button(\n",
    "            description='Plot Years At Comp Job Level Pos',\n",
    "            disabled=False,\n",
    "            button_style='info',\n",
    "            tooltip='Plot Years At Comp Job Level Pos',\n",
    "            icon='check'\n",
    "        )\n",
    "        \n",
    "        self.layout['btn_plot_satisfaction_years_at_comp_pos'] = Button(\n",
    "            description='Plot Satisfaction Years At Comp Pos',\n",
    "            disabled=False,\n",
    "            button_style='info',\n",
    "            tooltip='Plot Satisfaction Years At Comp Pos',\n",
    "            icon='check'\n",
    "        )\n",
    "        \n",
    "        self.layout['btn_plot_years_at_comp_overtime_pos'] = Button(\n",
    "            description='Plot Years At Comp Overtime Pos',\n",
    "            disabled=False,\n",
    "            button_style='info',\n",
    "            tooltip='Plot Years At Comp Overtime Pos',\n",
    "            icon='check'\n",
    "        )\n",
    "        \n",
    "        self.layout['btnPlotSalary'].on_click(self.plot_education_salary)\n",
    "        self.layout['btnPlotJobLevel'].on_click(self.plot_education_job_level)\n",
    "        self.layout['btnPlotAttrition'].on_click(self.plot_education_attrition)\n",
    "        self.layout['btnPlotOvertime'].on_click(self.plot_education_overtime)\n",
    "        self.layout['btnPlotSatisfaction'].on_click(self.plot_satisfaction_education)\n",
    "        self.layout['btn_plot_satisfaction_years_in_curr_role_dep'].on_click(self.plot_satisfaction_years_in_curr_role_dep)\n",
    "        self.layout['btn_plot_years_in_curr_role_position_salary_pos'].on_click(self.plot_years_in_curr_role_position_salary_pos)\n",
    "        self.layout['btn_plot_satisfaction_years_in_curr_role_position'].on_click(self.plot_satisfaction_years_in_curr_role_position)\n",
    "        self.layout['btn_plot_current_role_overtime_position'].on_click(self.plot_current_role_overtime_position)\n",
    "        self.layout['btn_plot_years_at_comp_salary_pos'].on_click(self.plot_years_at_comp_salary_pos)\n",
    "        self.layout['btn_plot_years_at_comp_job_level_pos'].on_click(self.plot_years_at_comp_job_level_pos)\n",
    "        self.layout['btn_plot_satisfaction_years_at_comp_pos'].on_click(self.plot_satisfaction_years_at_comp_pos)\n",
    "        self.layout['btn_plot_years_at_comp_overtime_pos'].on_click(self.plot_years_at_comp_overtime_pos)\n",
    "\n",
    "        for key in self.layout.keys():\n",
    "            self.layout[key].observe(self.handle_change, names='value')\n",
    "        \n",
    "        layout = []\n",
    "        labels_i = 0\n",
    "        \n",
    "        for key in self.layout.keys():\n",
    "            layout.append(self.layout[key])\n",
    "            \n",
    "            if key.startswith('btn'):\n",
    "                layout.append(labels[labels_i])\n",
    "                labels_i += 1\n",
    "\n",
    "        display(*layout)\n",
    "        \n",
    "        display(HTML('''<style>\n",
    "            .widget-label { min-width: 20ex !important; text-align: left !important; }\n",
    "        </style>'''))\n",
    "        \n",
    "app = EducationExperienceStatApp()\n",
    "\n",
    "app.render()"
   ]
  }
 ],
 "metadata": {
  "kernelspec": {
   "display_name": "Python 3",
   "language": "python",
   "name": "python3"
  },
  "language_info": {
   "codemirror_mode": {
    "name": "ipython",
    "version": 3
   },
   "file_extension": ".py",
   "mimetype": "text/x-python",
   "name": "python",
   "nbconvert_exporter": "python",
   "pygments_lexer": "ipython3",
   "version": "3.8.5"
  }
 },
 "nbformat": 4,
 "nbformat_minor": 4
}
