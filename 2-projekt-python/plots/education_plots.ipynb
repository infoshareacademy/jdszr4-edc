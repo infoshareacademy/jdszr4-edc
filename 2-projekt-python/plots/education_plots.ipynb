{
 "cells": [
  {
   "cell_type": "code",
   "execution_count": 2,
   "metadata": {},
   "outputs": [],
   "source": [
    "import numpy as np\n",
    "import pandas as pd\n",
    "import seaborn as sns\n",
    "from matplotlib import pyplot as plt\n",
    "from scipy import stats as st"
   ]
  },
  {
   "cell_type": "code",
   "execution_count": 3,
   "metadata": {},
   "outputs": [
    {
     "data": {
      "text/html": [
       "<div>\n",
       "<style scoped>\n",
       "    .dataframe tbody tr th:only-of-type {\n",
       "        vertical-align: middle;\n",
       "    }\n",
       "\n",
       "    .dataframe tbody tr th {\n",
       "        vertical-align: top;\n",
       "    }\n",
       "\n",
       "    .dataframe thead th {\n",
       "        text-align: right;\n",
       "    }\n",
       "</style>\n",
       "<table border=\"1\" class=\"dataframe\">\n",
       "  <thead>\n",
       "    <tr style=\"text-align: right;\">\n",
       "      <th></th>\n",
       "      <th>Age</th>\n",
       "      <th>Attrition</th>\n",
       "      <th>BusinessTravel</th>\n",
       "      <th>DailyRate</th>\n",
       "      <th>Department</th>\n",
       "      <th>DistanceFromHome</th>\n",
       "      <th>Education</th>\n",
       "      <th>EducationField</th>\n",
       "      <th>EnvironmentSatisfaction</th>\n",
       "      <th>Gender</th>\n",
       "      <th>...</th>\n",
       "      <th>PerformanceRating</th>\n",
       "      <th>RelationshipSatisfaction</th>\n",
       "      <th>StockOptionLevel</th>\n",
       "      <th>TotalWorkingYears</th>\n",
       "      <th>TrainingTimesLastYear</th>\n",
       "      <th>WorkLifeBalance</th>\n",
       "      <th>YearsAtCompany</th>\n",
       "      <th>YearsInCurrentRole</th>\n",
       "      <th>YearsSinceLastPromotion</th>\n",
       "      <th>YearsWithCurrManager</th>\n",
       "    </tr>\n",
       "  </thead>\n",
       "  <tbody>\n",
       "    <tr>\n",
       "      <th>0</th>\n",
       "      <td>41</td>\n",
       "      <td>True</td>\n",
       "      <td>1</td>\n",
       "      <td>1102</td>\n",
       "      <td>0</td>\n",
       "      <td>1</td>\n",
       "      <td>2</td>\n",
       "      <td>Life Sciences</td>\n",
       "      <td>2</td>\n",
       "      <td>Female</td>\n",
       "      <td>...</td>\n",
       "      <td>3</td>\n",
       "      <td>1</td>\n",
       "      <td>0</td>\n",
       "      <td>8</td>\n",
       "      <td>0</td>\n",
       "      <td>1</td>\n",
       "      <td>6</td>\n",
       "      <td>4</td>\n",
       "      <td>0</td>\n",
       "      <td>5</td>\n",
       "    </tr>\n",
       "    <tr>\n",
       "      <th>1</th>\n",
       "      <td>49</td>\n",
       "      <td>False</td>\n",
       "      <td>2</td>\n",
       "      <td>279</td>\n",
       "      <td>1</td>\n",
       "      <td>8</td>\n",
       "      <td>1</td>\n",
       "      <td>Life Sciences</td>\n",
       "      <td>3</td>\n",
       "      <td>Male</td>\n",
       "      <td>...</td>\n",
       "      <td>4</td>\n",
       "      <td>4</td>\n",
       "      <td>1</td>\n",
       "      <td>10</td>\n",
       "      <td>3</td>\n",
       "      <td>3</td>\n",
       "      <td>10</td>\n",
       "      <td>7</td>\n",
       "      <td>1</td>\n",
       "      <td>7</td>\n",
       "    </tr>\n",
       "    <tr>\n",
       "      <th>2</th>\n",
       "      <td>37</td>\n",
       "      <td>True</td>\n",
       "      <td>1</td>\n",
       "      <td>1373</td>\n",
       "      <td>1</td>\n",
       "      <td>2</td>\n",
       "      <td>2</td>\n",
       "      <td>Other</td>\n",
       "      <td>4</td>\n",
       "      <td>Male</td>\n",
       "      <td>...</td>\n",
       "      <td>3</td>\n",
       "      <td>2</td>\n",
       "      <td>0</td>\n",
       "      <td>7</td>\n",
       "      <td>3</td>\n",
       "      <td>3</td>\n",
       "      <td>0</td>\n",
       "      <td>0</td>\n",
       "      <td>0</td>\n",
       "      <td>0</td>\n",
       "    </tr>\n",
       "    <tr>\n",
       "      <th>3</th>\n",
       "      <td>33</td>\n",
       "      <td>False</td>\n",
       "      <td>2</td>\n",
       "      <td>1392</td>\n",
       "      <td>1</td>\n",
       "      <td>3</td>\n",
       "      <td>4</td>\n",
       "      <td>Life Sciences</td>\n",
       "      <td>4</td>\n",
       "      <td>Female</td>\n",
       "      <td>...</td>\n",
       "      <td>3</td>\n",
       "      <td>3</td>\n",
       "      <td>0</td>\n",
       "      <td>8</td>\n",
       "      <td>3</td>\n",
       "      <td>3</td>\n",
       "      <td>8</td>\n",
       "      <td>7</td>\n",
       "      <td>3</td>\n",
       "      <td>0</td>\n",
       "    </tr>\n",
       "    <tr>\n",
       "      <th>4</th>\n",
       "      <td>27</td>\n",
       "      <td>False</td>\n",
       "      <td>1</td>\n",
       "      <td>591</td>\n",
       "      <td>1</td>\n",
       "      <td>2</td>\n",
       "      <td>1</td>\n",
       "      <td>Medical</td>\n",
       "      <td>1</td>\n",
       "      <td>Male</td>\n",
       "      <td>...</td>\n",
       "      <td>3</td>\n",
       "      <td>4</td>\n",
       "      <td>1</td>\n",
       "      <td>6</td>\n",
       "      <td>3</td>\n",
       "      <td>3</td>\n",
       "      <td>2</td>\n",
       "      <td>2</td>\n",
       "      <td>2</td>\n",
       "      <td>2</td>\n",
       "    </tr>\n",
       "    <tr>\n",
       "      <th>...</th>\n",
       "      <td>...</td>\n",
       "      <td>...</td>\n",
       "      <td>...</td>\n",
       "      <td>...</td>\n",
       "      <td>...</td>\n",
       "      <td>...</td>\n",
       "      <td>...</td>\n",
       "      <td>...</td>\n",
       "      <td>...</td>\n",
       "      <td>...</td>\n",
       "      <td>...</td>\n",
       "      <td>...</td>\n",
       "      <td>...</td>\n",
       "      <td>...</td>\n",
       "      <td>...</td>\n",
       "      <td>...</td>\n",
       "      <td>...</td>\n",
       "      <td>...</td>\n",
       "      <td>...</td>\n",
       "      <td>...</td>\n",
       "      <td>...</td>\n",
       "    </tr>\n",
       "    <tr>\n",
       "      <th>1465</th>\n",
       "      <td>36</td>\n",
       "      <td>False</td>\n",
       "      <td>2</td>\n",
       "      <td>884</td>\n",
       "      <td>1</td>\n",
       "      <td>23</td>\n",
       "      <td>2</td>\n",
       "      <td>Medical</td>\n",
       "      <td>3</td>\n",
       "      <td>Male</td>\n",
       "      <td>...</td>\n",
       "      <td>3</td>\n",
       "      <td>3</td>\n",
       "      <td>1</td>\n",
       "      <td>17</td>\n",
       "      <td>3</td>\n",
       "      <td>3</td>\n",
       "      <td>5</td>\n",
       "      <td>2</td>\n",
       "      <td>0</td>\n",
       "      <td>3</td>\n",
       "    </tr>\n",
       "    <tr>\n",
       "      <th>1466</th>\n",
       "      <td>39</td>\n",
       "      <td>False</td>\n",
       "      <td>1</td>\n",
       "      <td>613</td>\n",
       "      <td>1</td>\n",
       "      <td>6</td>\n",
       "      <td>1</td>\n",
       "      <td>Medical</td>\n",
       "      <td>4</td>\n",
       "      <td>Male</td>\n",
       "      <td>...</td>\n",
       "      <td>3</td>\n",
       "      <td>1</td>\n",
       "      <td>1</td>\n",
       "      <td>9</td>\n",
       "      <td>5</td>\n",
       "      <td>3</td>\n",
       "      <td>7</td>\n",
       "      <td>7</td>\n",
       "      <td>1</td>\n",
       "      <td>7</td>\n",
       "    </tr>\n",
       "    <tr>\n",
       "      <th>1467</th>\n",
       "      <td>27</td>\n",
       "      <td>False</td>\n",
       "      <td>1</td>\n",
       "      <td>155</td>\n",
       "      <td>1</td>\n",
       "      <td>4</td>\n",
       "      <td>3</td>\n",
       "      <td>Life Sciences</td>\n",
       "      <td>2</td>\n",
       "      <td>Male</td>\n",
       "      <td>...</td>\n",
       "      <td>4</td>\n",
       "      <td>2</td>\n",
       "      <td>1</td>\n",
       "      <td>6</td>\n",
       "      <td>0</td>\n",
       "      <td>3</td>\n",
       "      <td>6</td>\n",
       "      <td>2</td>\n",
       "      <td>0</td>\n",
       "      <td>3</td>\n",
       "    </tr>\n",
       "    <tr>\n",
       "      <th>1468</th>\n",
       "      <td>49</td>\n",
       "      <td>False</td>\n",
       "      <td>2</td>\n",
       "      <td>1023</td>\n",
       "      <td>0</td>\n",
       "      <td>2</td>\n",
       "      <td>3</td>\n",
       "      <td>Medical</td>\n",
       "      <td>4</td>\n",
       "      <td>Male</td>\n",
       "      <td>...</td>\n",
       "      <td>3</td>\n",
       "      <td>4</td>\n",
       "      <td>0</td>\n",
       "      <td>17</td>\n",
       "      <td>3</td>\n",
       "      <td>2</td>\n",
       "      <td>9</td>\n",
       "      <td>6</td>\n",
       "      <td>0</td>\n",
       "      <td>8</td>\n",
       "    </tr>\n",
       "    <tr>\n",
       "      <th>1469</th>\n",
       "      <td>34</td>\n",
       "      <td>False</td>\n",
       "      <td>1</td>\n",
       "      <td>628</td>\n",
       "      <td>1</td>\n",
       "      <td>8</td>\n",
       "      <td>3</td>\n",
       "      <td>Medical</td>\n",
       "      <td>2</td>\n",
       "      <td>Male</td>\n",
       "      <td>...</td>\n",
       "      <td>3</td>\n",
       "      <td>1</td>\n",
       "      <td>0</td>\n",
       "      <td>6</td>\n",
       "      <td>3</td>\n",
       "      <td>4</td>\n",
       "      <td>4</td>\n",
       "      <td>3</td>\n",
       "      <td>1</td>\n",
       "      <td>2</td>\n",
       "    </tr>\n",
       "  </tbody>\n",
       "</table>\n",
       "<p>1470 rows × 31 columns</p>\n",
       "</div>"
      ],
      "text/plain": [
       "      Age  Attrition  BusinessTravel  DailyRate  Department  DistanceFromHome  \\\n",
       "0      41       True               1       1102           0                 1   \n",
       "1      49      False               2        279           1                 8   \n",
       "2      37       True               1       1373           1                 2   \n",
       "3      33      False               2       1392           1                 3   \n",
       "4      27      False               1        591           1                 2   \n",
       "...   ...        ...             ...        ...         ...               ...   \n",
       "1465   36      False               2        884           1                23   \n",
       "1466   39      False               1        613           1                 6   \n",
       "1467   27      False               1        155           1                 4   \n",
       "1468   49      False               2       1023           0                 2   \n",
       "1469   34      False               1        628           1                 8   \n",
       "\n",
       "      Education EducationField  EnvironmentSatisfaction  Gender  ...  \\\n",
       "0             2  Life Sciences                        2  Female  ...   \n",
       "1             1  Life Sciences                        3    Male  ...   \n",
       "2             2          Other                        4    Male  ...   \n",
       "3             4  Life Sciences                        4  Female  ...   \n",
       "4             1        Medical                        1    Male  ...   \n",
       "...         ...            ...                      ...     ...  ...   \n",
       "1465          2        Medical                        3    Male  ...   \n",
       "1466          1        Medical                        4    Male  ...   \n",
       "1467          3  Life Sciences                        2    Male  ...   \n",
       "1468          3        Medical                        4    Male  ...   \n",
       "1469          3        Medical                        2    Male  ...   \n",
       "\n",
       "      PerformanceRating  RelationshipSatisfaction  StockOptionLevel  \\\n",
       "0                     3                         1                 0   \n",
       "1                     4                         4                 1   \n",
       "2                     3                         2                 0   \n",
       "3                     3                         3                 0   \n",
       "4                     3                         4                 1   \n",
       "...                 ...                       ...               ...   \n",
       "1465                  3                         3                 1   \n",
       "1466                  3                         1                 1   \n",
       "1467                  4                         2                 1   \n",
       "1468                  3                         4                 0   \n",
       "1469                  3                         1                 0   \n",
       "\n",
       "     TotalWorkingYears  TrainingTimesLastYear WorkLifeBalance  YearsAtCompany  \\\n",
       "0                    8                      0               1               6   \n",
       "1                   10                      3               3              10   \n",
       "2                    7                      3               3               0   \n",
       "3                    8                      3               3               8   \n",
       "4                    6                      3               3               2   \n",
       "...                ...                    ...             ...             ...   \n",
       "1465                17                      3               3               5   \n",
       "1466                 9                      5               3               7   \n",
       "1467                 6                      0               3               6   \n",
       "1468                17                      3               2               9   \n",
       "1469                 6                      3               4               4   \n",
       "\n",
       "      YearsInCurrentRole  YearsSinceLastPromotion  YearsWithCurrManager  \n",
       "0                      4                        0                     5  \n",
       "1                      7                        1                     7  \n",
       "2                      0                        0                     0  \n",
       "3                      7                        3                     0  \n",
       "4                      2                        2                     2  \n",
       "...                  ...                      ...                   ...  \n",
       "1465                   2                        0                     3  \n",
       "1466                   7                        1                     7  \n",
       "1467                   2                        0                     3  \n",
       "1468                   6                        0                     8  \n",
       "1469                   3                        1                     2  \n",
       "\n",
       "[1470 rows x 31 columns]"
      ]
     },
     "execution_count": 3,
     "metadata": {},
     "output_type": "execute_result"
    }
   ],
   "source": [
    "df = pd.read_csv('C:\\\\Users\\\\jk\\\\Desktop\\\\data science - infoshare\\\\projekt_SQL\\\\jdszr4-edc\\\\2-projekt-python\\\\dataset-normalized.csv')\n",
    "df"
   ]
  },
  {
   "cell_type": "code",
   "execution_count": 4,
   "metadata": {},
   "outputs": [
    {
     "data": {
      "text/plain": [
       "{'Life Sciences': 606,\n",
       " 'Medical': 464,\n",
       " 'Marketing': 159,\n",
       " 'Technical Degree': 132,\n",
       " 'Other': 82,\n",
       " 'Human Resources': 27}"
      ]
     },
     "execution_count": 4,
     "metadata": {},
     "output_type": "execute_result"
    }
   ],
   "source": [
    "eductaion_field_dict = dict(df.EducationField.value_counts())\n",
    "eductaion_field_dict"
   ]
  },
  {
   "cell_type": "code",
   "execution_count": 5,
   "metadata": {},
   "outputs": [
    {
     "data": {
      "text/plain": [
       "{3: 572, 4: 398, 2: 282, 1: 170, 5: 48}"
      ]
     },
     "execution_count": 5,
     "metadata": {},
     "output_type": "execute_result"
    }
   ],
   "source": [
    "education_levels_dict = dict(df.Education.value_counts())\n",
    "education_levels_dict"
   ]
  },
  {
   "cell_type": "code",
   "execution_count": 6,
   "metadata": {},
   "outputs": [
    {
     "data": {
      "text/plain": [
       "['Life Sciences',\n",
       " 'Medical',\n",
       " 'Marketing',\n",
       " 'Technical Degree',\n",
       " 'Other',\n",
       " 'Human Resources']"
      ]
     },
     "execution_count": 6,
     "metadata": {},
     "output_type": "execute_result"
    }
   ],
   "source": [
    "eductaion_field = list(eductaion_field_dict.keys())\n",
    "eductaion_field"
   ]
  },
  {
   "cell_type": "code",
   "execution_count": 7,
   "metadata": {},
   "outputs": [
    {
     "data": {
      "text/plain": [
       "[3, 4, 2, 1, 5]"
      ]
     },
     "execution_count": 7,
     "metadata": {},
     "output_type": "execute_result"
    }
   ],
   "source": [
    "education_levels = list(education_levels_dict.keys())\n",
    "education_levels"
   ]
  },
  {
   "cell_type": "code",
   "execution_count": 8,
   "metadata": {},
   "outputs": [
    {
     "name": "stdout",
     "output_type": "stream",
     "text": [
      "Number of people educated in the field of Life Sciences on each eductaion level: \n",
      "3    233\n",
      "4    173\n",
      "2    116\n",
      "1     67\n",
      "5     17\n",
      "Name: Education, dtype: int64\n",
      "Number of people educated in the field of Medical on each eductaion level: \n",
      "3    183\n",
      "4    104\n",
      "2     99\n",
      "1     63\n",
      "5     15\n",
      "Name: Education, dtype: int64\n",
      "Number of people educated in the field of Marketing on each eductaion level: \n",
      "3    59\n",
      "4    52\n",
      "2    24\n",
      "1    14\n",
      "5    10\n",
      "Name: Education, dtype: int64\n",
      "Number of people educated in the field of Technical Degree on each eductaion level: \n",
      "3    57\n",
      "4    31\n",
      "2    22\n",
      "1    19\n",
      "5     3\n",
      "Name: Education, dtype: int64\n",
      "Number of people educated in the field of Other on each eductaion level: \n",
      "4    33\n",
      "3    24\n",
      "2    19\n",
      "1     5\n",
      "5     1\n",
      "Name: Education, dtype: int64\n",
      "Number of people educated in the field of Human Resources on each eductaion level: \n",
      "3    16\n",
      "4     5\n",
      "5     2\n",
      "2     2\n",
      "1     2\n",
      "Name: Education, dtype: int64\n"
     ]
    }
   ],
   "source": [
    "for education in eductaion_field:\n",
    "    vc = df[df['EducationField'] == education]['Education'].value_counts()\n",
    "    print(f'Number of people educated in the field of {education} on each eductaion level: \\n{vc}')"
   ]
  },
  {
   "cell_type": "code",
   "execution_count": 9,
   "metadata": {},
   "outputs": [],
   "source": [
    "def plot_eductaion_salary(s: int, education_field, eductaion_level):\n",
    "    \n",
    "    edu_dict = dict(df[(df['EducationField'] == education_field) \n",
    "                       & (df['Education'] == eductaion_level)]['MonthlyIncome'].describe())\n",
    "    \n",
    "    employees = edu_dict['count']\n",
    "    less = df[(df['EducationField'] == education_field) & (df['Education'] == eductaion_level) \n",
    "              & (df['MonthlyIncome'] < s)]['MonthlyIncome'].count()\n",
    "    more = df[(df['EducationField'] == education_field) & (df['Education'] == eductaion_level)\n",
    "              & (df['MonthlyIncome'] > s)]['MonthlyIncome'].count()\n",
    "    less_p = round(100 * less / employees, 2)\n",
    "    more_p = round(100 * more / employees, 2)\n",
    "    print(f'{less_p}% people having eductaion in {education_field} on level {eductaion_level} earns less than you,'\n",
    "          f' {more_p}% of them earns more.')\n",
    "    \n",
    "    var = st.variation(df[(df['EducationField'] == education_field) \n",
    "                          & (df['Education'] == eductaion_level)]['MonthlyIncome'])\n",
    "    \n",
    "    if var > 0.15 and edu_dict['count'] >= 15:\n",
    "        \n",
    "        if s <= edu_dict['25%']:\n",
    "            salary = df[(df['EducationField'] == education_field) \n",
    "                        & (df['Education'] == eductaion_level) \n",
    "                        & (df['MonthlyIncome'] <= edu_dict['25%'])]['MonthlyIncome']\n",
    "            plot_title = 'Your salary compared to first quartile.'\n",
    "            \n",
    "        elif s <= edu_dict['50%']:\n",
    "            salary = df[(df['EducationField'] == education_field) \n",
    "                        & (df['Education'] == eductaion_level) \n",
    "                        & (df['MonthlyIncome'] <= edu_dict['50%']) \n",
    "                        & (df['MonthlyIncome'] > edu_dict['25%'])]['MonthlyIncome']\n",
    "            plot_title = 'Your salary compared to second quartile.'\n",
    "            \n",
    "        elif s <= edu_dict['75%']:\n",
    "            salary = df[(df['EducationField'] == education_field) \n",
    "                        & (df['Education'] == eductaion_level)\n",
    "                        & (df['MonthlyIncome'] <= edu_dict['75%']) \n",
    "                        & (df['MonthlyIncome'] > edu_dict['50%'])]['MonthlyIncome']\n",
    "            plot_title = 'Your salary compared to third quartile.'\n",
    "        else:\n",
    "            salary = df[(df['EducationField'] == education_field) \n",
    "                        & (df['Education'] == eductaion_level)\n",
    "                        & (df['MonthlyIncome'] > edu_dict['75%'])]['MonthlyIncome']\n",
    "            plot_title = 'Your salary compared to fourth quartile.'\n",
    "        \n",
    "        plt.subplots(figsize=(8, 12))\n",
    "        \n",
    "        plt.subplot(211)\n",
    "        sns.histplot(data=salary, bins=10, kde=True)\n",
    "        plt.axvline(x=s, color='r', linestyle='-', linewidth=2)\n",
    "        plt.title(plot_title)\n",
    "        \n",
    "        plt.subplot(212)\n",
    "        gen_sal = df[(df['EducationField'] == education_field) & (df['Education'] == eductaion_level)]['MonthlyIncome']\n",
    "        gen_title = 'Your salary compared to all of the employees with the same level of eductaion in the same eduction field.'\n",
    "        sns.histplot(data=gen_sal, bins=10, kde=True)\n",
    "        plt.axvline(x=s, color='r', linestyle='-', linewidth=2)\n",
    "        plt.title(gen_title)\n",
    "    \n",
    "    else:\n",
    "        print(f'Not enough employees in database to plot a comparison. Comparing now to all of the employees'\n",
    "              f' having education in {education_field}.')\n",
    "        \n",
    "        gen_sal = df[(df['EducationField'] == education_field)]['MonthlyIncome']\n",
    "        gen_title = 'Your salary compared to all of the employees with your eductaion.'\n",
    "        sns.histplot(data=gen_sal, bins=10, kde=True)\n",
    "        plt.axvline(x=s, color='r', linestyle='-', linewidth=2)\n",
    "        plt.title(gen_title)"
   ]
  },
  {
   "cell_type": "code",
   "execution_count": 35,
   "metadata": {},
   "outputs": [
    {
     "name": "stdout",
     "output_type": "stream",
     "text": [
      "53.33% people having eductaion in Medical on level 5 earns less than you, 46.67% of them earns more.\n"
     ]
    },
    {
     "data": {
      "image/png": "[encoded data removed]",
      "text/plain": [
       "<Figure size 576x864 with 2 Axes>"
      ]
     },
     "metadata": {
      "needs_background": "light"
     },
     "output_type": "display_data"
    }
   ],
   "source": [
    "plot_eductaion_salary(8000, 'Medical', 5)"
   ]
  },
  {
   "cell_type": "code",
   "execution_count": 12,
   "metadata": {},
   "outputs": [],
   "source": [
    "def plot_eductaion_job_level(s: int, education_field, eductaion_level):\n",
    "    \n",
    "    edu_dict = dict(df[(df['EducationField'] == education_field)\n",
    "                       & (df['Education'] == eductaion_level)]['JobLevel'].describe())\n",
    "    \n",
    "    employees = edu_dict['count']\n",
    "    less = df[(df['EducationField'] == education_field)\n",
    "              & (df['Education'] == eductaion_level) \n",
    "              & (df['JobLevel'] < s)]['JobLevel'].count()\n",
    "    more = df[(df['EducationField'] == education_field) \n",
    "              & (df['Education'] == eductaion_level) \n",
    "              & (df['JobLevel'] > s)]['JobLevel'].count()\n",
    "    less_p = round(100 * less / employees, 2)\n",
    "    more_p = round(100 * more / employees, 2)\n",
    "    print(f'{less_p}% people having eductaion in {education_field} on level {eductaion_level} are hired on lower job level,'\n",
    "          f' {more_p}% of them is hired on higer job level.')\n",
    "    \n",
    "    var = st.variation(df[(df['EducationField'] == education_field) \n",
    "                          & (df['Education'] == eductaion_level)]['JobLevel'])\n",
    "    \n",
    "    if var > 0.10 and edu_dict['count'] >= 15:\n",
    "        \n",
    "        if s <= edu_dict['25%']:\n",
    "            job_lvl = df[(df['EducationField'] == education_field) \n",
    "                         & (df['Education'] == eductaion_level)  \n",
    "                         & (df['JobLevel'] <= edu_dict['25%'])]['JobLevel']\n",
    "            plot_title = 'Your job level compared to first quartile.'\n",
    "        elif s <= edu_dict['50%']:\n",
    "            job_lvl = df[(df['EducationField'] == education_field) \n",
    "                         & (df['Education'] == eductaion_level) \n",
    "                         & (df['JobLevel'] <= edu_dict['50%']) \n",
    "                         & (df['JobLevel'] > edu_dict['25%'])]['JobLevel']\n",
    "            plot_title = 'Your job level compared to second quartile.'\n",
    "        elif s <= edu_dict['75%']:\n",
    "            job_lvl = df[(df['EducationField'] == education_field) \n",
    "                         & (df['Education'] == eductaion_level) \n",
    "                         & (df['JobLevel'] <= edu_dict['75%']) \n",
    "                         & (df['JobLevel'] > edu_dict['50%'])]['JobLevel']\n",
    "            plot_title = 'Your job level compared to third quartile.'\n",
    "        else:\n",
    "            job_lvl = df[(df['EducationField'] == education_field) \n",
    "                         & (df['Education'] == eductaion_level)\n",
    "                         & (df['JobLevel'] > edu_dict['75%'])]['JobLevel']\n",
    "            plot_title = 'Your job level compared to fourth quartile.'\n",
    "        \n",
    "  \n",
    "        plt.subplots(figsize=(8, 10))\n",
    "       \n",
    "        plt.subplot(211)\n",
    "        sns.histplot(data=job_lvl, bins=4, cumulative=True, kde=True)\n",
    "        plt.axvline(x=s, color='r', linestyle='-', linewidth=2)\n",
    "        plt.title(plot_title)\n",
    "        \n",
    "        plt.subplot(212)\n",
    "        gen_job_lvl = df[(df['EducationField'] == education_field) \n",
    "                         & (df['Education'] == eductaion_level)]['JobLevel']\n",
    "        gen_title = 'Your job level compared to all of the employees with the same level of eductaion in the same eduction field.'\n",
    "        sns.histplot(data=gen_job_lvl, bins=4, cumulative=True, kde=True)\n",
    "        plt.axvline(x=s, color='r', linestyle='-', linewidth=2)\n",
    "        plt.title(gen_title)\n",
    "    \n",
    "    else:\n",
    "        print(f'Not enough employees in database to plot a comparison. Comparing now to all of the employees '\n",
    "              f'having education in {education_field}.')\n",
    "        \n",
    "        gen_job_lvl = df[(df['EducationField'] == education_field)]['JobLevel']\n",
    "        gen_title = 'Your job level compared to all of the employees with your eductaion.'\n",
    "        sns.histplot(data=gen_job_lvl, bins=4, cumulative=True, kde=True)\n",
    "        plt.axvline(x=s, color='r', linestyle='-', linewidth=2)\n",
    "        plt.title(gen_title)"
   ]
  },
  {
   "cell_type": "code",
   "execution_count": 34,
   "metadata": {},
   "outputs": [
    {
     "name": "stdout",
     "output_type": "stream",
     "text": [
      "13.33% people having eductaion in Medical on level 5 are hired on lower job level, 46.67% of them is hired on higer job level.\n"
     ]
    },
    {
     "data": {
      "image/png": "[encoded data removed]",
      "text/plain": [
       "<Figure size 576x720 with 2 Axes>"
      ]
     },
     "metadata": {
      "needs_background": "light"
     },
     "output_type": "display_data"
    }
   ],
   "source": [
    "plot_eductaion_job_level(2, 'Medical', 5)"
   ]
  },
  {
   "cell_type": "code",
   "execution_count": 19,
   "metadata": {},
   "outputs": [],
   "source": [
    "def plot_education_attrition(education_field: str, eductaion_level: int):\n",
    "    df1 = df[(df['EducationField'] == education_field) & (df['Education'] == eductaion_level)]\n",
    "    \n",
    "    if df1['Attrition'].count() > 0 and len(df1['Attrition'].unique()) == 2:\n",
    "        print(\"Showing Attrition statistic for people with the same eductaion level on the same education field\")\n",
    "        sns.displot(df1, x= 'EducationField', hue= 'Attrition', hue_order=[True, False])\n",
    "    else:\n",
    "        print(\"Not enough data for your education level in indicated education field. Shoiwng general data for your field\")\n",
    "        sns.displot(x='Education', hue='Attrition', data=df[df['EducationField'] == education_field], \n",
    "                    hue_order=[True, False])"
   ]
  },
  {
   "cell_type": "code",
   "execution_count": 29,
   "metadata": {},
   "outputs": [
    {
     "name": "stdout",
     "output_type": "stream",
     "text": [
      "Not enough data for your education level in indicated education field. Shoiwng general data for your field\n"
     ]
    },
    {
     "data": {
      "image/png": "[encoded data removed]",
      "text/plain": [
       "<Figure size 421.25x360 with 1 Axes>"
      ]
     },
     "metadata": {
      "needs_background": "light"
     },
     "output_type": "display_data"
    }
   ],
   "source": [
    "plot_education_attrition('Medical', 5)"
   ]
  },
  {
   "cell_type": "code",
   "execution_count": 230,
   "metadata": {},
   "outputs": [
    {
     "name": "stdout",
     "output_type": "stream",
     "text": [
      "Not enough data for your education level in indicated education field. Shoiwng general data for your field\n"
     ]
    },
    {
     "data": {
      "image/png": "[encoded data removed]",
      "text/plain": [
       "<Figure size 426.35x360 with 1 Axes>"
      ]
     },
     "metadata": {},
     "output_type": "display_data"
    }
   ],
   "source": [
    "plot_attrition('Medical', 5)"
   ]
  },
  {
   "cell_type": "code",
   "execution_count": 24,
   "metadata": {},
   "outputs": [],
   "source": [
    "def plot_education_overtme(education_field: str, education_level: int):\n",
    "    df1 = df[(df['EducationField'] == education_field) & (df['Education'] == education_level)]\n",
    "    \n",
    "    if df1['OverTime'].count() > 0 and len(df1['OverTime'].unique()) == 2:\n",
    "        print(\"Showing how many people with the same eductaion level on the same education field work over time\")\n",
    "        sns.displot(df1, x= 'EducationField', hue= 'OverTime', hue_order=[True, False])\n",
    "    else:\n",
    "        print(\"Not enough data for your education level in indicated education field. Shoiwng general data for your field\")\n",
    "        sns.displot(x='Education', hue='OverTime', data=df[df['EducationField'] == education_field], \n",
    "                    hue_order=[True, False])"
   ]
  },
  {
   "cell_type": "code",
   "execution_count": 28,
   "metadata": {},
   "outputs": [
    {
     "name": "stdout",
     "output_type": "stream",
     "text": [
      "Showing how many people with the same eductaion level on the same education field work over time\n"
     ]
    },
    {
     "data": {
      "image/png": "[encoded data removed]",
      "text/plain": [
       "<Figure size 421.25x360 with 1 Axes>"
      ]
     },
     "metadata": {
      "needs_background": "light"
     },
     "output_type": "display_data"
    }
   ],
   "source": [
    "plot_education_overtme('Medical', 5)"
   ]
  },
  {
   "cell_type": "code",
   "execution_count": 37,
   "metadata": {},
   "outputs": [],
   "source": [
    "def plot_satisfaction_education(js: int, rs: int, es:int, education_field: str, education_level: int):\n",
    "    \n",
    "#     wykres jak wypada podana pensja na tle pracownikow tej samej plci\n",
    "    df1 = df[(df['EducationField']==education_field) & (df['Education'] == education_level)]\n",
    "    job_sat_col = df1['JobSatisfaction'].mean()\n",
    "    relationship_sat_col = df1['RelationshipSatisfaction'].mean()\n",
    "    environment_sat_col = df1['EnvironmentSatisfaction'].mean()\n",
    "    \n",
    "    job_sat_you = js\n",
    "    relationship_sat_you = rs\n",
    "    environment_sat_you = es     \n",
    "        \n",
    "    if len(df1) >2: \n",
    "        w=0.2\n",
    "        x = ['job satisfaction', 'relationship satisfaction', 'environment satisafction']\n",
    "        you = [job_sat_you, relationship_sat_you, environment_sat_you]\n",
    "        others = [job_sat_col, relationship_sat_col, environment_sat_col]\n",
    "          \n",
    "        bar1 = np.arange(len(x))\n",
    "        bar2 = [i+w for i in bar1]\n",
    "\n",
    "\n",
    "        plt.bar(bar1, you, w, label= 'you')\n",
    "        plt.bar(bar2, others, w, label='others')\n",
    "\n",
    "        # Add some text for labels, title and custom x-axis tick labels, etc.\n",
    "        plt.ylabel('Satsifaction Level')\n",
    "        plt.xlabel('Satisfaction')\n",
    "        plt.title('Your satisafction levels compared to satisfaction levels of people with the same level' \n",
    "                  ' of education in the same education field')\n",
    "        plt.xticks(bar1+w/2, x)\n",
    "        plt.legend()\n",
    "        plt.show()\n",
    "    else:\n",
    "        print('Not enough data to show comparison')"
   ]
  },
  {
   "cell_type": "code",
   "execution_count": 38,
   "metadata": {},
   "outputs": [
    {
     "data": {
      "image/png": "[encoded data removed]",
      "text/plain": [
       "<Figure size 432x288 with 1 Axes>"
      ]
     },
     "metadata": {
      "needs_background": "light"
     },
     "output_type": "display_data"
    }
   ],
   "source": [
    "plot_satisfaction_education(2, 3, 4, 'Marketing', 4)"
   ]
  },
  {
   "cell_type": "code",
   "execution_count": 306,
   "metadata": {},
   "outputs": [
    {
     "name": "stdout",
     "output_type": "stream",
     "text": [
      "Not enough data to show comparison\n"
     ]
    }
   ],
   "source": [
    "plot_satisfaction_education(2, 3, 4, 'Human Resources', 1)"
   ]
  }
 ],
 "metadata": {
  "kernelspec": {
   "display_name": "Python 3",
   "language": "python",
   "name": "python3"
  },
  "language_info": {
   "codemirror_mode": {
    "name": "ipython",
    "version": 3
   },
   "file_extension": ".py",
   "mimetype": "text/x-python",
   "name": "python",
   "nbconvert_exporter": "python",
   "pygments_lexer": "ipython3",
   "version": "3.8.5"
  }
 },
 "nbformat": 4,
 "nbformat_minor": 4
}
